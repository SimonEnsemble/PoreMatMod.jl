{
 "cells": [
  {
   "cell_type": "code",
   "execution_count": 1,
   "metadata": {},
   "outputs": [],
   "source": [
    "using PorousMaterials, LightGraphs, DataFrames, Logging, LightGraphs.LinAlg\n",
    "global_logger(ConsoleLogger(stdout, Logging.Debug))\n",
    "include(\"src/ullmann.jl\")\n",
    "include(\"src/moiety.jl\")\n",
    ";"
   ]
  },
  {
   "cell_type": "code",
   "execution_count": 2,
   "metadata": {},
   "outputs": [
    {
     "data": {
      "text/latex": [
       "\\begin{verbatim}\n",
       "function refine_M!(As::Array{Bool, 2}, Ag::Array{Bool, 2}, M::Array{Bool, 2})\n",
       "Performs Ullman algorithm refinement until M is stable\n",
       "\\end{verbatim}\n"
      ],
      "text/markdown": [
       "```\n",
       "function refine_M!(As::Array{Bool, 2}, Ag::Array{Bool, 2}, M::Array{Bool, 2})\n",
       "Performs Ullman algorithm refinement until M is stable\n",
       "```\n"
      ],
      "text/plain": [
       "\u001b[36m  function refine_M!(As::Array{Bool, 2}, Ag::Array{Bool, 2}, M::Array{Bool, 2})\u001b[39m\n",
       "\u001b[36m  Performs Ullman algorithm refinement until M is stable\u001b[39m"
      ]
     },
     "execution_count": 2,
     "metadata": {},
     "output_type": "execute_result"
    }
   ],
   "source": [
    "?Ullmann.refine_M!"
   ]
  },
  {
   "cell_type": "code",
   "execution_count": 3,
   "metadata": {},
   "outputs": [
    {
     "name": "stdout",
     "output_type": "stream",
     "text": [
      "\u001b[34m\u001b[1m┌ \u001b[22m\u001b[39m\u001b[34m\u001b[1mDebug: \u001b[22m\u001b[39mGraph\n",
      "\u001b[34m\u001b[1m│ \u001b[22m\u001b[39m  xtal.atoms.species =\n",
      "\u001b[34m\u001b[1m│ \u001b[22m\u001b[39m   5-element Array{Symbol,1}:\n",
      "\u001b[34m\u001b[1m│ \u001b[22m\u001b[39m    :C\n",
      "\u001b[34m\u001b[1m│ \u001b[22m\u001b[39m    :Cl\n",
      "\u001b[34m\u001b[1m│ \u001b[22m\u001b[39m    :H\n",
      "\u001b[34m\u001b[1m│ \u001b[22m\u001b[39m    :H\n",
      "\u001b[34m\u001b[1m│ \u001b[22m\u001b[39m    :Cl\n",
      "\u001b[34m\u001b[1m│ \u001b[22m\u001b[39m  xtal.bonds = {5, 4} undirected simple Int64 graph\n",
      "\u001b[34m\u001b[1m└ \u001b[22m\u001b[39m\u001b[90m@ Main In[3]:2\u001b[39m\n",
      "\u001b[34m\u001b[1m┌ \u001b[22m\u001b[39m\u001b[34m\u001b[1mDebug: \u001b[22m\u001b[39mSubraph\n",
      "\u001b[34m\u001b[1m│ \u001b[22m\u001b[39m  moty.atoms.species =\n",
      "\u001b[34m\u001b[1m│ \u001b[22m\u001b[39m   3-element Array{Symbol,1}:\n",
      "\u001b[34m\u001b[1m│ \u001b[22m\u001b[39m    :C\n",
      "\u001b[34m\u001b[1m│ \u001b[22m\u001b[39m    :H\n",
      "\u001b[34m\u001b[1m│ \u001b[22m\u001b[39m    :H\n",
      "\u001b[34m\u001b[1m│ \u001b[22m\u001b[39m  moty.bonds = {3, 2} undirected simple Int64 graph\n",
      "\u001b[34m\u001b[1m└ \u001b[22m\u001b[39m\u001b[90m@ Main In[3]:4\u001b[39m\n"
     ]
    }
   ],
   "source": [
    "xtal = moiety(\"DCM\")\n",
    "@debug \"Graph\" xtal.atoms.species xtal.bonds\n",
    "moty = moiety(\"methylene\")\n",
    "@debug \"Subraph\" moty.atoms.species moty.bonds"
   ]
  },
  {
   "cell_type": "code",
   "execution_count": 4,
   "metadata": {},
   "outputs": [
    {
     "name": "stdout",
     "output_type": "stream",
     "text": [
      "\u001b[34m\u001b[1m┌ \u001b[22m\u001b[39m\u001b[34m\u001b[1mDebug: \u001b[22m\u001b[39mGraph metadata\n",
      "\u001b[34m\u001b[1m│ \u001b[22m\u001b[39m  Pg =\n",
      "\u001b[34m\u001b[1m│ \u001b[22m\u001b[39m   5×3 DataFrame\n",
      "\u001b[34m\u001b[1m│ \u001b[22m\u001b[39m   │ Row │ index │ species │ degree │\n",
      "\u001b[34m\u001b[1m│ \u001b[22m\u001b[39m   │     │ \u001b[90mInt64\u001b[39m │ \u001b[90mSymbol\u001b[39m  │ \u001b[90mInt64\u001b[39m  │\n",
      "\u001b[34m\u001b[1m│ \u001b[22m\u001b[39m   ├─────┼───────┼─────────┼────────┤\n",
      "\u001b[34m\u001b[1m│ \u001b[22m\u001b[39m   │ 1   │ 1     │ C       │ 4      │\n",
      "\u001b[34m\u001b[1m│ \u001b[22m\u001b[39m   │ 2   │ 2     │ Cl      │ 1      │\n",
      "\u001b[34m\u001b[1m│ \u001b[22m\u001b[39m   │ 3   │ 3     │ H       │ 1      │\n",
      "\u001b[34m\u001b[1m│ \u001b[22m\u001b[39m   │ 4   │ 4     │ H       │ 1      │\n",
      "\u001b[34m\u001b[1m│ \u001b[22m\u001b[39m   │ 5   │ 5     │ Cl      │ 1      │\n",
      "\u001b[34m\u001b[1m└ \u001b[22m\u001b[39m\u001b[90m@ Main In[4]:2\u001b[39m\n",
      "\u001b[34m\u001b[1m┌ \u001b[22m\u001b[39m\u001b[34m\u001b[1mDebug: \u001b[22m\u001b[39mSubgraph metadata\n",
      "\u001b[34m\u001b[1m│ \u001b[22m\u001b[39m  Ps =\n",
      "\u001b[34m\u001b[1m│ \u001b[22m\u001b[39m   3×3 DataFrame\n",
      "\u001b[34m\u001b[1m│ \u001b[22m\u001b[39m   │ Row │ index │ species │ degree │\n",
      "\u001b[34m\u001b[1m│ \u001b[22m\u001b[39m   │     │ \u001b[90mInt64\u001b[39m │ \u001b[90mSymbol\u001b[39m  │ \u001b[90mInt64\u001b[39m  │\n",
      "\u001b[34m\u001b[1m│ \u001b[22m\u001b[39m   ├─────┼───────┼─────────┼────────┤\n",
      "\u001b[34m\u001b[1m│ \u001b[22m\u001b[39m   │ 1   │ 1     │ C       │ 2      │\n",
      "\u001b[34m\u001b[1m│ \u001b[22m\u001b[39m   │ 2   │ 2     │ H       │ 1      │\n",
      "\u001b[34m\u001b[1m│ \u001b[22m\u001b[39m   │ 3   │ 3     │ H       │ 1      │\n",
      "\u001b[34m\u001b[1m└ \u001b[22m\u001b[39m\u001b[90m@ Main In[4]:4\u001b[39m\n",
      "\u001b[34m\u001b[1m┌ \u001b[22m\u001b[39m\u001b[34m\u001b[1mDebug: \u001b[22m\u001b[39mFinding M...\n",
      "\u001b[34m\u001b[1m└ \u001b[22m\u001b[39m\u001b[90m@ Main.Ullmann C:\\Users\\eahen\\.julia\\dev\\MOFfun.jl\\src\\ullmann.jl:31\u001b[39m\n",
      "\u001b[34m\u001b[1m┌ \u001b[22m\u001b[39m\u001b[34m\u001b[1mDebug: \u001b[22m\u001b[39m(1,1) 4 ≥ 2 && C == C : true)\n",
      "\u001b[34m\u001b[1m└ \u001b[22m\u001b[39m\u001b[90m@ Main.Ullmann C:\\Users\\eahen\\.julia\\dev\\MOFfun.jl\\src\\ullmann.jl:35\u001b[39m\n",
      "\u001b[34m\u001b[1m┌ \u001b[22m\u001b[39m\u001b[34m\u001b[1mDebug: \u001b[22m\u001b[39m(1,2) 1 ≥ 2 && Cl == C : false)\n",
      "\u001b[34m\u001b[1m└ \u001b[22m\u001b[39m\u001b[90m@ Main.Ullmann C:\\Users\\eahen\\.julia\\dev\\MOFfun.jl\\src\\ullmann.jl:35\u001b[39m\n",
      "\u001b[34m\u001b[1m┌ \u001b[22m\u001b[39m\u001b[34m\u001b[1mDebug: \u001b[22m\u001b[39m(1,3) 1 ≥ 2 && H == C : false)\n",
      "\u001b[34m\u001b[1m└ \u001b[22m\u001b[39m\u001b[90m@ Main.Ullmann C:\\Users\\eahen\\.julia\\dev\\MOFfun.jl\\src\\ullmann.jl:35\u001b[39m\n",
      "\u001b[34m\u001b[1m┌ \u001b[22m\u001b[39m\u001b[34m\u001b[1mDebug: \u001b[22m\u001b[39m(1,4) 1 ≥ 2 && H == C : false)\n",
      "\u001b[34m\u001b[1m└ \u001b[22m\u001b[39m\u001b[90m@ Main.Ullmann C:\\Users\\eahen\\.julia\\dev\\MOFfun.jl\\src\\ullmann.jl:35\u001b[39m\n",
      "\u001b[34m\u001b[1m┌ \u001b[22m\u001b[39m\u001b[34m\u001b[1mDebug: \u001b[22m\u001b[39m(1,5) 1 ≥ 2 && Cl == C : false)\n",
      "\u001b[34m\u001b[1m└ \u001b[22m\u001b[39m\u001b[90m@ Main.Ullmann C:\\Users\\eahen\\.julia\\dev\\MOFfun.jl\\src\\ullmann.jl:35\u001b[39m\n",
      "\u001b[34m\u001b[1m┌ \u001b[22m\u001b[39m\u001b[34m\u001b[1mDebug: \u001b[22m\u001b[39m(2,1) 4 ≥ 1 && C == H : false)\n",
      "\u001b[34m\u001b[1m└ \u001b[22m\u001b[39m\u001b[90m@ Main.Ullmann C:\\Users\\eahen\\.julia\\dev\\MOFfun.jl\\src\\ullmann.jl:35\u001b[39m\n",
      "\u001b[34m\u001b[1m┌ \u001b[22m\u001b[39m\u001b[34m\u001b[1mDebug: \u001b[22m\u001b[39m(2,2) 1 ≥ 1 && Cl == H : false)\n",
      "\u001b[34m\u001b[1m└ \u001b[22m\u001b[39m\u001b[90m@ Main.Ullmann C:\\Users\\eahen\\.julia\\dev\\MOFfun.jl\\src\\ullmann.jl:35\u001b[39m\n",
      "\u001b[34m\u001b[1m┌ \u001b[22m\u001b[39m\u001b[34m\u001b[1mDebug: \u001b[22m\u001b[39m(2,3) 1 ≥ 1 && H == H : true)\n",
      "\u001b[34m\u001b[1m└ \u001b[22m\u001b[39m\u001b[90m@ Main.Ullmann C:\\Users\\eahen\\.julia\\dev\\MOFfun.jl\\src\\ullmann.jl:35\u001b[39m\n",
      "\u001b[34m\u001b[1m┌ \u001b[22m\u001b[39m\u001b[34m\u001b[1mDebug: \u001b[22m\u001b[39m(2,4) 1 ≥ 1 && H == H : true)\n",
      "\u001b[34m\u001b[1m└ \u001b[22m\u001b[39m\u001b[90m@ Main.Ullmann C:\\Users\\eahen\\.julia\\dev\\MOFfun.jl\\src\\ullmann.jl:35\u001b[39m\n",
      "\u001b[34m\u001b[1m┌ \u001b[22m\u001b[39m\u001b[34m\u001b[1mDebug: \u001b[22m\u001b[39m(2,5) 1 ≥ 1 && Cl == H : false)\n",
      "\u001b[34m\u001b[1m└ \u001b[22m\u001b[39m\u001b[90m@ Main.Ullmann C:\\Users\\eahen\\.julia\\dev\\MOFfun.jl\\src\\ullmann.jl:35\u001b[39m\n",
      "\u001b[34m\u001b[1m┌ \u001b[22m\u001b[39m\u001b[34m\u001b[1mDebug: \u001b[22m\u001b[39m(3,1) 4 ≥ 1 && C == H : false)\n",
      "\u001b[34m\u001b[1m└ \u001b[22m\u001b[39m\u001b[90m@ Main.Ullmann C:\\Users\\eahen\\.julia\\dev\\MOFfun.jl\\src\\ullmann.jl:35\u001b[39m\n",
      "\u001b[34m\u001b[1m┌ \u001b[22m\u001b[39m\u001b[34m\u001b[1mDebug: \u001b[22m\u001b[39m(3,2) 1 ≥ 1 && Cl == H : false)\n",
      "\u001b[34m\u001b[1m└ \u001b[22m\u001b[39m\u001b[90m@ Main.Ullmann C:\\Users\\eahen\\.julia\\dev\\MOFfun.jl\\src\\ullmann.jl:35\u001b[39m\n",
      "\u001b[34m\u001b[1m┌ \u001b[22m\u001b[39m\u001b[34m\u001b[1mDebug: \u001b[22m\u001b[39m(3,3) 1 ≥ 1 && H == H : true)\n",
      "\u001b[34m\u001b[1m└ \u001b[22m\u001b[39m\u001b[90m@ Main.Ullmann C:\\Users\\eahen\\.julia\\dev\\MOFfun.jl\\src\\ullmann.jl:35\u001b[39m\n",
      "\u001b[34m\u001b[1m┌ \u001b[22m\u001b[39m\u001b[34m\u001b[1mDebug: \u001b[22m\u001b[39m(3,4) 1 ≥ 1 && H == H : true)\n",
      "\u001b[34m\u001b[1m└ \u001b[22m\u001b[39m\u001b[90m@ Main.Ullmann C:\\Users\\eahen\\.julia\\dev\\MOFfun.jl\\src\\ullmann.jl:35\u001b[39m\n",
      "\u001b[34m\u001b[1m┌ \u001b[22m\u001b[39m\u001b[34m\u001b[1mDebug: \u001b[22m\u001b[39m(3,5) 1 ≥ 1 && Cl == H : false)\n",
      "\u001b[34m\u001b[1m└ \u001b[22m\u001b[39m\u001b[90m@ Main.Ullmann C:\\Users\\eahen\\.julia\\dev\\MOFfun.jl\\src\\ullmann.jl:35\u001b[39m\n",
      "\u001b[34m\u001b[1m┌ \u001b[22m\u001b[39m\u001b[34m\u001b[1mDebug: \u001b[22m\u001b[39mM: Bool[1 0 0 0 0; 0 0 1 1 0; 0 0 1 1 0]\n",
      "\u001b[34m\u001b[1m└ \u001b[22m\u001b[39m\u001b[90m@ Main.Ullmann C:\\Users\\eahen\\.julia\\dev\\MOFfun.jl\\src\\ullmann.jl:39\u001b[39m\n",
      "\u001b[34m\u001b[1m┌ \u001b[22m\u001b[39m\u001b[34m\u001b[1mDebug: \u001b[22m\u001b[39mCorrespondence matrix\n",
      "\u001b[34m\u001b[1m│ \u001b[22m\u001b[39m  M =\n",
      "\u001b[34m\u001b[1m│ \u001b[22m\u001b[39m   3×5 Array{Bool,2}:\n",
      "\u001b[34m\u001b[1m│ \u001b[22m\u001b[39m    1  0  0  0  0\n",
      "\u001b[34m\u001b[1m│ \u001b[22m\u001b[39m    0  0  1  1  0\n",
      "\u001b[34m\u001b[1m│ \u001b[22m\u001b[39m    0  0  1  1  0\n",
      "\u001b[34m\u001b[1m└ \u001b[22m\u001b[39m\u001b[90m@ Main In[4]:6\u001b[39m\n"
     ]
    }
   ],
   "source": [
    "Pg = DataFrame(index = 1:nv(xtal.bonds), species = xtal.atoms.species, degree = degree(xtal.bonds))\n",
    "@debug \"Graph metadata\" Pg\n",
    "Ps = DataFrame(index = 1:nv(moty.bonds), species = moty.atoms.species, degree = degree(moty.bonds))\n",
    "@debug \"Subgraph metadata\" Ps\n",
    "M = Ullmann.correspondence_matrix(moty.bonds, Ps, xtal.bonds, Pg)\n",
    "@debug \"Correspondence matrix\" M"
   ]
  },
  {
   "cell_type": "code",
   "execution_count": 5,
   "metadata": {},
   "outputs": [
    {
     "data": {
      "text/plain": [
       "5×5 Array{Bool,2}:\n",
       " 0  1  1  1  1\n",
       " 1  0  0  0  0\n",
       " 1  0  0  0  0\n",
       " 1  0  0  0  0\n",
       " 1  0  0  0  0"
      ]
     },
     "execution_count": 5,
     "metadata": {},
     "output_type": "execute_result"
    }
   ],
   "source": [
    "As = Array{Bool}(LinAlg.adjacency_matrix(moty.bonds))\n",
    "Ag = Array{Bool}(LinAlg.adjacency_matrix(xtal.bonds))"
   ]
  },
  {
   "cell_type": "code",
   "execution_count": 6,
   "metadata": {},
   "outputs": [
    {
     "name": "stdout",
     "output_type": "stream",
     "text": [
      "\u001b[34m\u001b[1m┌ \u001b[22m\u001b[39m\u001b[34m\u001b[1mDebug: \u001b[22m\u001b[39mRefining M: Bool[1 0 0 0 0; 0 0 1 1 0; 0 0 1 1 0]\n",
      "\u001b[34m\u001b[1m└ \u001b[22m\u001b[39m\u001b[90m@ Main.Ullmann C:\\Users\\eahen\\.julia\\dev\\MOFfun.jl\\src\\ullmann.jl:132\u001b[39m\n",
      "\u001b[34m\u001b[1m┌ \u001b[22m\u001b[39m\u001b[34m\u001b[1mDebug: \u001b[22m\u001b[39mGetting candidate list for node 3 of graph\n",
      "\u001b[34m\u001b[1m└ \u001b[22m\u001b[39m\u001b[90m@ Main.Ullmann C:\\Users\\eahen\\.julia\\dev\\MOFfun.jl\\src\\ullmann.jl:69\u001b[39m\n",
      "\u001b[34m\u001b[1m┌ \u001b[22m\u001b[39m\u001b[34m\u001b[1mDebug: \u001b[22m\u001b[39mLogicals: Bool[0, 1, 1]\n",
      "\u001b[34m\u001b[1m└ \u001b[22m\u001b[39m\u001b[90m@ Main.Ullmann C:\\Users\\eahen\\.julia\\dev\\MOFfun.jl\\src\\ullmann.jl:77\u001b[39m\n",
      "\u001b[34m\u001b[1m┌ \u001b[22m\u001b[39m\u001b[34m\u001b[1mDebug: \u001b[22m\u001b[39mFinding neighbors of node 3.\n",
      "\u001b[34m\u001b[1m└ \u001b[22m\u001b[39m\u001b[90m@ Main.Ullmann C:\\Users\\eahen\\.julia\\dev\\MOFfun.jl\\src\\ullmann.jl:122\u001b[39m\n",
      "\u001b[34m\u001b[1m┌ \u001b[22m\u001b[39m\u001b[34m\u001b[1mDebug: \u001b[22m\u001b[39mGetting candidate list for node 1 of subgraph\n",
      "\u001b[34m\u001b[1m└ \u001b[22m\u001b[39m\u001b[90m@ Main.Ullmann C:\\Users\\eahen\\.julia\\dev\\MOFfun.jl\\src\\ullmann.jl:69\u001b[39m\n",
      "\u001b[34m\u001b[1m┌ \u001b[22m\u001b[39m\u001b[34m\u001b[1mDebug: \u001b[22m\u001b[39mLogicals: Bool[1, 0, 0, 0, 0]\n",
      "\u001b[34m\u001b[1m└ \u001b[22m\u001b[39m\u001b[90m@ Main.Ullmann C:\\Users\\eahen\\.julia\\dev\\MOFfun.jl\\src\\ullmann.jl:77\u001b[39m\n",
      "\u001b[34m\u001b[1m┌ \u001b[22m\u001b[39m\u001b[34m\u001b[1mDebug: \u001b[22m\u001b[39mFinding neighbors of node 2.\n",
      "\u001b[34m\u001b[1m└ \u001b[22m\u001b[39m\u001b[90m@ Main.Ullmann C:\\Users\\eahen\\.julia\\dev\\MOFfun.jl\\src\\ullmann.jl:122\u001b[39m\n",
      "\u001b[34m\u001b[1m┌ \u001b[22m\u001b[39m\u001b[34m\u001b[1mDebug: \u001b[22m\u001b[39mFinding neighbors of node 3.\n",
      "\u001b[34m\u001b[1m└ \u001b[22m\u001b[39m\u001b[90m@ Main.Ullmann C:\\Users\\eahen\\.julia\\dev\\MOFfun.jl\\src\\ullmann.jl:122\u001b[39m\n",
      "\u001b[34m\u001b[1m┌ \u001b[22m\u001b[39m\u001b[34m\u001b[1mDebug: \u001b[22m\u001b[39mGetting candidate list for node 1 of subgraph\n",
      "\u001b[34m\u001b[1m└ \u001b[22m\u001b[39m\u001b[90m@ Main.Ullmann C:\\Users\\eahen\\.julia\\dev\\MOFfun.jl\\src\\ullmann.jl:69\u001b[39m\n",
      "\u001b[34m\u001b[1m┌ \u001b[22m\u001b[39m\u001b[34m\u001b[1mDebug: \u001b[22m\u001b[39mLogicals: Bool[1, 0, 0, 0, 0]\n",
      "\u001b[34m\u001b[1m└ \u001b[22m\u001b[39m\u001b[90m@ Main.Ullmann C:\\Users\\eahen\\.julia\\dev\\MOFfun.jl\\src\\ullmann.jl:77\u001b[39m\n",
      "\u001b[34m\u001b[1m┌ \u001b[22m\u001b[39m\u001b[34m\u001b[1mDebug: \u001b[22m\u001b[39mFinding neighbors of node 3.\n",
      "\u001b[34m\u001b[1m└ \u001b[22m\u001b[39m\u001b[90m@ Main.Ullmann C:\\Users\\eahen\\.julia\\dev\\MOFfun.jl\\src\\ullmann.jl:122\u001b[39m\n"
     ]
    },
    {
     "data": {
      "text/plain": [
       "3×5 Array{Bool,2}:\n",
       " 1  0  0  0  0\n",
       " 0  0  1  1  0\n",
       " 0  0  1  1  0"
      ]
     },
     "execution_count": 6,
     "metadata": {},
     "output_type": "execute_result"
    }
   ],
   "source": [
    "Ullmann.refine_M!(As, Ag, M)"
   ]
  },
  {
   "cell_type": "code",
   "execution_count": 7,
   "metadata": {},
   "outputs": [
    {
     "data": {
      "text/plain": [
       "3×5 Array{Bool,2}:\n",
       " 1  0  0  0  0\n",
       " 0  0  0  1  0\n",
       " 0  0  1  1  0"
      ]
     },
     "execution_count": 7,
     "metadata": {},
     "output_type": "execute_result"
    }
   ],
   "source": [
    "M[2,3] = 0\n",
    "M"
   ]
  },
  {
   "cell_type": "code",
   "execution_count": 8,
   "metadata": {},
   "outputs": [
    {
     "name": "stdout",
     "output_type": "stream",
     "text": [
      "\u001b[34m\u001b[1m┌ \u001b[22m\u001b[39m\u001b[34m\u001b[1mDebug: \u001b[22m\u001b[39mRefining M: Bool[1 0 0 0 0; 0 0 0 1 0; 0 0 1 1 0]\n",
      "\u001b[34m\u001b[1m└ \u001b[22m\u001b[39m\u001b[90m@ Main.Ullmann C:\\Users\\eahen\\.julia\\dev\\MOFfun.jl\\src\\ullmann.jl:132\u001b[39m\n",
      "\u001b[34m\u001b[1m┌ \u001b[22m\u001b[39m\u001b[34m\u001b[1mDebug: \u001b[22m\u001b[39mGetting candidate list for node 3 of graph\n",
      "\u001b[34m\u001b[1m└ \u001b[22m\u001b[39m\u001b[90m@ Main.Ullmann C:\\Users\\eahen\\.julia\\dev\\MOFfun.jl\\src\\ullmann.jl:69\u001b[39m\n",
      "\u001b[34m\u001b[1m┌ \u001b[22m\u001b[39m\u001b[34m\u001b[1mDebug: \u001b[22m\u001b[39mLogicals: Bool[0, 0, 1]\n",
      "\u001b[34m\u001b[1m└ \u001b[22m\u001b[39m\u001b[90m@ Main.Ullmann C:\\Users\\eahen\\.julia\\dev\\MOFfun.jl\\src\\ullmann.jl:77\u001b[39m\n",
      "\u001b[34m\u001b[1m┌ \u001b[22m\u001b[39m\u001b[34m\u001b[1mDebug: \u001b[22m\u001b[39mFinding neighbors of node 3.\n",
      "\u001b[34m\u001b[1m└ \u001b[22m\u001b[39m\u001b[90m@ Main.Ullmann C:\\Users\\eahen\\.julia\\dev\\MOFfun.jl\\src\\ullmann.jl:122\u001b[39m\n",
      "\u001b[34m\u001b[1m┌ \u001b[22m\u001b[39m\u001b[34m\u001b[1mDebug: \u001b[22m\u001b[39mGetting candidate list for node 1 of subgraph\n",
      "\u001b[34m\u001b[1m└ \u001b[22m\u001b[39m\u001b[90m@ Main.Ullmann C:\\Users\\eahen\\.julia\\dev\\MOFfun.jl\\src\\ullmann.jl:69\u001b[39m\n",
      "\u001b[34m\u001b[1m┌ \u001b[22m\u001b[39m\u001b[34m\u001b[1mDebug: \u001b[22m\u001b[39mLogicals: Bool[1, 0, 0, 0, 0]\n",
      "\u001b[34m\u001b[1m└ \u001b[22m\u001b[39m\u001b[90m@ Main.Ullmann C:\\Users\\eahen\\.julia\\dev\\MOFfun.jl\\src\\ullmann.jl:77\u001b[39m\n",
      "\u001b[34m\u001b[1m┌ \u001b[22m\u001b[39m\u001b[34m\u001b[1mDebug: \u001b[22m\u001b[39mFinding neighbors of node 3.\n",
      "\u001b[34m\u001b[1m└ \u001b[22m\u001b[39m\u001b[90m@ Main.Ullmann C:\\Users\\eahen\\.julia\\dev\\MOFfun.jl\\src\\ullmann.jl:122\u001b[39m\n"
     ]
    },
    {
     "data": {
      "text/plain": [
       "3×5 Array{Bool,2}:\n",
       " 1  0  0  0  0\n",
       " 0  0  0  1  0\n",
       " 0  0  1  1  0"
      ]
     },
     "execution_count": 8,
     "metadata": {},
     "output_type": "execute_result"
    }
   ],
   "source": [
    "Ullmann.refine_M!(As, Ag, M)"
   ]
  },
  {
   "cell_type": "code",
   "execution_count": null,
   "metadata": {},
   "outputs": [],
   "source": []
  }
 ],
 "metadata": {
  "kernelspec": {
   "display_name": "Julia 1.4.2",
   "language": "julia",
   "name": "julia-1.4"
  },
  "language_info": {
   "file_extension": ".jl",
   "mimetype": "application/julia",
   "name": "julia",
   "version": "1.4.2"
  }
 },
 "nbformat": 4,
 "nbformat_minor": 4
}
