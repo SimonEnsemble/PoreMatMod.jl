{
 "cells": [
  {
   "cell_type": "code",
   "execution_count": 1,
   "metadata": {},
   "outputs": [
    {
     "data": {
      "text/plain": [
       "Main.Ullmann"
      ]
     },
     "execution_count": 1,
     "metadata": {},
     "output_type": "execute_result"
    }
   ],
   "source": [
    "using Logging\n",
    "\n",
    "include(\"src/ullmann.jl\")"
   ]
  },
  {
   "cell_type": "code",
   "execution_count": 2,
   "metadata": {},
   "outputs": [
    {
     "data": {
      "text/latex": [
       "\\begin{verbatim}\n",
       "function neighbors(w::Int, A::Array{Bool, 2})::Array{Int}\n",
       "Returns list of neighbors of input node from its graph's adjacency matrix.\n",
       "\\end{verbatim}\n"
      ],
      "text/markdown": [
       "```\n",
       "function neighbors(w::Int, A::Array{Bool, 2})::Array{Int}\n",
       "Returns list of neighbors of input node from its graph's adjacency matrix.\n",
       "```\n"
      ],
      "text/plain": [
       "\u001b[36m  function neighbors(w::Int, A::Array{Bool, 2})::Array{Int}\u001b[39m\n",
       "\u001b[36m  Returns list of neighbors of input node from its graph's adjacency matrix.\u001b[39m"
      ]
     },
     "execution_count": 2,
     "metadata": {},
     "output_type": "execute_result"
    }
   ],
   "source": [
    "?Ullmann.neighbors"
   ]
  },
  {
   "cell_type": "code",
   "execution_count": null,
   "metadata": {},
   "outputs": [],
   "source": []
  }
 ],
 "metadata": {
  "kernelspec": {
   "display_name": "Julia 1.4.2",
   "language": "julia",
   "name": "julia-1.4"
  },
  "language_info": {
   "file_extension": ".jl",
   "mimetype": "application/julia",
   "name": "julia",
   "version": "1.4.2"
  }
 },
 "nbformat": 4,
 "nbformat_minor": 4
}
