{
 "cells": [
  {
   "cell_type": "code",
   "execution_count": 1,
   "metadata": {},
   "outputs": [
    {
     "data": {
      "text/plain": [
       "4-element Array{String,1}:\n",
       " \"@\"                                                             \n",
       " \"@v#.#\"                                                         \n",
       " \"@stdlib\"                                                       \n",
       " \"/home/ng/Documents/Graduate_Research/Cory_Simon/DTRA/MOFun/src\""
      ]
     },
     "execution_count": 1,
     "metadata": {},
     "output_type": "execute_result"
    }
   ],
   "source": [
    "# # add MyModule to the path that Julia uses for modules \n",
    "push!(LOAD_PATH, joinpath(pwd(),\"src\"))"
   ]
  },
  {
   "cell_type": "code",
   "execution_count": 2,
   "metadata": {
    "scrolled": false
   },
   "outputs": [
    {
     "name": "stderr",
     "output_type": "stream",
     "text": [
      "┌ Info: Precompiling MOFun [top-level]\n",
      "└ @ Base loading.jl:1273\n",
      "WARNING: Method definition dot(Any, Any, Any) in module Compat at /home/ng/.julia/packages/Compat/oBmE5/src/Compat.jl:111 overwritten in module Optim at /home/ng/.julia/packages/Optim/cJRng/src/multivariate/precon.jl:24.\n",
      "  ** incremental compilation may be fatally broken for this module **\n",
      "\n"
     ]
    }
   ],
   "source": [
    "using MOFun"
   ]
  },
  {
   "cell_type": "code",
   "execution_count": 3,
   "metadata": {},
   "outputs": [
    {
     "name": "stdout",
     "output_type": "stream",
     "text": [
      "search: \u001b[0m\u001b[1ma\u001b[22m\u001b[0m\u001b[1ml\u001b[22m\u001b[0m\u001b[1mi\u001b[22m\u001b[0m\u001b[1mg\u001b[22m\u001b[0m\u001b[1mn\u001b[22m\u001b[0m\u001b[1m_\u001b[22m\u001b[0m\u001b[1mf\u001b[22m\u001b[0m\u001b[1mr\u001b[22m\u001b[0m\u001b[1ma\u001b[22m\u001b[0m\u001b[1mg\u001b[22m\u001b[0m\u001b[1mm\u001b[22m\u001b[0m\u001b[1me\u001b[22m\u001b[0m\u001b[1mn\u001b[22m\u001b[0m\u001b[1mt\u001b[22m\n",
      "\n"
     ]
    },
    {
     "data": {
      "text/latex": [
       "Align fragment with the correct part of the aromatic ring using orthogonal procrustes\n",
       "\n"
      ],
      "text/markdown": [
       "Align fragment with the correct part of the aromatic ring using orthogonal procrustes\n"
      ],
      "text/plain": [
       "  Align fragment with the correct part of the aromatic ring using orthogonal\n",
       "  procrustes"
      ]
     },
     "execution_count": 3,
     "metadata": {},
     "output_type": "execute_result"
    }
   ],
   "source": [
    "? align_fragment"
   ]
  },
  {
   "cell_type": "code",
   "execution_count": null,
   "metadata": {},
   "outputs": [],
   "source": [
    "# # The name of the fragment\n",
    "# # file must be a .xyz file located in ./fragments/\n",
    "# # The atom species that is bonded to the :C_aro_R atom on the ring segment of the Fragment\n",
    "# fragment_list = [\"Br\", \"CH2-CH2-CH3\", \"CH2-CH3\", \"CH3\", \n",
    "#                 \"Cl\", \"C-N\", \"F\", \"NH2\", \"N-NH\", \n",
    "#                 \"O-CH2-CH2-CH3\", \"O-CH2-CH3\", \"O-CH3\", \"OH\"]\n",
    "\n",
    "# fragment_name = \"F\" # ex: \"F\", \"Cl\", \"OH\", \"NH2\", \"CH3\", \"C-N\", \"O-CH2-CH2-CH3\"\n",
    "\n",
    "# # The type of Arene Substitution (\"ortho\", \"meta\", \"all\") \n",
    "# # TODO: \"all\" not yet implimented\n",
    "# substitution_types = [\"ortho\", \"para\"]\n",
    "# substitution_position = \"ortho\"\n",
    "\n",
    "# # The side of the ring wish to functionalize\n",
    "# # must be an Int (if substitution_position == \"all\" this parameter won't matter)\n",
    "# randomize_side = true #randomize which_side\n",
    "# if randomize_side\n",
    "#     which_side = rand((1, 2))\n",
    "# elseif !randomize_side\n",
    "#     which_side = 2\n",
    "# else\n",
    "#     error(\"which_side needs to be specified\")\n",
    "# end\n",
    "# @info which_side"
   ]
  },
  {
   "cell_type": "code",
   "execution_count": 4,
   "metadata": {},
   "outputs": [
    {
     "data": {
      "text/latex": [
       "No documentation found.\n",
       "\n",
       "\\texttt{MOFun.functionalize\\_mof} is a \\texttt{Function}.\n",
       "\n",
       "\\begin{verbatim}\n",
       "# 1 method for generic function \"functionalize_mof\":\n",
       "[1] functionalize_mof(xtal::PorousMaterials.Crystal, fragment_name::String, ipso_species::Symbol, r_species::Symbol, bonding_rules::Array{PorousMaterials.BondingRule,1}; n, side_to_functionalize, randomize_side, arene_substitution_type) in MOFun at /home/ng/Documents/Graduate_Research/Cory_Simon/DTRA/MOFun/src/MOFun.jl:38\n",
       "\\end{verbatim}\n"
      ],
      "text/markdown": [
       "No documentation found.\n",
       "\n",
       "`MOFun.functionalize_mof` is a `Function`.\n",
       "\n",
       "```\n",
       "# 1 method for generic function \"functionalize_mof\":\n",
       "[1] functionalize_mof(xtal::PorousMaterials.Crystal, fragment_name::String, ipso_species::Symbol, r_species::Symbol, bonding_rules::Array{PorousMaterials.BondingRule,1}; n, side_to_functionalize, randomize_side, arene_substitution_type) in MOFun at /home/ng/Documents/Graduate_Research/Cory_Simon/DTRA/MOFun/src/MOFun.jl:38\n",
       "```\n"
      ],
      "text/plain": [
       "  No documentation found.\n",
       "\n",
       "  \u001b[36mMOFun.functionalize_mof\u001b[39m is a \u001b[36mFunction\u001b[39m.\n",
       "\n",
       "\u001b[36m  # 1 method for generic function \"functionalize_mof\":\u001b[39m\n",
       "\u001b[36m  [1] functionalize_mof(xtal::PorousMaterials.Crystal, fragment_name::String, ipso_species::Symbol, r_species::Symbol, bonding_rules::Array{PorousMaterials.BondingRule,1}; n, side_to_functionalize, randomize_side, arene_substitution_type) in MOFun at /home/ng/Documents/Graduate_Research/Cory_Simon/DTRA/MOFun/src/MOFun.jl:38\u001b[39m"
      ]
     },
     "execution_count": 4,
     "metadata": {},
     "output_type": "execute_result"
    }
   ],
   "source": [
    "? functionalize_mof()"
   ]
  },
  {
   "cell_type": "code",
   "execution_count": null,
   "metadata": {},
   "outputs": [],
   "source": []
  }
 ],
 "metadata": {
  "kernelspec": {
   "display_name": "Julia 1.3.1",
   "language": "julia",
   "name": "julia-1.3"
  },
  "language_info": {
   "file_extension": ".jl",
   "mimetype": "application/julia",
   "name": "julia",
   "version": "1.3.1"
  }
 },
 "nbformat": 4,
 "nbformat_minor": 4
}
