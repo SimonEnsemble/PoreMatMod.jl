{
 "cells": [
  {
   "cell_type": "code",
   "execution_count": 1,
   "metadata": {},
   "outputs": [
    {
     "data": {
      "text/plain": [
       "Main.Ullmann"
      ]
     },
     "execution_count": 1,
     "metadata": {},
     "output_type": "execute_result"
    }
   ],
   "source": [
    "using Logging\n",
    "\n",
    "include(\"src/ullmann.jl\")"
   ]
  },
  {
   "cell_type": "code",
   "execution_count": 2,
   "metadata": {},
   "outputs": [
    {
     "data": {
      "text/latex": [
       "\\begin{verbatim}\n",
       "function ullmann_DFS(M::Array{Bool, 2}, AS::Array{Bool, 2}, AG::Array{Bool, 2},\n",
       "               i°::Int=1, j°::Int=1)::Union{Array{Array{Bool, 2}}, Nothing}\n",
       "Performs depth-first search for Ullmann's algorithm.\n",
       "\\end{verbatim}\n"
      ],
      "text/markdown": [
       "```\n",
       "function ullmann_DFS(M::Array{Bool, 2}, AS::Array{Bool, 2}, AG::Array{Bool, 2},\n",
       "               i°::Int=1, j°::Int=1)::Union{Array{Array{Bool, 2}}, Nothing}\n",
       "Performs depth-first search for Ullmann's algorithm.\n",
       "```\n"
      ],
      "text/plain": [
       "\u001b[36m  function ullmann_DFS(M::Array{Bool, 2}, AS::Array{Bool, 2}, AG::Array{Bool, 2},\u001b[39m\n",
       "\u001b[36m                 i°::Int=1, j°::Int=1)::Union{Array{Array{Bool, 2}}, Nothing}\u001b[39m\n",
       "\u001b[36m  Performs depth-first search for Ullmann's algorithm.\u001b[39m"
      ]
     },
     "execution_count": 2,
     "metadata": {},
     "output_type": "execute_result"
    }
   ],
   "source": [
    "?Ullmann.ullmann_DFS"
   ]
  },
  {
   "cell_type": "code",
   "execution_count": null,
   "metadata": {},
   "outputs": [],
   "source": []
  }
 ],
 "metadata": {
  "kernelspec": {
   "display_name": "Julia 1.4.2",
   "language": "julia",
   "name": "julia-1.4"
  },
  "language_info": {
   "file_extension": ".jl",
   "mimetype": "application/julia",
   "name": "julia",
   "version": "1.4.2"
  }
 },
 "nbformat": 4,
 "nbformat_minor": 4
}
