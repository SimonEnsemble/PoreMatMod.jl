{
 "cells": [
  {
   "cell_type": "code",
   "execution_count": 1,
   "metadata": {},
   "outputs": [
    {
     "data": {
      "text/plain": [
       "Main.Ullmann"
      ]
     },
     "execution_count": 1,
     "metadata": {},
     "output_type": "execute_result"
    }
   ],
   "source": [
    "include(\"src/ullmann.jl\")"
   ]
  },
  {
   "cell_type": "code",
   "execution_count": 4,
   "metadata": {},
   "outputs": [
    {
     "data": {
      "text/latex": [
       "\\begin{verbatim}\n",
       "function ullmann_bijections(subgraph::SimpleGraph,\n",
       "                        subgraph_species::Array{Symbol},\n",
       "                        graph::SimpleGraph,\n",
       "                        graph_species::Array{Symbol})::Union{Array{Array{Bool,2}}, Nothing}\n",
       "Returns all correspondence matrix bijections of subgraph to a subset of graph.\n",
       "\\end{verbatim}\n"
      ],
      "text/markdown": [
       "```\n",
       "function ullmann_bijections(subgraph::SimpleGraph,\n",
       "                        subgraph_species::Array{Symbol},\n",
       "                        graph::SimpleGraph,\n",
       "                        graph_species::Array{Symbol})::Union{Array{Array{Bool,2}}, Nothing}\n",
       "Returns all correspondence matrix bijections of subgraph to a subset of graph.\n",
       "```\n"
      ],
      "text/plain": [
       "\u001b[36m  function ullmann_bijections(subgraph::SimpleGraph,\u001b[39m\n",
       "\u001b[36m                          subgraph_species::Array{Symbol},\u001b[39m\n",
       "\u001b[36m                          graph::SimpleGraph,\u001b[39m\n",
       "\u001b[36m                          graph_species::Array{Symbol})::Union{Array{Array{Bool,2}}, Nothing}\u001b[39m\n",
       "\u001b[36m  Returns all correspondence matrix bijections of subgraph to a subset of graph.\u001b[39m"
      ]
     },
     "execution_count": 4,
     "metadata": {},
     "output_type": "execute_result"
    }
   ],
   "source": [
    "?Ullmann.ullmann_bijections"
   ]
  },
  {
   "cell_type": "code",
   "execution_count": null,
   "metadata": {},
   "outputs": [],
   "source": []
  }
 ],
 "metadata": {
  "kernelspec": {
   "display_name": "Julia 1.4.2",
   "language": "julia",
   "name": "julia-1.4"
  },
  "language_info": {
   "file_extension": ".jl",
   "mimetype": "application/julia",
   "name": "julia",
   "version": "1.4.2"
  }
 },
 "nbformat": 4,
 "nbformat_minor": 4
}
