{
 "cells": [
  {
   "cell_type": "code",
   "execution_count": 1,
   "metadata": {},
   "outputs": [
    {
     "data": {
      "text/plain": [
       "Main.Ullmann"
      ]
     },
     "execution_count": 1,
     "metadata": {},
     "output_type": "execute_result"
    }
   ],
   "source": [
    "using Logging\n",
    "\n",
    "include(\"src/ullmann.jl\")"
   ]
  },
  {
   "cell_type": "code",
   "execution_count": 2,
   "metadata": {},
   "outputs": [
    {
     "data": {
      "text/latex": [
       "\\begin{verbatim}\n",
       "function suppose_correspondence(M0::Array{Bool, 2},\n",
       "                            subgraph_node::Int,\n",
       "                            graph_node::Int)::Array{Bool, 2}\n",
       "Generates a new matrix from M0 by supposing x corresponds to y\n",
       "\\end{verbatim}\n"
      ],
      "text/markdown": [
       "```\n",
       "function suppose_correspondence(M0::Array{Bool, 2},\n",
       "                            subgraph_node::Int,\n",
       "                            graph_node::Int)::Array{Bool, 2}\n",
       "Generates a new matrix from M0 by supposing x corresponds to y\n",
       "```\n"
      ],
      "text/plain": [
       "\u001b[36m  function suppose_correspondence(M0::Array{Bool, 2},\u001b[39m\n",
       "\u001b[36m                              subgraph_node::Int,\u001b[39m\n",
       "\u001b[36m                              graph_node::Int)::Array{Bool, 2}\u001b[39m\n",
       "\u001b[36m  Generates a new matrix from M0 by supposing x corresponds to y\u001b[39m"
      ]
     },
     "execution_count": 2,
     "metadata": {},
     "output_type": "execute_result"
    }
   ],
   "source": [
    "?Ullmann.suppose_correspondence"
   ]
  },
  {
   "cell_type": "code",
   "execution_count": null,
   "metadata": {},
   "outputs": [],
   "source": []
  }
 ],
 "metadata": {
  "kernelspec": {
   "display_name": "Julia 1.4.2",
   "language": "julia",
   "name": "julia-1.4"
  },
  "language_info": {
   "file_extension": ".jl",
   "mimetype": "application/julia",
   "name": "julia",
   "version": "1.4.2"
  }
 },
 "nbformat": 4,
 "nbformat_minor": 4
}
