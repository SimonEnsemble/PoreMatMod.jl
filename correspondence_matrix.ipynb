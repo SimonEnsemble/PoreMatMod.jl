{
 "cells": [
  {
   "cell_type": "code",
   "execution_count": 2,
   "metadata": {},
   "outputs": [
    {
     "data": {
      "text/plain": [
       "Main.Ullmann"
      ]
     },
     "execution_count": 2,
     "metadata": {},
     "output_type": "execute_result"
    }
   ],
   "source": [
    "using Logging\n",
    "\n",
    "include(\"src/ullmann.jl\")"
   ]
  },
  {
   "cell_type": "code",
   "execution_count": 3,
   "metadata": {},
   "outputs": [
    {
     "data": {
      "text/latex": [
       "function correspondence\\_matrix(subgraph::SimpleGraph, 𝒫s::DataFrame,                                graph::SimpleGraph, 𝒫g::DataFrame)::Array\\{Bool, 2\\}     Generates the initial matrix based on node degrees.     M will be a matrix indicating if the jth node of graph has     sufficient degree to correspond with the ith node of subgraph.\n",
       "\n"
      ],
      "text/markdown": [
       "function correspondence_matrix(subgraph::SimpleGraph, 𝒫s::DataFrame,                                graph::SimpleGraph, 𝒫g::DataFrame)::Array{Bool, 2}     Generates the initial matrix based on node degrees.     M will be a matrix indicating if the jth node of graph has     sufficient degree to correspond with the ith node of subgraph.\n"
      ],
      "text/plain": [
       "  function correspondence_matrix(subgraph::SimpleGraph, 𝒫s::DataFrame,\n",
       "  graph::SimpleGraph, 𝒫g::DataFrame)::Array{Bool, 2} Generates the initial\n",
       "  matrix based on node degrees. M will be a matrix indicating if the jth node\n",
       "  of graph has sufficient degree to correspond with the ith node of subgraph."
      ]
     },
     "execution_count": 3,
     "metadata": {},
     "output_type": "execute_result"
    }
   ],
   "source": [
    "?Ullmann.correspondence_matrix"
   ]
  },
  {
   "cell_type": "code",
   "execution_count": null,
   "metadata": {},
   "outputs": [],
   "source": []
  }
 ],
 "metadata": {
  "kernelspec": {
   "display_name": "Julia 1.4.2",
   "language": "julia",
   "name": "julia-1.4"
  },
  "language_info": {
   "file_extension": ".jl",
   "mimetype": "application/julia",
   "name": "julia",
   "version": "1.4.2"
  }
 },
 "nbformat": 4,
 "nbformat_minor": 4
}
