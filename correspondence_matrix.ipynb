{
 "cells": [
  {
   "cell_type": "code",
   "execution_count": 1,
   "metadata": {},
   "outputs": [],
   "source": [
    "using PorousMaterials, LightGraphs, DataFrames, Logging\n",
    "global_logger(ConsoleLogger(stdout, Logging.Debug))\n",
    "include(\"src/ullmann.jl\")\n",
    "include(\"src/moiety.jl\")\n",
    ";"
   ]
  },
  {
   "cell_type": "code",
   "execution_count": 2,
   "metadata": {},
   "outputs": [
    {
     "data": {
      "text/latex": [
       "function correspondence\\_matrix(subgraph::SimpleGraph, 𝒫s::DataFrame,                                graph::SimpleGraph, 𝒫g::DataFrame)::Array\\{Bool, 2\\}     Generates the initial matrix based on node degrees.     M will be a matrix indicating if the jth node of graph has     sufficient degree to correspond with the ith node of subgraph.\n",
       "\n"
      ],
      "text/markdown": [
       "function correspondence_matrix(subgraph::SimpleGraph, 𝒫s::DataFrame,                                graph::SimpleGraph, 𝒫g::DataFrame)::Array{Bool, 2}     Generates the initial matrix based on node degrees.     M will be a matrix indicating if the jth node of graph has     sufficient degree to correspond with the ith node of subgraph.\n"
      ],
      "text/plain": [
       "  function correspondence_matrix(subgraph::SimpleGraph, 𝒫s::DataFrame,\n",
       "  graph::SimpleGraph, 𝒫g::DataFrame)::Array{Bool, 2} Generates the initial\n",
       "  matrix based on node degrees. M will be a matrix indicating if the jth node\n",
       "  of graph has sufficient degree to correspond with the ith node of subgraph."
      ]
     },
     "execution_count": 2,
     "metadata": {},
     "output_type": "execute_result"
    }
   ],
   "source": [
    "?Ullmann.correspondence_matrix"
   ]
  },
  {
   "cell_type": "code",
   "execution_count": 3,
   "metadata": {},
   "outputs": [
    {
     "name": "stdout",
     "output_type": "stream",
     "text": [
      "\u001b[34m\u001b[1m┌ \u001b[22m\u001b[39m\u001b[34m\u001b[1mDebug: \u001b[22m\u001b[39mGraph\n",
      "\u001b[34m\u001b[1m│ \u001b[22m\u001b[39m  xtal.atoms.species =\n",
      "\u001b[34m\u001b[1m│ \u001b[22m\u001b[39m   5-element Array{Symbol,1}:\n",
      "\u001b[34m\u001b[1m│ \u001b[22m\u001b[39m    :C\n",
      "\u001b[34m\u001b[1m│ \u001b[22m\u001b[39m    :Cl\n",
      "\u001b[34m\u001b[1m│ \u001b[22m\u001b[39m    :H\n",
      "\u001b[34m\u001b[1m│ \u001b[22m\u001b[39m    :H\n",
      "\u001b[34m\u001b[1m│ \u001b[22m\u001b[39m    :Cl\n",
      "\u001b[34m\u001b[1m│ \u001b[22m\u001b[39m  xtal.bonds = {5, 4} undirected simple Int64 graph\n",
      "\u001b[34m\u001b[1m└ \u001b[22m\u001b[39m\u001b[90m@ Main In[3]:2\u001b[39m\n",
      "\u001b[34m\u001b[1m┌ \u001b[22m\u001b[39m\u001b[34m\u001b[1mDebug: \u001b[22m\u001b[39mSubraph\n",
      "\u001b[34m\u001b[1m│ \u001b[22m\u001b[39m  moty.atoms.species =\n",
      "\u001b[34m\u001b[1m│ \u001b[22m\u001b[39m   3-element Array{Symbol,1}:\n",
      "\u001b[34m\u001b[1m│ \u001b[22m\u001b[39m    :C\n",
      "\u001b[34m\u001b[1m│ \u001b[22m\u001b[39m    :H\n",
      "\u001b[34m\u001b[1m│ \u001b[22m\u001b[39m    :H\n",
      "\u001b[34m\u001b[1m│ \u001b[22m\u001b[39m  moty.bonds = {3, 2} undirected simple Int64 graph\n",
      "\u001b[34m\u001b[1m└ \u001b[22m\u001b[39m\u001b[90m@ Main In[3]:4\u001b[39m\n"
     ]
    }
   ],
   "source": [
    "xtal = moiety(\"DCM\")\n",
    "@debug \"Graph\" xtal.atoms.species xtal.bonds\n",
    "moty = moiety(\"methylene\")\n",
    "@debug \"Subraph\" moty.atoms.species moty.bonds"
   ]
  },
  {
   "cell_type": "code",
   "execution_count": 4,
   "metadata": {},
   "outputs": [
    {
     "name": "stdout",
     "output_type": "stream",
     "text": [
      "\u001b[34m\u001b[1m┌ \u001b[22m\u001b[39m\u001b[34m\u001b[1mDebug: \u001b[22m\u001b[39mGraph metadata\n",
      "\u001b[34m\u001b[1m│ \u001b[22m\u001b[39m  Pg =\n",
      "\u001b[34m\u001b[1m│ \u001b[22m\u001b[39m   5×3 DataFrame\n",
      "\u001b[34m\u001b[1m│ \u001b[22m\u001b[39m   │ Row │ index │ species │ degree │\n",
      "\u001b[34m\u001b[1m│ \u001b[22m\u001b[39m   │     │ \u001b[90mInt64\u001b[39m │ \u001b[90mSymbol\u001b[39m  │ \u001b[90mInt64\u001b[39m  │\n",
      "\u001b[34m\u001b[1m│ \u001b[22m\u001b[39m   ├─────┼───────┼─────────┼────────┤\n",
      "\u001b[34m\u001b[1m│ \u001b[22m\u001b[39m   │ 1   │ 1     │ C       │ 4      │\n",
      "\u001b[34m\u001b[1m│ \u001b[22m\u001b[39m   │ 2   │ 2     │ Cl      │ 1      │\n",
      "\u001b[34m\u001b[1m│ \u001b[22m\u001b[39m   │ 3   │ 3     │ H       │ 1      │\n",
      "\u001b[34m\u001b[1m│ \u001b[22m\u001b[39m   │ 4   │ 4     │ H       │ 1      │\n",
      "\u001b[34m\u001b[1m│ \u001b[22m\u001b[39m   │ 5   │ 5     │ Cl      │ 1      │\n",
      "\u001b[34m\u001b[1m└ \u001b[22m\u001b[39m\u001b[90m@ Main In[4]:2\u001b[39m\n",
      "\u001b[34m\u001b[1m┌ \u001b[22m\u001b[39m\u001b[34m\u001b[1mDebug: \u001b[22m\u001b[39mSubgraph metadata\n",
      "\u001b[34m\u001b[1m│ \u001b[22m\u001b[39m  Ps =\n",
      "\u001b[34m\u001b[1m│ \u001b[22m\u001b[39m   3×3 DataFrame\n",
      "\u001b[34m\u001b[1m│ \u001b[22m\u001b[39m   │ Row │ index │ species │ degree │\n",
      "\u001b[34m\u001b[1m│ \u001b[22m\u001b[39m   │     │ \u001b[90mInt64\u001b[39m │ \u001b[90mSymbol\u001b[39m  │ \u001b[90mInt64\u001b[39m  │\n",
      "\u001b[34m\u001b[1m│ \u001b[22m\u001b[39m   ├─────┼───────┼─────────┼────────┤\n",
      "\u001b[34m\u001b[1m│ \u001b[22m\u001b[39m   │ 1   │ 1     │ C       │ 2      │\n",
      "\u001b[34m\u001b[1m│ \u001b[22m\u001b[39m   │ 2   │ 2     │ H       │ 1      │\n",
      "\u001b[34m\u001b[1m│ \u001b[22m\u001b[39m   │ 3   │ 3     │ H       │ 1      │\n",
      "\u001b[34m\u001b[1m└ \u001b[22m\u001b[39m\u001b[90m@ Main In[4]:4\u001b[39m\n",
      "\u001b[34m\u001b[1m┌ \u001b[22m\u001b[39m\u001b[34m\u001b[1mDebug: \u001b[22m\u001b[39mFinding M...\n",
      "\u001b[34m\u001b[1m└ \u001b[22m\u001b[39m\u001b[90m@ Main.Ullmann C:\\Users\\eahen\\.julia\\dev\\MOFfun.jl\\src\\ullmann.jl:31\u001b[39m\n",
      "\u001b[34m\u001b[1m┌ \u001b[22m\u001b[39m\u001b[34m\u001b[1mDebug: \u001b[22m\u001b[39m(1,1) 4 ≥ 2 && C == C : true)\n",
      "\u001b[34m\u001b[1m└ \u001b[22m\u001b[39m\u001b[90m@ Main.Ullmann C:\\Users\\eahen\\.julia\\dev\\MOFfun.jl\\src\\ullmann.jl:35\u001b[39m\n",
      "\u001b[34m\u001b[1m┌ \u001b[22m\u001b[39m\u001b[34m\u001b[1mDebug: \u001b[22m\u001b[39m(1,2) 1 ≥ 2 && Cl == C : false)\n",
      "\u001b[34m\u001b[1m└ \u001b[22m\u001b[39m\u001b[90m@ Main.Ullmann C:\\Users\\eahen\\.julia\\dev\\MOFfun.jl\\src\\ullmann.jl:35\u001b[39m\n",
      "\u001b[34m\u001b[1m┌ \u001b[22m\u001b[39m\u001b[34m\u001b[1mDebug: \u001b[22m\u001b[39m(1,3) 1 ≥ 2 && H == C : false)\n",
      "\u001b[34m\u001b[1m└ \u001b[22m\u001b[39m\u001b[90m@ Main.Ullmann C:\\Users\\eahen\\.julia\\dev\\MOFfun.jl\\src\\ullmann.jl:35\u001b[39m\n",
      "\u001b[34m\u001b[1m┌ \u001b[22m\u001b[39m\u001b[34m\u001b[1mDebug: \u001b[22m\u001b[39m(1,4) 1 ≥ 2 && H == C : false)\n",
      "\u001b[34m\u001b[1m└ \u001b[22m\u001b[39m\u001b[90m@ Main.Ullmann C:\\Users\\eahen\\.julia\\dev\\MOFfun.jl\\src\\ullmann.jl:35\u001b[39m\n",
      "\u001b[34m\u001b[1m┌ \u001b[22m\u001b[39m\u001b[34m\u001b[1mDebug: \u001b[22m\u001b[39m(1,5) 1 ≥ 2 && Cl == C : false)\n",
      "\u001b[34m\u001b[1m└ \u001b[22m\u001b[39m\u001b[90m@ Main.Ullmann C:\\Users\\eahen\\.julia\\dev\\MOFfun.jl\\src\\ullmann.jl:35\u001b[39m\n",
      "\u001b[34m\u001b[1m┌ \u001b[22m\u001b[39m\u001b[34m\u001b[1mDebug: \u001b[22m\u001b[39m(2,1) 4 ≥ 1 && C == H : false)\n",
      "\u001b[34m\u001b[1m└ \u001b[22m\u001b[39m\u001b[90m@ Main.Ullmann C:\\Users\\eahen\\.julia\\dev\\MOFfun.jl\\src\\ullmann.jl:35\u001b[39m\n",
      "\u001b[34m\u001b[1m┌ \u001b[22m\u001b[39m\u001b[34m\u001b[1mDebug: \u001b[22m\u001b[39m(2,2) 1 ≥ 1 && Cl == H : false)\n",
      "\u001b[34m\u001b[1m└ \u001b[22m\u001b[39m\u001b[90m@ Main.Ullmann C:\\Users\\eahen\\.julia\\dev\\MOFfun.jl\\src\\ullmann.jl:35\u001b[39m\n",
      "\u001b[34m\u001b[1m┌ \u001b[22m\u001b[39m\u001b[34m\u001b[1mDebug: \u001b[22m\u001b[39m(2,3) 1 ≥ 1 && H == H : true)\n",
      "\u001b[34m\u001b[1m└ \u001b[22m\u001b[39m\u001b[90m@ Main.Ullmann C:\\Users\\eahen\\.julia\\dev\\MOFfun.jl\\src\\ullmann.jl:35\u001b[39m\n",
      "\u001b[34m\u001b[1m┌ \u001b[22m\u001b[39m\u001b[34m\u001b[1mDebug: \u001b[22m\u001b[39m(2,4) 1 ≥ 1 && H == H : true)\n",
      "\u001b[34m\u001b[1m└ \u001b[22m\u001b[39m\u001b[90m@ Main.Ullmann C:\\Users\\eahen\\.julia\\dev\\MOFfun.jl\\src\\ullmann.jl:35\u001b[39m\n",
      "\u001b[34m\u001b[1m┌ \u001b[22m\u001b[39m\u001b[34m\u001b[1mDebug: \u001b[22m\u001b[39m(2,5) 1 ≥ 1 && Cl == H : false)\n",
      "\u001b[34m\u001b[1m└ \u001b[22m\u001b[39m\u001b[90m@ Main.Ullmann C:\\Users\\eahen\\.julia\\dev\\MOFfun.jl\\src\\ullmann.jl:35\u001b[39m\n",
      "\u001b[34m\u001b[1m┌ \u001b[22m\u001b[39m\u001b[34m\u001b[1mDebug: \u001b[22m\u001b[39m(3,1) 4 ≥ 1 && C == H : false)\n",
      "\u001b[34m\u001b[1m└ \u001b[22m\u001b[39m\u001b[90m@ Main.Ullmann C:\\Users\\eahen\\.julia\\dev\\MOFfun.jl\\src\\ullmann.jl:35\u001b[39m\n",
      "\u001b[34m\u001b[1m┌ \u001b[22m\u001b[39m\u001b[34m\u001b[1mDebug: \u001b[22m\u001b[39m(3,2) 1 ≥ 1 && Cl == H : false)\n",
      "\u001b[34m\u001b[1m└ \u001b[22m\u001b[39m\u001b[90m@ Main.Ullmann C:\\Users\\eahen\\.julia\\dev\\MOFfun.jl\\src\\ullmann.jl:35\u001b[39m\n",
      "\u001b[34m\u001b[1m┌ \u001b[22m\u001b[39m\u001b[34m\u001b[1mDebug: \u001b[22m\u001b[39m(3,3) 1 ≥ 1 && H == H : true)\n",
      "\u001b[34m\u001b[1m└ \u001b[22m\u001b[39m\u001b[90m@ Main.Ullmann C:\\Users\\eahen\\.julia\\dev\\MOFfun.jl\\src\\ullmann.jl:35\u001b[39m\n",
      "\u001b[34m\u001b[1m┌ \u001b[22m\u001b[39m\u001b[34m\u001b[1mDebug: \u001b[22m\u001b[39m(3,4) 1 ≥ 1 && H == H : true)\n",
      "\u001b[34m\u001b[1m└ \u001b[22m\u001b[39m\u001b[90m@ Main.Ullmann C:\\Users\\eahen\\.julia\\dev\\MOFfun.jl\\src\\ullmann.jl:35\u001b[39m\n",
      "\u001b[34m\u001b[1m┌ \u001b[22m\u001b[39m\u001b[34m\u001b[1mDebug: \u001b[22m\u001b[39m(3,5) 1 ≥ 1 && Cl == H : false)\n",
      "\u001b[34m\u001b[1m└ \u001b[22m\u001b[39m\u001b[90m@ Main.Ullmann C:\\Users\\eahen\\.julia\\dev\\MOFfun.jl\\src\\ullmann.jl:35\u001b[39m\n",
      "\u001b[34m\u001b[1m┌ \u001b[22m\u001b[39m\u001b[34m\u001b[1mDebug: \u001b[22m\u001b[39mM: Bool[1 0 0 0 0; 0 0 1 1 0; 0 0 1 1 0]\n",
      "\u001b[34m\u001b[1m└ \u001b[22m\u001b[39m\u001b[90m@ Main.Ullmann C:\\Users\\eahen\\.julia\\dev\\MOFfun.jl\\src\\ullmann.jl:39\u001b[39m\n",
      "\u001b[36m\u001b[1m┌ \u001b[22m\u001b[39m\u001b[36m\u001b[1mInfo: \u001b[22m\u001b[39mCorrespondence matrix\n",
      "\u001b[36m\u001b[1m│ \u001b[22m\u001b[39m  M =\n",
      "\u001b[36m\u001b[1m│ \u001b[22m\u001b[39m   3×5 Array{Bool,2}:\n",
      "\u001b[36m\u001b[1m│ \u001b[22m\u001b[39m    1  0  0  0  0\n",
      "\u001b[36m\u001b[1m│ \u001b[22m\u001b[39m    0  0  1  1  0\n",
      "\u001b[36m\u001b[1m└ \u001b[22m\u001b[39m    0  0  1  1  0\n"
     ]
    }
   ],
   "source": [
    "Pg = DataFrame(index = 1:nv(xtal.bonds), species = xtal.atoms.species, degree = degree(xtal.bonds))\n",
    "@debug \"Graph metadata\" Pg\n",
    "Ps = DataFrame(index = 1:nv(moty.bonds), species = moty.atoms.species, degree = degree(moty.bonds))\n",
    "@debug \"Subgraph metadata\" Ps\n",
    "M = Ullmann.correspondence_matrix(moty.bonds, Ps, xtal.bonds, Pg)\n",
    "@info \"Correspondence matrix\" M"
   ]
  },
  {
   "cell_type": "code",
   "execution_count": 5,
   "metadata": {},
   "outputs": [
    {
     "name": "stdout",
     "output_type": "stream",
     "text": [
      "\u001b[34m\u001b[1m┌ \u001b[22m\u001b[39m\u001b[34m\u001b[1mDebug: \u001b[22m\u001b[39mGraph\n",
      "\u001b[34m\u001b[1m│ \u001b[22m\u001b[39m  xtal.atoms.species =\n",
      "\u001b[34m\u001b[1m│ \u001b[22m\u001b[39m   232-element Array{Symbol,1}:\n",
      "\u001b[34m\u001b[1m│ \u001b[22m\u001b[39m    :Ti\n",
      "\u001b[34m\u001b[1m│ \u001b[22m\u001b[39m    :O\n",
      "\u001b[34m\u001b[1m│ \u001b[22m\u001b[39m    :O\n",
      "\u001b[34m\u001b[1m│ \u001b[22m\u001b[39m    ⋮\n",
      "\u001b[34m\u001b[1m│ \u001b[22m\u001b[39m    :H\n",
      "\u001b[34m\u001b[1m│ \u001b[22m\u001b[39m    :H\n",
      "\u001b[34m\u001b[1m│ \u001b[22m\u001b[39m  xtal.bonds = {232, 224} undirected simple Int64 graph\n",
      "\u001b[34m\u001b[1m└ \u001b[22m\u001b[39m\u001b[90m@ Main In[5]:4\u001b[39m\n",
      "\u001b[34m\u001b[1m┌ \u001b[22m\u001b[39m\u001b[34m\u001b[1mDebug: \u001b[22m\u001b[39mSubraph\n",
      "\u001b[34m\u001b[1m│ \u001b[22m\u001b[39m  moty.atoms.species =\n",
      "\u001b[34m\u001b[1m│ \u001b[22m\u001b[39m   10-element Array{Symbol,1}:\n",
      "\u001b[34m\u001b[1m│ \u001b[22m\u001b[39m    :C\n",
      "\u001b[34m\u001b[1m│ \u001b[22m\u001b[39m    :C\n",
      "\u001b[34m\u001b[1m│ \u001b[22m\u001b[39m    :C\n",
      "\u001b[34m\u001b[1m│ \u001b[22m\u001b[39m    ⋮\n",
      "\u001b[34m\u001b[1m│ \u001b[22m\u001b[39m    :H\n",
      "\u001b[34m\u001b[1m│ \u001b[22m\u001b[39m    :H\n",
      "\u001b[34m\u001b[1m│ \u001b[22m\u001b[39m  moty.bonds = {10, 10} undirected simple Int64 graph\n",
      "\u001b[34m\u001b[1m└ \u001b[22m\u001b[39m\u001b[90m@ Main In[5]:6\u001b[39m\n"
     ]
    }
   ],
   "source": [
    "xtal = Crystal(\"Ti-MIL-125.cif\")\n",
    "strip_numbers_from_atom_labels!(xtal)\n",
    "infer_bonds!(xtal, true)\n",
    "@debug \"Graph\" xtal.atoms.species xtal.bonds\n",
    "moty = moiety(\"p-phenylene\")\n",
    "@debug \"Subraph\" moty.atoms.species moty.bonds"
   ]
  },
  {
   "cell_type": "code",
   "execution_count": 6,
   "metadata": {},
   "outputs": [
    {
     "name": "stdout",
     "output_type": "stream",
     "text": [
      "\u001b[34m\u001b[1m┌ \u001b[22m\u001b[39m\u001b[34m\u001b[1mDebug: \u001b[22m\u001b[39mGraph metadata\n",
      "\u001b[34m\u001b[1m│ \u001b[22m\u001b[39m  Pg =\n",
      "\u001b[34m\u001b[1m│ \u001b[22m\u001b[39m   232×3 DataFrame\n",
      "\u001b[34m\u001b[1m│ \u001b[22m\u001b[39m   │ Row │ index │ species │ degree │\n",
      "\u001b[34m\u001b[1m│ \u001b[22m\u001b[39m   │     │ \u001b[90mInt64\u001b[39m │ \u001b[90mSymbol\u001b[39m  │ \u001b[90mInt64\u001b[39m  │\n",
      "\u001b[34m\u001b[1m│ \u001b[22m\u001b[39m   ├─────┼───────┼─────────┼────────┤\n",
      "\u001b[34m\u001b[1m│ \u001b[22m\u001b[39m   │ 1   │ 1     │ Ti      │ 2      │\n",
      "\u001b[34m\u001b[1m│ \u001b[22m\u001b[39m   │ 2   │ 2     │ O       │ 1      │\n",
      "\u001b[34m\u001b[1m│ \u001b[22m\u001b[39m   │ 3   │ 3     │ O       │ 0      │\n",
      "\u001b[34m\u001b[1m│ \u001b[22m\u001b[39m   ⋮\n",
      "\u001b[34m\u001b[1m│ \u001b[22m\u001b[39m   │ 229 │ 229   │ H       │ 1      │\n",
      "\u001b[34m\u001b[1m│ \u001b[22m\u001b[39m   │ 230 │ 230   │ H       │ 1      │\n",
      "\u001b[34m\u001b[1m│ \u001b[22m\u001b[39m   │ 231 │ 231   │ H       │ 1      │\n",
      "\u001b[34m\u001b[1m│ \u001b[22m\u001b[39m   │ 232 │ 232   │ H       │ 1      │\n",
      "\u001b[34m\u001b[1m└ \u001b[22m\u001b[39m\u001b[90m@ Main In[6]:2\u001b[39m\n",
      "\u001b[34m\u001b[1m┌ \u001b[22m\u001b[39m\u001b[34m\u001b[1mDebug: \u001b[22m\u001b[39mSubgraph metadata\n",
      "\u001b[34m\u001b[1m│ \u001b[22m\u001b[39m  Ps =\n",
      "\u001b[34m\u001b[1m│ \u001b[22m\u001b[39m   10×3 DataFrame\n",
      "\u001b[34m\u001b[1m│ \u001b[22m\u001b[39m   │ Row │ index │ species │ degree │\n",
      "\u001b[34m\u001b[1m│ \u001b[22m\u001b[39m   │     │ \u001b[90mInt64\u001b[39m │ \u001b[90mSymbol\u001b[39m  │ \u001b[90mInt64\u001b[39m  │\n",
      "\u001b[34m\u001b[1m│ \u001b[22m\u001b[39m   ├─────┼───────┼─────────┼────────┤\n",
      "\u001b[34m\u001b[1m│ \u001b[22m\u001b[39m   │ 1   │ 1     │ C       │ 2      │\n",
      "\u001b[34m\u001b[1m│ \u001b[22m\u001b[39m   │ 2   │ 2     │ C       │ 3      │\n",
      "\u001b[34m\u001b[1m│ \u001b[22m\u001b[39m   │ 3   │ 3     │ C       │ 3      │\n",
      "\u001b[34m\u001b[1m│ \u001b[22m\u001b[39m   ⋮\n",
      "\u001b[34m\u001b[1m│ \u001b[22m\u001b[39m   │ 7   │ 7     │ H       │ 1      │\n",
      "\u001b[34m\u001b[1m│ \u001b[22m\u001b[39m   │ 8   │ 8     │ H       │ 1      │\n",
      "\u001b[34m\u001b[1m│ \u001b[22m\u001b[39m   │ 9   │ 9     │ H       │ 1      │\n",
      "\u001b[34m\u001b[1m│ \u001b[22m\u001b[39m   │ 10  │ 10    │ H       │ 1      │\n",
      "\u001b[34m\u001b[1m└ \u001b[22m\u001b[39m\u001b[90m@ Main In[6]:4\u001b[39m\n",
      "\u001b[36m\u001b[1m┌ \u001b[22m\u001b[39m\u001b[36m\u001b[1mInfo: \u001b[22m\u001b[39mCorrespondence matrix\n",
      "\u001b[36m\u001b[1m│ \u001b[22m\u001b[39m  M =\n",
      "\u001b[36m\u001b[1m│ \u001b[22m\u001b[39m   3×5 Array{Bool,2}:\n",
      "\u001b[36m\u001b[1m│ \u001b[22m\u001b[39m    1  0  0  0  0\n",
      "\u001b[36m\u001b[1m│ \u001b[22m\u001b[39m    0  0  1  1  0\n",
      "\u001b[36m\u001b[1m└ \u001b[22m\u001b[39m    0  0  1  1  0\n"
     ]
    }
   ],
   "source": [
    "Pg = DataFrame(index = 1:nv(xtal.bonds), species = xtal.atoms.species, degree = degree(xtal.bonds))\n",
    "@debug \"Graph metadata\" Pg\n",
    "Ps = DataFrame(index = 1:nv(moty.bonds), species = moty.atoms.species, degree = degree(moty.bonds))\n",
    "@debug \"Subgraph metadata\" Ps\n",
    "with_logger(NullLogger()) do\n",
    "    M = Ullmann.correspondence_matrix(moty.bonds, Ps, xtal.bonds, Pg)\n",
    "end\n",
    "@info \"Correspondence matrix\" M"
   ]
  },
  {
   "cell_type": "code",
   "execution_count": null,
   "metadata": {},
   "outputs": [],
   "source": []
  }
 ],
 "metadata": {
  "kernelspec": {
   "display_name": "Julia 1.4.2",
   "language": "julia",
   "name": "julia-1.4"
  },
  "language_info": {
   "file_extension": ".jl",
   "mimetype": "application/julia",
   "name": "julia",
   "version": "1.4.2"
  }
 },
 "nbformat": 4,
 "nbformat_minor": 4
}
