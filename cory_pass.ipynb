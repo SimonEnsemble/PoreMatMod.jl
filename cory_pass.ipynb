{
 "cells": [
  {
   "cell_type": "code",
   "execution_count": 2,
   "metadata": {},
   "outputs": [
    {
     "data": {
      "text/plain": [
       "{424, 384} undirected simple Int64 graph"
      ]
     },
     "execution_count": 2,
     "metadata": {},
     "output_type": "execute_result"
    }
   ],
   "source": [
    "using PorousMaterials, LightGraphs\n",
    "\n",
    "include(\"src/moiety.jl\")\n",
    "fragment = moiety(\"p-phenylene\")\n",
    "\n",
    "xtal = Crystal(\"IRMOF-1.cif\")\n",
    "strip_numbers_from_atom_labels!(xtal)\n",
    "infer_bonds!(xtal, true)\n",
    "xtal.bonds\n",
    "\n",
    "subgraph = fragment.bonds\n",
    "graph = xtal.bonds"
   ]
  },
  {
   "cell_type": "code",
   "execution_count": 3,
   "metadata": {},
   "outputs": [
    {
     "data": {
      "text/plain": [
       "10×424 Array{Bool,2}:\n",
       " 0  0  0  0  0  0  0  0  0  0  0  0  0  …  0  0  0  0  0  0  0  0  0  0  0  0\n",
       " 0  0  0  0  0  0  0  0  0  0  0  0  0     0  0  0  0  0  0  0  0  0  0  0  0\n",
       " 0  0  0  0  0  0  0  0  0  0  0  0  0     0  0  0  0  0  0  0  0  0  0  0  0\n",
       " 0  0  0  0  0  0  0  0  0  0  0  0  0     0  0  0  0  0  0  0  0  0  0  0  0\n",
       " 0  0  0  0  0  0  0  0  0  0  0  0  0     0  0  0  0  0  0  0  0  0  0  0  0\n",
       " 0  0  0  0  0  0  0  0  0  0  0  0  0  …  0  0  0  0  0  0  0  0  0  0  0  0\n",
       " 0  0  0  0  0  0  0  0  0  0  0  0  0     1  1  1  1  1  1  1  1  1  1  1  1\n",
       " 0  0  0  0  0  0  0  0  0  0  0  0  0     1  1  1  1  1  1  1  1  1  1  1  1\n",
       " 0  0  0  0  0  0  0  0  0  0  0  0  0     1  1  1  1  1  1  1  1  1  1  1  1\n",
       " 0  0  0  0  0  0  0  0  0  0  0  0  0     1  1  1  1  1  1  1  1  1  1  1  1"
      ]
     },
     "execution_count": 3,
     "metadata": {},
     "output_type": "execute_result"
    }
   ],
   "source": [
    "# \"compatibility matrix\"\n",
    "# M₀[α, β] = 1 if any only if:\n",
    "#     deg(β ∈ graph) ≥ deg(α ∈ subgraph)\n",
    "#      and\n",
    "#     species(α ∈ subgraph) == species(β ∈ graph)\n",
    "function compatibility_matrix(subgraph::SimpleGraph, subgraph_species::Array{Symbol, 1},\n",
    "                              graph::SimpleGraph,    graph_species::Array{Symbol, 1})::Array{Bool, 2}\n",
    "    @debug \"Finding M₀...\"\n",
    "    # allocate M. rows correspond to subgraph nodes, columns to graph nodes.\n",
    "    M₀ = zeros(Bool, nv(subgraph), nv(graph))\n",
    "    for α ∈ 1:nv(subgraph) # Loop over rows (subgraph nodes)\n",
    "        for β ∈ 1:nv(graph) # Loop over columns (graph nodes)\n",
    "            # Record Bool for each (i,j): true if atom species match and graph node degree is sufficient.\n",
    "            if (degree(graph, β) ≥ degree(subgraph, α)) && (subgraph_species[α] == graph_species[β])\n",
    "                M₀[α, β] = true # cannot rule out correspondence, so, true, for all we know at this point, these could correspond.\n",
    "            end\n",
    "        end\n",
    "    end\n",
    "    return M₀\n",
    "end\n",
    "\n",
    "M₀ = compatibility_matrix(fragment.bonds, fragment.atoms.species, xtal.bonds, xtal.atoms.species)"
   ]
  },
  {
   "cell_type": "code",
   "execution_count": 4,
   "metadata": {},
   "outputs": [
    {
     "data": {
      "text/plain": [
       "192-element Array{Int64,1}:\n",
       " 137\n",
       " 138\n",
       " 139\n",
       " 140\n",
       " 141\n",
       " 142\n",
       " 143\n",
       " 144\n",
       " 145\n",
       " 146\n",
       " 147\n",
       " 148\n",
       " 149\n",
       "   ⋮\n",
       " 317\n",
       " 318\n",
       " 319\n",
       " 320\n",
       " 321\n",
       " 322\n",
       " 323\n",
       " 324\n",
       " 325\n",
       " 326\n",
       " 327\n",
       " 328"
      ]
     },
     "execution_count": 4,
     "metadata": {},
     "output_type": "execute_result"
    }
   ],
   "source": [
    "# list of nodes β ∈ graph that could possibly correpond with node α ∈ subgraph\n",
    "function candidate_list(M::Array{Bool, 2}, α::Int)::Array{Int, 1}\n",
    "    return [β for β = 1:size(M, 2) if M[α, β]]\n",
    "end\n",
    "\n",
    "cl = candidate_list(M₀, 1)"
   ]
  },
  {
   "cell_type": "code",
   "execution_count": 5,
   "metadata": {},
   "outputs": [
    {
     "data": {
      "text/plain": [
       "has_candidates (generic function with 1 method)"
      ]
     },
     "execution_count": 5,
     "metadata": {},
     "output_type": "execute_result"
    }
   ],
   "source": [
    "# does node α have possible candidate matches in the graph?\n",
    "function has_candidates(M::Array{Bool, 2}, α::Int)::Bool\n",
    "    for β ∈ 1:size(M, 2) # loop over graph nodes\n",
    "        if M[α, β]\n",
    "            return true\n",
    "        end\n",
    "    end\n",
    "    # if made it this far, no graph node could possible correspond to α ∈ subgraph =/\n",
    "    return false \n",
    "end"
   ]
  },
  {
   "cell_type": "code",
   "execution_count": 6,
   "metadata": {},
   "outputs": [
    {
     "data": {
      "text/plain": [
       "false"
      ]
     },
     "execution_count": 6,
     "metadata": {},
     "output_type": "execute_result"
    }
   ],
   "source": [
    "function is_isomorphism(M::Array{Bool, 2})::Bool\n",
    "    # (1) each row of M, corresponding to a node α ∈ subgraph, contains exactly one 1.\n",
    "    #     i.e., every subgraph node has exactly one correspondence\n",
    "    for α ∈ 1:size(M, 1)\n",
    "        if sum(M[α, :]) != 1\n",
    "            return false\n",
    "        end\n",
    "    end\n",
    "    # (2) no column of M, corresponding to a node β ∈ graph, contains more than one 1.\n",
    "    #     i.e., a graph node does not correspond to more than 1 subgraph node.\n",
    "    for β ∈ 1:size(M, 2)\n",
    "        if sum(M[:, β]) > 1\n",
    "            return false\n",
    "        end\n",
    "    end\n",
    "    # if made it this far, it is indeed an isomorphism.\n",
    "    return true\n",
    "end\n",
    "\n",
    "is_isomorphism(M₀)"
   ]
  },
  {
   "cell_type": "code",
   "execution_count": 7,
   "metadata": {},
   "outputs": [
    {
     "data": {
      "text/plain": [
       "true"
      ]
     },
     "execution_count": 7,
     "metadata": {},
     "output_type": "execute_result"
    }
   ],
   "source": [
    "# idea here:\n",
    "#   if any subgraph node α has no possible correspondence w/ a node β in the graph, no point in continuing\n",
    "#   return true iff M has no empty candidate lists for subgraph nodes.\n",
    "function possibly_contains_isomorphism(M::Array{Bool, 2})::Bool\n",
    "    @debug \"Validating M: $(M)\"\n",
    "    for α ∈ 1:size(M, 1) # loop over subgraph nodes\n",
    "        if ! has_candidates(M, α)\n",
    "            return false # subgraph node α cannot be assigned! =-O no point in continuing.\n",
    "        end\n",
    "    end\n",
    "    return true # M may be the intersection of one or more solutions.\n",
    "end\n",
    "\n",
    "possibly_contains_isomorphism(M₀)"
   ]
  },
  {
   "cell_type": "code",
   "execution_count": 8,
   "metadata": {},
   "outputs": [
    {
     "data": {
      "text/plain": [
       "0-element Array{Int64,1}"
      ]
     },
     "execution_count": 8,
     "metadata": {},
     "output_type": "execute_result"
    }
   ],
   "source": [
    "neighbors(xtal.bonds, 1)"
   ]
  },
  {
   "cell_type": "code",
   "execution_count": 9,
   "metadata": {},
   "outputs": [],
   "source": [
    "function prune!(M::Array{Bool, 2}, subgraph::SimpleGraph, graph::SimpleGraph)\n",
    "    pruned = true # to enter while loop\n",
    "    while pruned\n",
    "        pruned = false\n",
    "        for α ∈ size(M, 1) # loop thru subgraph nodes\n",
    "            # get neighbors of node α\n",
    "            neighbors_of_α = neighbors(subgraph, α)\n",
    "            # loop thru candidate matches β ∈ graph for this subgraph node α\n",
    "            for β ∈ candidate_list(M, α)\n",
    "                neighbors_of_β = neighbors(graph, β)\n",
    "                # now, suppose α ∈ subgraph and β ∈ graph correspond...\n",
    "                for x ∈ neighbors_of_α\n",
    "                    # if there is no neighbor of β that could correspond to x, neighbor of α, then, contradiction.\n",
    "                    if length(intersect(candidate_list(M, x), neighbors_of_β)) == 0\n",
    "                        M[α, β] = false\n",
    "                        pruned = true\n",
    "                    end\n",
    "                end\n",
    "            end\n",
    "        end\n",
    "    end\n",
    "end\n",
    "\n",
    "prune!(M₀, fragment.bonds, xtal.bonds)"
   ]
  },
  {
   "cell_type": "code",
   "execution_count": 10,
   "metadata": {},
   "outputs": [
    {
     "data": {
      "text/plain": [
       "10"
      ]
     },
     "execution_count": 10,
     "metadata": {},
     "output_type": "execute_result"
    }
   ],
   "source": [
    "size(M₀, 1)"
   ]
  },
  {
   "cell_type": "code",
   "execution_count": 16,
   "metadata": {},
   "outputs": [
    {
     "data": {
      "text/plain": [
       "true"
      ]
     },
     "execution_count": 16,
     "metadata": {},
     "output_type": "execute_result"
    }
   ],
   "source": [
    "# suppose node α ∈ subgraph and node β ∈ graph correspond.\n",
    "#   modify M accordingly.\n",
    "function assign_correspondence(M::Array{Bool, 2}, α::Int, β::Int)\n",
    "    M[α, :] .= false # zero out row of subgraph node\n",
    "    M[:, β] .= false # zero out column of graph node\n",
    "    M[α, β] = true # assign correspondence at intersection\n",
    "end\n",
    "\n",
    "assign_correspondence(M₀, 1, 2)"
   ]
  },
  {
   "cell_type": "code",
   "execution_count": null,
   "metadata": {},
   "outputs": [],
   "source": []
  },
  {
   "cell_type": "code",
   "execution_count": 14,
   "metadata": {},
   "outputs": [
    {
     "data": {
      "text/plain": [
       "5.0"
      ]
     },
     "execution_count": 14,
     "metadata": {},
     "output_type": "execute_result"
    }
   ],
   "source": [
    "p = 3.0\n",
    "f(x) = x + p\n",
    "f(2.0)"
   ]
  },
  {
   "cell_type": "code",
   "execution_count": null,
   "metadata": {},
   "outputs": [],
   "source": [
    "[is_isomorphism(soln) for soln in solns]"
   ]
  }
 ],
 "metadata": {
  "kernelspec": {
   "display_name": "Julia 1.4.0",
   "language": "julia",
   "name": "julia-1.4"
  },
  "language_info": {
   "file_extension": ".jl",
   "mimetype": "application/julia",
   "name": "julia",
   "version": "1.4.0"
  }
 },
 "nbformat": 4,
 "nbformat_minor": 4
}
