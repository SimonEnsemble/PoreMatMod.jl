{
 "cells": [
  {
   "cell_type": "code",
   "execution_count": 1,
   "metadata": {},
   "outputs": [
    {
     "name": "stderr",
     "output_type": "stream",
     "text": [
      "┌ Info: Crystal IRMOF-1_one_ring.cif has  space group. I am converting it to P1 symmetry.\n",
      "│         To afrain from this, pass `convert_to_p1=false` to the `Crystal` constructor.\n",
      "└ @ PorousMaterials /home/cokes/.julia/dev/PorousMaterials/src/crystal.jl:426\n"
     ]
    },
    {
     "data": {
      "text/plain": [
       "{51, 41} undirected simple Int64 graph"
      ]
     },
     "execution_count": 1,
     "metadata": {},
     "output_type": "execute_result"
    }
   ],
   "source": [
    "using PorousMaterials, LightGraphs\n",
    "\n",
    "include(\"src/moiety.jl\")\n",
    "fragment = moiety(\"p-phenylene\")\n",
    "\n",
    "xtal = Crystal(\"IRMOF-1_one_ring.cif\")\n",
    "strip_numbers_from_atom_labels!(xtal)\n",
    "infer_bonds!(xtal, false)\n",
    "xtal.bonds\n",
    "\n",
    "subgraph = fragment.bonds\n",
    "graph = xtal.bonds"
   ]
  },
  {
   "cell_type": "code",
   "execution_count": 2,
   "metadata": {},
   "outputs": [
    {
     "data": {
      "text/plain": [
       "10×51 Array{Bool,2}:\n",
       " 0  0  0  0  0  0  0  0  0  0  0  0  0  …  0  0  0  0  0  0  0  0  0  0  0  0\n",
       " 0  0  0  0  0  0  0  0  0  0  0  0  0     0  0  0  0  0  0  0  0  0  0  0  0\n",
       " 0  0  0  0  0  0  0  0  0  0  0  0  0     0  0  0  0  0  0  0  0  0  0  0  0\n",
       " 0  0  0  0  0  0  0  0  0  0  0  0  0     0  0  0  0  0  0  0  0  0  0  0  0\n",
       " 0  0  0  0  0  0  0  0  0  0  0  0  0     0  0  0  0  0  0  0  0  0  0  0  0\n",
       " 0  0  0  0  0  0  0  0  0  0  0  0  0  …  0  0  0  0  0  0  0  0  0  0  0  0\n",
       " 0  0  0  0  0  0  0  0  0  0  0  0  0     1  1  1  1  1  1  1  1  1  1  1  1\n",
       " 0  0  0  0  0  0  0  0  0  0  0  0  0     1  1  1  1  1  1  1  1  1  1  1  1\n",
       " 0  0  0  0  0  0  0  0  0  0  0  0  0     1  1  1  1  1  1  1  1  1  1  1  1\n",
       " 0  0  0  0  0  0  0  0  0  0  0  0  0     1  1  1  1  1  1  1  1  1  1  1  1"
      ]
     },
     "execution_count": 2,
     "metadata": {},
     "output_type": "execute_result"
    }
   ],
   "source": [
    "# \"compatibility matrix\"\n",
    "# M₀[α, β] = 1 if any only if:\n",
    "#     deg(β ∈ graph) ≥ deg(α ∈ subgraph)\n",
    "#      and\n",
    "#     species(α ∈ subgraph) == species(β ∈ graph)\n",
    "function compatibility_matrix(subgraph::SimpleGraph, subgraph_species::Array{Symbol, 1},\n",
    "                              graph::SimpleGraph,    graph_species::Array{Symbol, 1})::Array{Bool, 2}\n",
    "    @debug \"Finding M₀...\"\n",
    "    # allocate M. rows correspond to subgraph nodes, columns to graph nodes.\n",
    "    M₀ = zeros(Bool, nv(subgraph), nv(graph))\n",
    "    for α ∈ 1:nv(subgraph) # Loop over rows (subgraph nodes)\n",
    "        for β ∈ 1:nv(graph) # Loop over columns (graph nodes)\n",
    "            # Record Bool for each (i,j): true if atom species match and graph node degree is sufficient.\n",
    "            if (degree(graph, β) ≥ degree(subgraph, α)) && (subgraph_species[α] == graph_species[β])\n",
    "                M₀[α, β] = true # cannot rule out correspondence, so, true, for all we know at this point, these could correspond.\n",
    "            end\n",
    "        end\n",
    "    end\n",
    "    return M₀\n",
    "end\n",
    "\n",
    "M₀ = compatibility_matrix(fragment.bonds, fragment.atoms.species, xtal.bonds, xtal.atoms.species)"
   ]
  },
  {
   "cell_type": "code",
   "execution_count": 3,
   "metadata": {},
   "outputs": [],
   "source": [
    "# list of nodes β ∈ graph that could possibly correpond with node α ∈ subgraph\n",
    "function candidate_list(M::Array{Bool, 2}, α::Int)::Array{Int, 1}\n",
    "    return [β for β = 1:size(M, 2) if M[α, β]]\n",
    "end\n",
    "\n",
    "α = 10\n",
    "cl = candidate_list(M₀, α)\n",
    "\n",
    "for β = 1:nv(graph)\n",
    "    if β in cl\n",
    "        @assert M₀[α, β] == 1\n",
    "    else\n",
    "        @assert M₀[α, β] == 0\n",
    "    end\n",
    "    \n",
    "end"
   ]
  },
  {
   "cell_type": "code",
   "execution_count": 4,
   "metadata": {},
   "outputs": [],
   "source": [
    "# does node α have possible candidate matches in the graph?\n",
    "function has_candidates(M::Array{Bool, 2}, α::Int)::Bool\n",
    "    for β ∈ 1:size(M, 2) # loop over graph nodes\n",
    "        if M[α, β]\n",
    "            return true\n",
    "        end\n",
    "    end\n",
    "    # if made it this far, no graph node could possible correspond to α ∈ subgraph =/\n",
    "    return false \n",
    "end\n",
    "\n",
    "for α = 1:size(M₀, 1)\n",
    "    if sum(M₀[α, :]) > 0\n",
    "        @assert has_candidates(M₀, α)\n",
    "    else\n",
    "        @assert ! has_candidates(M₀, α)\n",
    "    end\n",
    "end"
   ]
  },
  {
   "cell_type": "code",
   "execution_count": 5,
   "metadata": {},
   "outputs": [
    {
     "data": {
      "text/plain": [
       "false"
      ]
     },
     "execution_count": 5,
     "metadata": {},
     "output_type": "execute_result"
    }
   ],
   "source": [
    "function is_isomorphism(M::Array{Bool, 2})::Bool\n",
    "    # (1) each row of M, corresponding to a node α ∈ subgraph, contains exactly one 1.\n",
    "    #     i.e., every subgraph node has exactly one correspondence\n",
    "    for α ∈ 1:size(M, 1)\n",
    "        if sum(M[α, :]) != 1\n",
    "            return false\n",
    "        end\n",
    "    end\n",
    "    # (2) no column of M, corresponding to a node β ∈ graph, contains more than one 1.\n",
    "    #     i.e., a graph node does not correspond to more than 1 subgraph node.\n",
    "    for β ∈ 1:size(M, 2)\n",
    "        if sum(M[:, β]) > 1\n",
    "            return false\n",
    "        end\n",
    "    end\n",
    "    # if made it this far, it is indeed an isomorphism.\n",
    "    return true\n",
    "end\n",
    "\n",
    "is_isomorphism(M₀)"
   ]
  },
  {
   "cell_type": "code",
   "execution_count": 6,
   "metadata": {},
   "outputs": [
    {
     "data": {
      "text/plain": [
       "true"
      ]
     },
     "execution_count": 6,
     "metadata": {},
     "output_type": "execute_result"
    }
   ],
   "source": [
    "# idea here:\n",
    "#   if any subgraph node α has no possible correspondence w/ a node β in the graph, no point in continuing\n",
    "#   return true iff M has no empty candidate lists for subgraph nodes.\n",
    "function possibly_contains_isomorphism(M::Array{Bool, 2})::Bool\n",
    "    @debug \"Validating M: $(M)\"\n",
    "    for α ∈ 1:size(M, 1) # loop over subgraph nodes\n",
    "        if ! has_candidates(M, α)\n",
    "            return false # subgraph node α cannot be assigned! =-O no point in continuing.\n",
    "        end\n",
    "    end\n",
    "    return true # M may be the intersection of one or more solutions.\n",
    "end\n",
    "\n",
    "possibly_contains_isomorphism(M₀)"
   ]
  },
  {
   "cell_type": "code",
   "execution_count": 7,
   "metadata": {},
   "outputs": [],
   "source": [
    "function prune!(M::Array{Bool, 2}, subgraph::SimpleGraph, graph::SimpleGraph)\n",
    "    pruned = true # to enter while loop\n",
    "    while pruned\n",
    "        pruned = false\n",
    "        for α ∈ 1:size(M, 1) # loop thru subgraph nodes\n",
    "            # get neighbors of node α\n",
    "            neighbors_of_α = neighbors(subgraph, α)\n",
    "            # loop thru candidate matches β ∈ graph for this subgraph node α\n",
    "            for β ∈ candidate_list(M, α)\n",
    "                neighbors_of_β = neighbors(graph, β)\n",
    "                # now, suppose α ∈ subgraph and β ∈ graph correspond...\n",
    "                for x ∈ neighbors_of_α\n",
    "                    # if there is no neighbor of β that could correspond to x, neighbor of α, then, contradiction.\n",
    "                    if length(intersect(candidate_list(M, x), neighbors_of_β)) == 0\n",
    "                        M[α, β] = false\n",
    "                        pruned = true\n",
    "                    end\n",
    "                end\n",
    "            end\n",
    "        end\n",
    "    end\n",
    "end\n",
    "\n",
    "prune!(M₀, fragment.bonds, xtal.bonds)"
   ]
  },
  {
   "cell_type": "code",
   "execution_count": 8,
   "metadata": {},
   "outputs": [
    {
     "data": {
      "text/plain": [
       "10"
      ]
     },
     "execution_count": 8,
     "metadata": {},
     "output_type": "execute_result"
    }
   ],
   "source": [
    "size(M₀, 1)"
   ]
  },
  {
   "cell_type": "code",
   "execution_count": 9,
   "metadata": {},
   "outputs": [],
   "source": [
    "# suppose node α ∈ subgraph and node β ∈ graph correspond.\n",
    "#   modify M accordingly.\n",
    "function assign_correspondence!(M::Array{Bool, 2}, α::Int, β::Int)\n",
    "    M[α, :] .= false # zero out row of subgraph node\n",
    "    M[:, β] .= false # zero out column of graph node\n",
    "    M[α, β] = true # assign correspondence at intersection\n",
    "end\n",
    "\n",
    "α = 3\n",
    "β = 5\n",
    "assign_correspondence!(M₀, α, β)\n",
    "\n",
    "@assert M₀[α, β] == 1\n",
    "@assert sum(M₀[:, β]) == 1\n",
    "@assert sum(M₀[α, :]) == 1"
   ]
  },
  {
   "cell_type": "code",
   "execution_count": 10,
   "metadata": {},
   "outputs": [],
   "source": [
    "# soln:\n",
    "#    soln[α ∈ subgraph] = β ∈ graph where α corresponds to β\n",
    "function depth_first_search(α::Int, subgraph::SimpleGraph, graph::SimpleGraph, M::Array{Bool, 2}, soln::Array{Int, 1}, β_mapped::Array{Bool, 1})\n",
    "    if α > size(M, 1)\n",
    "        return nothing\n",
    "    end\n",
    "    \n",
    "#     # back-track\n",
    "#     if ! has_candidates(M, α)\n",
    "#         depth_first_search(α - 1, subgraph, graph, M, soln, β_mapped)\n",
    "#     end\n",
    "    \n",
    "    # loop thru un-assigned graph nodes β that could possibly correspond to subnode α\n",
    "    for β ∈ candidate_list(M, α)\n",
    "        # if βraph is already mapped, not a viable solution.\n",
    "        #   (not sure if necessary, i.e. if M already knows this)\n",
    "        if β_mapped[β] \n",
    "            continue\n",
    "        end\n",
    "        \n",
    "        M′ = deepcopy(M)\n",
    "        \n",
    "        assign_correspondence!(M′, α, β)\n",
    "        soln[α] = β\n",
    "        β_mapped[β] = true\n",
    "        \n",
    "        prune!(M′, subgraph, graph)\n",
    "        \n",
    "        # if we reached bottom of tree, iso-morphism is found!\n",
    "        if α == size(M′, 1)\n",
    "            # do we hv to check if it's a sol'n or is it guarenteed? why prune then?\n",
    "            if is_isomorphism(M′)\n",
    "                push!(solns, deepcopy(soln))\n",
    "            end\n",
    "            # don't return b/c we need to look at other candidates\n",
    "        end\n",
    "        \n",
    "        if M′[α, β] && possibly_contains_isomorphism(M′)\n",
    "            # we've assigned α, go deeper\n",
    "            depth_first_search(α + 1, subgraph, graph, M′, soln, β_mapped)\n",
    "        end\n",
    "        \n",
    "        β_mapped[β] = false\n",
    "        soln[α] = 0\n",
    "    end\n",
    "    return nothing\n",
    "end\n",
    "\n",
    "solns = []\n",
    "soln = [0 for i = 1:nv(subgraph)]\n",
    "β_mapped = [false for i = 1:nv(graph)]\n",
    "M₀ = compatibility_matrix(fragment.bonds, fragment.atoms.species, xtal.bonds, xtal.atoms.species)\n",
    "depth_first_search(1, fragment.bonds, xtal.bonds, M₀, soln, β_mapped)"
   ]
  },
  {
   "cell_type": "code",
   "execution_count": 11,
   "metadata": {},
   "outputs": [
    {
     "data": {
      "text/plain": [
       "4-element Array{Any,1}:\n",
       " [26, 34, 38, 39, 27, 36, 51, 46, 50, 48]\n",
       " [26, 38, 34, 36, 27, 39, 48, 50, 46, 51]\n",
       " [27, 36, 39, 38, 26, 34, 50, 48, 51, 46]\n",
       " [27, 39, 36, 34, 26, 38, 46, 51, 48, 50]"
      ]
     },
     "execution_count": 11,
     "metadata": {},
     "output_type": "execute_result"
    }
   ],
   "source": [
    "solns"
   ]
  },
  {
   "cell_type": "code",
   "execution_count": null,
   "metadata": {},
   "outputs": [],
   "source": []
  }
 ],
 "metadata": {
  "kernelspec": {
   "display_name": "Julia 1.4.0",
   "language": "julia",
   "name": "julia-1.4"
  },
  "language_info": {
   "file_extension": ".jl",
   "mimetype": "application/julia",
   "name": "julia",
   "version": "1.4.0"
  }
 },
 "nbformat": 4,
 "nbformat_minor": 4
}
