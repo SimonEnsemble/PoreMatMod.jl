{
 "cells": [
  {
   "cell_type": "code",
   "execution_count": 1,
   "metadata": {},
   "outputs": [],
   "source": [
    "using DataFrames, Logging, Revise\n",
    "global_logger(ConsoleLogger(stdout, Logging.Info));"
   ]
  },
  {
   "cell_type": "markdown",
   "metadata": {},
   "source": [
    "# MOFun Find-Replace"
   ]
  },
  {
   "cell_type": "markdown",
   "metadata": {},
   "source": [
    "### Import the module and prepare the input data"
   ]
  },
  {
   "cell_type": "code",
   "execution_count": 2,
   "metadata": {},
   "outputs": [],
   "source": [
    "using PorousMaterials, MOFun\n",
    "s_moty = moiety(\"find-replace/2-!-p-phenylene\")\n",
    "r_moty = moiety(\"2-acetylamido-p-phenylene\")\n",
    "parent = Crystal(\"IRMOF-1.cif\")\n",
    "strip_numbers_from_atom_labels!(parent)\n",
    "infer_bonds!(parent, true)"
   ]
  },
  {
   "cell_type": "markdown",
   "metadata": {},
   "source": [
    "### Run the search"
   ]
  },
  {
   "cell_type": "code",
   "execution_count": 3,
   "metadata": {},
   "outputs": [],
   "source": [
    "search = substructure_search(s_moty, parent);"
   ]
  },
  {
   "cell_type": "markdown",
   "metadata": {},
   "source": [
    "### See the results\n",
    "\n",
    "The `Search` object has attributes `query` and `results`"
   ]
  },
  {
   "cell_type": "code",
   "execution_count": 4,
   "metadata": {},
   "outputs": [],
   "source": [
    "search.query;"
   ]
  },
  {
   "cell_type": "code",
   "execution_count": 5,
   "metadata": {},
   "outputs": [],
   "source": [
    "search.results;"
   ]
  },
  {
   "cell_type": "markdown",
   "metadata": {},
   "source": [
    "Several functions are provided to query the results"
   ]
  },
  {
   "cell_type": "code",
   "execution_count": 6,
   "metadata": {},
   "outputs": [],
   "source": [
    "nb_isomorphisms(search);"
   ]
  },
  {
   "cell_type": "code",
   "execution_count": 7,
   "metadata": {},
   "outputs": [],
   "source": [
    "nb_locations(search);"
   ]
  },
  {
   "cell_type": "code",
   "execution_count": 8,
   "metadata": {},
   "outputs": [],
   "source": [
    "nb_configs_at_loc(search);"
   ]
  },
  {
   "cell_type": "markdown",
   "metadata": {},
   "source": [
    "### Make a set number of random replacements"
   ]
  },
  {
   "cell_type": "code",
   "execution_count": 9,
   "metadata": {},
   "outputs": [],
   "source": [
    "# returns ids of results corresponding to the \n",
    "function get_config_ids(search::Search; orientations::Array{Int}=Int[], nb_loc::Int=0, locations::Array{Int}=Int[])::Array{Int}\n",
    "    # randomize orientations\n",
    "    orientations = orientations == [] ? [rand(1:n) for n ∈ nb_configs_at_loc(search)] : orientations\n",
    "    nb_loc = nb_loc == 0 ? nb_locations(search) : nb_loc\n",
    "    locations = locations == [] ? [1:nb_locations(search)...] : locations\n",
    "    # get id of ith isom in each group per orientations array\n",
    "    return [loc.id[orientations[i]] for (i, loc) ∈ enumerate(groupby(search.results, :p_subset)) if i ∈ locations]\n",
    "end\n",
    "\n",
    "get_config_ids(search);"
   ]
  },
  {
   "cell_type": "code",
   "execution_count": 10,
   "metadata": {},
   "outputs": [],
   "source": [
    "substructure_replace(s_moty, r_moty, parent, search, get_config_ids(search, nb_loc=1));"
   ]
  },
  {
   "cell_type": "markdown",
   "metadata": {},
   "source": [
    "### Make a random replacement at each location"
   ]
  },
  {
   "cell_type": "code",
   "execution_count": 11,
   "metadata": {},
   "outputs": [],
   "source": [
    "substructure_replace(s_moty, r_moty, parent, search, get_config_ids(search));"
   ]
  },
  {
   "cell_type": "markdown",
   "metadata": {},
   "source": [
    "### Make a random replacement at selected locations"
   ]
  },
  {
   "cell_type": "code",
   "execution_count": 12,
   "metadata": {},
   "outputs": [],
   "source": [
    "locations = [2, 3, 5, 7]\n",
    "substructure_replace(s_moty, r_moty, parent, search, get_config_ids(search, locations=locations));"
   ]
  },
  {
   "cell_type": "markdown",
   "metadata": {},
   "source": [
    "### Make a specific series of replacements"
   ]
  },
  {
   "cell_type": "code",
   "execution_count": 13,
   "metadata": {},
   "outputs": [],
   "source": [
    "orientations = [1 for _ ∈ 1:nb_locations(search)]\n",
    "substructure_replace(s_moty, r_moty, parent, search, get_config_ids(search, orientations=orientations, locations=locations));"
   ]
  }
 ],
 "metadata": {
  "kernelspec": {
   "display_name": "Julia 1.4.2",
   "language": "julia",
   "name": "julia-1.4"
  },
  "language_info": {
   "file_extension": ".jl",
   "mimetype": "application/julia",
   "name": "julia",
   "version": "1.4.2"
  }
 },
 "nbformat": 4,
 "nbformat_minor": 4
}
