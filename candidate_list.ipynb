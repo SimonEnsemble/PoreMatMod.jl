{
 "cells": [
  {
   "cell_type": "code",
   "execution_count": 1,
   "metadata": {},
   "outputs": [
    {
     "data": {
      "text/plain": [
       "Main.Ullmann"
      ]
     },
     "execution_count": 1,
     "metadata": {},
     "output_type": "execute_result"
    }
   ],
   "source": [
    "using Logging\n",
    "\n",
    "include(\"src/ullmann.jl\")"
   ]
  },
  {
   "cell_type": "code",
   "execution_count": 2,
   "metadata": {},
   "outputs": [
    {
     "data": {
      "text/latex": [
       "\\begin{verbatim}\n",
       "function candidate_list(M::Array{Bool,2},node_index::Int,graph::Symbol)::Array{Int}\n",
       "Gives the list of candidates for mapping the node according to M\n",
       "Argument `graph` must be a symbol, either :graph or :subgraph,\n",
       "to indicate to which graph the node belongs.\n",
       "\\end{verbatim}\n"
      ],
      "text/markdown": [
       "```\n",
       "function candidate_list(M::Array{Bool,2},node_index::Int,graph::Symbol)::Array{Int}\n",
       "Gives the list of candidates for mapping the node according to M\n",
       "Argument `graph` must be a symbol, either :graph or :subgraph,\n",
       "to indicate to which graph the node belongs.\n",
       "```\n"
      ],
      "text/plain": [
       "\u001b[36m  function candidate_list(M::Array{Bool,2},node_index::Int,graph::Symbol)::Array{Int}\u001b[39m\n",
       "\u001b[36m  Gives the list of candidates for mapping the node according to M\u001b[39m\n",
       "\u001b[36m  Argument `graph` must be a symbol, either :graph or :subgraph,\u001b[39m\n",
       "\u001b[36m  to indicate to which graph the node belongs.\u001b[39m"
      ]
     },
     "execution_count": 2,
     "metadata": {},
     "output_type": "execute_result"
    }
   ],
   "source": [
    "?Ullmann.candidate_list"
   ]
  },
  {
   "cell_type": "code",
   "execution_count": 3,
   "metadata": {},
   "outputs": [
    {
     "data": {
      "text/plain": [
       "3×3 Array{Bool,2}:\n",
       " 0  1  1\n",
       " 1  0  0\n",
       " 1  1  0"
      ]
     },
     "execution_count": 3,
     "metadata": {},
     "output_type": "execute_result"
    }
   ],
   "source": [
    "M = Array{Bool}([[0 1 1]\n",
    "                 [1 0 0]\n",
    "                 [1 1 0]])"
   ]
  },
  {
   "cell_type": "code",
   "execution_count": 4,
   "metadata": {},
   "outputs": [
    {
     "data": {
      "text/plain": [
       "2-element Array{Int64,1}:\n",
       " 2\n",
       " 3"
      ]
     },
     "execution_count": 4,
     "metadata": {},
     "output_type": "execute_result"
    }
   ],
   "source": [
    "Ullmann.candidate_list(M, 1, :graph)"
   ]
  },
  {
   "cell_type": "code",
   "execution_count": 5,
   "metadata": {},
   "outputs": [
    {
     "data": {
      "text/plain": [
       "1-element Array{Int64,1}:\n",
       " 1"
      ]
     },
     "execution_count": 5,
     "metadata": {},
     "output_type": "execute_result"
    }
   ],
   "source": [
    "Ullmann.candidate_list(M, 2, :subgraph)"
   ]
  },
  {
   "cell_type": "code",
   "execution_count": 6,
   "metadata": {},
   "outputs": [
    {
     "data": {
      "text/plain": [
       "2-element Array{Int64,1}:\n",
       " 1\n",
       " 3"
      ]
     },
     "execution_count": 6,
     "metadata": {},
     "output_type": "execute_result"
    }
   ],
   "source": [
    "Ullmann.candidate_list(M, 2, :graph)"
   ]
  },
  {
   "cell_type": "code",
   "execution_count": null,
   "metadata": {},
   "outputs": [],
   "source": []
  }
 ],
 "metadata": {
  "kernelspec": {
   "display_name": "Julia 1.4.2",
   "language": "julia",
   "name": "julia-1.4"
  },
  "language_info": {
   "file_extension": ".jl",
   "mimetype": "application/julia",
   "name": "julia",
   "version": "1.4.2"
  }
 },
 "nbformat": 4,
 "nbformat_minor": 4
}
