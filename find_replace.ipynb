{
 "cells": [
  {
   "cell_type": "code",
   "execution_count": 1,
   "metadata": {},
   "outputs": [],
   "source": [
    "using Logging, LinearAlgebra, Revise"
   ]
  },
  {
   "cell_type": "code",
   "execution_count": 2,
   "metadata": {},
   "outputs": [
    {
     "name": "stdout",
     "output_type": "stream",
     "text": [
      "\u001b[36m\u001b[1m[ \u001b[22m\u001b[39m\u001b[36m\u001b[1mInfo: \u001b[22m\u001b[39mPrecompiling MOFun [top-level]\n"
     ]
    }
   ],
   "source": [
    "global_logger(ConsoleLogger(stdout, Logging.Info))\n",
    "using PorousMaterials, MOFun"
   ]
  },
  {
   "cell_type": "markdown",
   "metadata": {},
   "source": [
    "# Example case: make IRMOF-1_one_ring with 2-acetylamido-terephthalate linker\n",
    "\n",
    "## parent structure"
   ]
  },
  {
   "cell_type": "code",
   "execution_count": 3,
   "metadata": {},
   "outputs": [
    {
     "name": "stdout",
     "output_type": "stream",
     "text": [
      "\u001b[36m\u001b[1m┌ \u001b[22m\u001b[39m\u001b[36m\u001b[1mInfo: \u001b[22m\u001b[39mCrystal IRMOF-1_one_ring.cif has  space group. I am converting it to P1 symmetry.\n",
      "\u001b[36m\u001b[1m└ \u001b[22m\u001b[39m        To afrain from this, pass `convert_to_p1=false` to the `Crystal` constructor.\n"
     ]
    }
   ],
   "source": [
    "parent_structure = Crystal(\"IRMOF-1_one_ring.cif\")\n",
    "strip_numbers_from_atom_labels!(parent_structure)\n",
    "infer_bonds!(parent_structure, true)"
   ]
  },
  {
   "cell_type": "markdown",
   "metadata": {},
   "source": [
    "## search moiety"
   ]
  },
  {
   "cell_type": "code",
   "execution_count": 4,
   "metadata": {},
   "outputs": [],
   "source": [
    "s_moty = moiety(\"find-replace/2-!-p-phenylene\");"
   ]
  },
  {
   "cell_type": "markdown",
   "metadata": {},
   "source": [
    "#### nodes are sorted by order, except that R-group nodes are sent to the end of the list\n",
    "\n",
    "Sorting the tagged nodes to the end may degrade performance for multi-nuclear replacement motifs.  This is a compromise made for the simplicity of aligning the moiety; it forces the isomorphism between the search moiety alignment mask and the replace moiety to keep a consistent node ordering with the isomorphism between the search moiety and the parent structure."
   ]
  },
  {
   "cell_type": "markdown",
   "metadata": {},
   "source": [
    "#### should write a test for tagged atoms being at the end\n",
    "\n",
    "## replace moiety"
   ]
  },
  {
   "cell_type": "code",
   "execution_count": 5,
   "metadata": {},
   "outputs": [],
   "source": [
    "r_moty = moiety(\"2-acetylamido-p-phenylene\");"
   ]
  },
  {
   "cell_type": "markdown",
   "metadata": {},
   "source": [
    "## substructure search results"
   ]
  },
  {
   "cell_type": "code",
   "execution_count": 6,
   "metadata": {},
   "outputs": [],
   "source": [
    "search = s_moty ∈ parent_structure;"
   ]
  },
  {
   "cell_type": "markdown",
   "metadata": {},
   "source": [
    "#### all 4 are in 1 location"
   ]
  },
  {
   "cell_type": "markdown",
   "metadata": {},
   "source": [
    "## choose 1 at random for a replacement"
   ]
  },
  {
   "cell_type": "code",
   "execution_count": 7,
   "metadata": {},
   "outputs": [],
   "source": [
    "s2p_isomorphism = search.results[rand(1:4)].isomorphism;"
   ]
  },
  {
   "cell_type": "markdown",
   "metadata": {},
   "source": [
    "## subtract R group to get mask"
   ]
  },
  {
   "cell_type": "code",
   "execution_count": 8,
   "metadata": {},
   "outputs": [],
   "source": [
    "mask = MOFun.subtract_r_group(s_moty)\n",
    "infer_bonds!(mask, false)"
   ]
  },
  {
   "cell_type": "markdown",
   "metadata": {},
   "source": [
    "## align mask to replace moiety"
   ]
  },
  {
   "cell_type": "code",
   "execution_count": 9,
   "metadata": {},
   "outputs": [],
   "source": [
    "m2r_isomorphism = (mask ∈ r_moty).results[1].isomorphism;"
   ]
  },
  {
   "cell_type": "markdown",
   "metadata": {},
   "source": [
    "#### only 1 configuration, but will not always be so (heteroleptic multi-functionalization)\n",
    "\n",
    "## now we have the correspondence between the search moiety and our target location, and between the search moiety mask and the replace moiety.  we can perform orthogonal Procrustes"
   ]
  },
  {
   "cell_type": "code",
   "execution_count": 28,
   "metadata": {},
   "outputs": [
    {
     "name": "stdout",
     "output_type": "stream",
     "text": [
      "\u001b[34m\u001b[1m┌ \u001b[22m\u001b[39m\u001b[34m\u001b[1mDebug: \u001b[22m\u001b[39madjust_for_pb\n",
      "\u001b[34m\u001b[1m│ \u001b[22m\u001b[39m  xtal.name = \"IRMOF-1_one_ring.cif\"\n",
      "\u001b[34m\u001b[1m└ \u001b[22m\u001b[39m\u001b[90m@ MOFun C:\\Users\\eahen\\.julia\\dev\\MOFfun.jl\\src\\findreplace.jl:95\u001b[39m\n",
      "\u001b[34m\u001b[1m┌ \u001b[22m\u001b[39m\u001b[34m\u001b[1mDebug: \u001b[22m\u001b[39madjust_for_pb\n",
      "\u001b[34m\u001b[1m│ \u001b[22m\u001b[39m  xtal.name = \"find-replace/2-!-p-phenylene\"\n",
      "\u001b[34m\u001b[1m└ \u001b[22m\u001b[39m\u001b[90m@ MOFun C:\\Users\\eahen\\.julia\\dev\\MOFfun.jl\\src\\findreplace.jl:95\u001b[39m\n"
     ]
    },
    {
     "ename": "AssertionError",
     "evalue": "AssertionError: Invalid xf coords in find-replace/2-!-p-phenylene",
     "output_type": "error",
     "traceback": [
      "AssertionError: Invalid xf coords in find-replace/2-!-p-phenylene",
      "",
      "Stacktrace:",
      " [1] adjust_for_pb(::Crystal) at C:\\Users\\eahen\\.julia\\dev\\MOFfun.jl\\src\\findreplace.jl:101",
      " [2] _broadcast_getindex_evalf at .\\broadcast.jl:631 [inlined]",
      " [3] _broadcast_getindex at .\\broadcast.jl:604 [inlined]",
      " [4] getindex at .\\broadcast.jl:564 [inlined]",
      " [5] macro expansion at .\\broadcast.jl:910 [inlined]",
      " [6] macro expansion at .\\simdloop.jl:77 [inlined]",
      " [7] copyto! at .\\broadcast.jl:909 [inlined]",
      " [8] copyto! at .\\broadcast.jl:864 [inlined]",
      " [9] copy(::Base.Broadcast.Broadcasted{Base.Broadcast.DefaultArrayStyle{1},Tuple{Base.OneTo{Int64}},typeof(MOFun.adjust_for_pb),Tuple{Array{Crystal,1}}}) at .\\broadcast.jl:840",
      " [10] materialize at .\\broadcast.jl:820 [inlined]",
      " [11] effect_replacement(::Crystal, ::Crystal, ::Crystal, ::Array{Int64,1}, ::Array{Int64,1}) at C:\\Users\\eahen\\.julia\\dev\\MOFfun.jl\\src\\findreplace.jl:206",
      " [12] (::var\"#37#38\")() at .\\In[28]:2",
      " [13] with_logstate(::var\"#37#38\", ::Base.CoreLogging.LogState) at .\\logging.jl:398",
      " [14] with_logger(::Function, ::ConsoleLogger) at .\\logging.jl:505",
      " [15] top-level scope at In[28]:1"
     ]
    }
   ],
   "source": [
    "with_logger(ConsoleLogger(stdout, Logging.Debug)) do\n",
    "    altered_crystal = MOFun.effect_replacement(parent_structure, s_moty, r_moty, s2p_isomorphism, m2r_isomorphism)\n",
    "    write_cif(altered_crystal, \"output/\" * altered_crystal.name * \".cif\")\n",
    "end"
   ]
  },
  {
   "cell_type": "code",
   "execution_count": 11,
   "metadata": {},
   "outputs": [
    {
     "data": {
      "text/plain": [
       "Bravais unit cell of a crystal.\n",
       "\tUnit cell angles α = 90.000000 deg. β = 90.000000 deg. γ = 90.000000 deg.\n",
       "\tUnit cell dimensions a = 1.000000 Å. b = 1.000000 Å, c = 1.000000 Å\n",
       "\tVolume of unit cell: 1.000000 Å³\n"
      ]
     },
     "execution_count": 11,
     "metadata": {},
     "output_type": "execute_result"
    }
   ],
   "source": [
    "s_moty.box"
   ]
  },
  {
   "cell_type": "code",
   "execution_count": null,
   "metadata": {},
   "outputs": [],
   "source": []
  }
 ],
 "metadata": {
  "kernelspec": {
   "display_name": "Julia 1.4.2",
   "language": "julia",
   "name": "julia-1.4"
  },
  "language_info": {
   "file_extension": ".jl",
   "mimetype": "application/julia",
   "name": "julia",
   "version": "1.4.2"
  }
 },
 "nbformat": 4,
 "nbformat_minor": 4
}
