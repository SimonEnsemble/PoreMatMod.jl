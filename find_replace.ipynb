{
 "cells": [
  {
   "cell_type": "code",
   "execution_count": 1,
   "metadata": {},
   "outputs": [],
   "source": [
    "using Logging, LinearAlgebra, ProgressMeter, Revise"
   ]
  },
  {
   "cell_type": "code",
   "execution_count": 2,
   "metadata": {},
   "outputs": [
    {
     "name": "stdout",
     "output_type": "stream",
     "text": [
      "\u001b[36m\u001b[1m[ \u001b[22m\u001b[39m\u001b[36m\u001b[1mInfo: \u001b[22m\u001b[39mPrecompiling MOFun [top-level]\n"
     ]
    }
   ],
   "source": [
    "global_logger(ConsoleLogger(stdout, Logging.Info))\n",
    "using PorousMaterials, MOFun"
   ]
  },
  {
   "cell_type": "code",
   "execution_count": 3,
   "metadata": {},
   "outputs": [],
   "source": [
    "s_moty = moiety(\"find-replace/2-!-p-phenylene\");"
   ]
  },
  {
   "cell_type": "code",
   "execution_count": 4,
   "metadata": {},
   "outputs": [],
   "source": [
    "r_moty = moiety(\"2-acetylamido-p-phenylene\");"
   ]
  },
  {
   "cell_type": "code",
   "execution_count": 29,
   "metadata": {},
   "outputs": [
    {
     "name": "stdout",
     "output_type": "stream",
     "text": [
      "\u001b[36m\u001b[1m┌ \u001b[22m\u001b[39m\u001b[36m\u001b[1mInfo: \u001b[22m\u001b[39mCrystal IRMOF-1_one_ring.cif has  space group. I am converting it to P1 symmetry.\n",
      "\u001b[36m\u001b[1m└ \u001b[22m\u001b[39m        To afrain from this, pass `convert_to_p1=false` to the `Crystal` constructor.\n"
     ]
    },
    {
     "data": {
      "text/plain": []
     },
     "execution_count": 29,
     "metadata": {},
     "output_type": "execute_result"
    },
    {
     "name": "stdout",
     "output_type": "stream",
     "text": [
      "4 result(s) in 1 location(s)\n",
      "\tfind-replace/2-!-p-phenylene ∈ IRMOF-1_one_ring.cif (1,1) [34, 38, 39, 36, 26, 27, 46, 50, 48, 51]\n",
      "\tfind-replace/2-!-p-phenylene ∈ IRMOF-1_one_ring.cif (1,2) [36, 39, 38, 34, 27, 26, 48, 51, 46, 50]\n",
      "\tfind-replace/2-!-p-phenylene ∈ IRMOF-1_one_ring.cif (1,3) [38, 34, 36, 39, 26, 27, 50, 46, 51, 48]\n",
      "\tfind-replace/2-!-p-phenylene ∈ IRMOF-1_one_ring.cif (1,4) [39, 36, 34, 38, 27, 26, 51, 48, 50, 46]\n"
     ]
    }
   ],
   "source": [
    "parent = Crystal(\"IRMOF-1_one_ring.cif\")\n",
    "strip_numbers_from_atom_labels!(parent)\n",
    "infer_bonds!(parent, true)\n",
    "search = s_moty ∈ parent"
   ]
  },
  {
   "cell_type": "code",
   "execution_count": 6,
   "metadata": {},
   "outputs": [],
   "source": [
    "# @eval MOFun DEBUG = true\n",
    "for i in 1:search.num_isomorphisms\n",
    "    xtal = find_replace(s_moty, r_moty, parent, c=i, s=search)\n",
    "    write_cif(xtal, \"output/$(parent.name)/\" * xtal.name * \"_$i.cif\")\n",
    "end\n",
    "@eval MOFun DEBUG = false;"
   ]
  },
  {
   "cell_type": "code",
   "execution_count": 30,
   "metadata": {},
   "outputs": [
    {
     "name": "stdout",
     "output_type": "stream",
     "text": [
      "96 result(s) in 24 location(s)\n",
      "\tfind-replace/2-!-p-phenylene ∈ IRMOF-1.cif (1,1) [259, 284, 295, 272, 211, 220, 355, 380, 368, 391]\n",
      "\tfind-replace/2-!-p-phenylene ∈ IRMOF-1.cif (1,2) [272, 295, 284, 259, 220, 211, 368, 391, 355, 380]\n",
      "\tfind-replace/2-!-p-phenylene ∈ IRMOF-1.cif (1,3) [284, 259, 272, 295, 211, 220, 380, 355, 391, 368]\n",
      "\tfind-replace/2-!-p-phenylene ∈ IRMOF-1.cif (1,4) [295, 272, 259, 284, 220, 211, 391, 368, 380, 355]\n",
      "\tfind-replace/2-!-p-phenylene ∈ IRMOF-1.cif (2,1) [239, 264, 277, 254, 191, 206, 335, 360, 350, 373]\n",
      "\tfind-replace/2-!-p-phenylene ∈ IRMOF-1.cif (2,2) [254, 277, 264, 239, 206, 191, 350, 373, 335, 360]\n",
      "\tfind-replace/2-!-p-phenylene ∈ IRMOF-1.cif (2,3) [264, 239, 254, 277, 191, 206, 360, 335, 373, 350]\n",
      "\tfind-replace/2-!-p-phenylene ∈ IRMOF-1.cif (2,4) [277, 254, 239, 264, 206, 191, 373, 350, 360, 335]\n",
      "\tfind-replace/2-!-p-phenylene ∈ IRMOF-1.cif (3,1) [240, 263, 278, 253, 192, 205, 336, 359, 349, 374]\n",
      "\tfind-replace/2-!-p-phenylene ∈ IRMOF-1.cif (3,2) [253, 278, 263, 240, 205, 192, 349, 374, 336, 359]\n",
      "\tfind-replace/2-!-p-phenylene ∈ IRMOF-1.cif (3,3) [263, 240, 253, 278, 192, 205, 359, 336, 374, 349]\n",
      "\tfind-replace/2-!-p-phenylene ∈ IRMOF-1.cif (3,4) [278, 253, 240, 263, 205, 192, 374, 349, 359, 336]\n",
      "\tfind-replace/2-!-p-phenylene ∈ IRMOF-1.cif (4,1) [241, 290, 299, 252, 193, 204, 337, 386, 348, 395]\n",
      "\tfind-replace/2-!-p-phenylene ∈ IRMOF-1.cif (4,2) [252, 299, 290, 241, 204, 193, 348, 395, 337, 386]\n",
      "\tfind-replace/2-!-p-phenylene ∈ IRMOF-1.cif (4,3) [290, 241, 252, 299, 193, 204, 386, 337, 395, 348]\n",
      "\tfind-replace/2-!-p-phenylene ∈ IRMOF-1.cif (4,4) [299, 252, 241, 290, 204, 193, 395, 348, 386, 337]\n",
      "\tfind-replace/2-!-p-phenylene ∈ IRMOF-1.cif (5,1) [238, 261, 279, 256, 190, 208, 334, 357, 352, 375]\n",
      "\tfind-replace/2-!-p-phenylene ∈ IRMOF-1.cif (5,2) [256, 279, 261, 238, 208, 190, 352, 375, 334, 357]\n",
      "\tfind-replace/2-!-p-phenylene ∈ IRMOF-1.cif (5,3) [261, 238, 256, 279, 190, 208, 357, 334, 375, 352]\n",
      "\tfind-replace/2-!-p-phenylene ∈ IRMOF-1.cif (5,4) [279, 256, 238, 261, 208, 190, 375, 352, 357, 334]\n",
      "\tfind-replace/2-!-p-phenylene ∈ IRMOF-1.cif (6,1) [260, 283, 296, 271, 212, 219, 356, 379, 367, 392]\n",
      "\tfind-replace/2-!-p-phenylene ∈ IRMOF-1.cif (6,2) [271, 296, 283, 260, 219, 212, 367, 392, 356, 379]\n",
      "\tfind-replace/2-!-p-phenylene ∈ IRMOF-1.cif (6,3) [283, 260, 271, 296, 212, 219, 379, 356, 392, 367]\n",
      "\tfind-replace/2-!-p-phenylene ∈ IRMOF-1.cif (6,4) [296, 271, 260, 283, 219, 212, 392, 367, 379, 356]\n",
      "\tfind-replace/2-!-p-phenylene ∈ IRMOF-1.cif (7,1) [236, 307, 320, 247, 188, 199, 332, 403, 343, 416]\n",
      "\tfind-replace/2-!-p-phenylene ∈ IRMOF-1.cif (7,2) [247, 320, 307, 236, 199, 188, 343, 416, 332, 403]\n",
      "\tfind-replace/2-!-p-phenylene ∈ IRMOF-1.cif (7,3) [307, 236, 247, 320, 188, 199, 403, 332, 416, 343]\n",
      "\tfind-replace/2-!-p-phenylene ∈ IRMOF-1.cif (7,4) [320, 247, 236, 307, 199, 188, 416, 343, 403, 332]\n",
      "\tfind-replace/2-!-p-phenylene ∈ IRMOF-1.cif (8,1) [243, 292, 298, 249, 195, 201, 339, 388, 345, 394]\n",
      "\tfind-replace/2-!-p-phenylene ∈ IRMOF-1.cif (8,2) [249, 298, 292, 243, 201, 195, 345, 394, 339, 388]\n",
      "\tfind-replace/2-!-p-phenylene ∈ IRMOF-1.cif (8,3) [292, 243, 249, 298, 195, 201, 388, 339, 394, 345]\n",
      "\tfind-replace/2-!-p-phenylene ∈ IRMOF-1.cif (8,4) [298, 249, 243, 292, 201, 195, 394, 345, 388, 339]\n",
      "\tfind-replace/2-!-p-phenylene ∈ IRMOF-1.cif (9,1) [257, 282, 294, 269, 209, 217, 353, 378, 365, 390]\n",
      "\tfind-replace/2-!-p-phenylene ∈ IRMOF-1.cif (9,2) [269, 294, 282, 257, 217, 209, 365, 390, 353, 378]\n",
      "\tfind-replace/2-!-p-phenylene ∈ IRMOF-1.cif (9,3) [282, 257, 269, 294, 209, 217, 378, 353, 390, 365]\n",
      "\tfind-replace/2-!-p-phenylene ∈ IRMOF-1.cif (9,4) [294, 269, 257, 282, 217, 209, 390, 365, 378, 353]\n",
      "\tfind-replace/2-!-p-phenylene ∈ IRMOF-1.cif (10,1) [266, 313, 324, 275, 214, 223, 362, 409, 371, 420]\n",
      "\tfind-replace/2-!-p-phenylene ∈ IRMOF-1.cif (10,2) [275, 324, 313, 266, 223, 214, 371, 420, 362, 409]\n",
      "\tfind-replace/2-!-p-phenylene ∈ IRMOF-1.cif (10,3) [313, 266, 275, 324, 214, 223, 409, 362, 420, 371]\n",
      "\tfind-replace/2-!-p-phenylene ∈ IRMOF-1.cif (10,4) [324, 275, 266, 313, 223, 214, 420, 371, 409, 362]\n",
      "\tfind-replace/2-!-p-phenylene ∈ IRMOF-1.cif (11,1) [244, 291, 297, 250, 196, 202, 340, 387, 346, 393]\n",
      "\tfind-replace/2-!-p-phenylene ∈ IRMOF-1.cif (11,2) [250, 297, 291, 244, 202, 196, 346, 393, 340, 387]\n",
      "\tfind-replace/2-!-p-phenylene ∈ IRMOF-1.cif (11,3) [291, 244, 250, 297, 196, 202, 387, 340, 393, 346]\n",
      "\tfind-replace/2-!-p-phenylene ∈ IRMOF-1.cif (11,4) [297, 250, 244, 291, 202, 196, 393, 346, 387, 340]\n",
      "\tfind-replace/2-!-p-phenylene ∈ IRMOF-1.cif (12,1) [287, 312, 325, 302, 227, 230, 383, 408, 398, 421]\n",
      "\tfind-replace/2-!-p-phenylene ∈ IRMOF-1.cif (12,2) [302, 325, 312, 287, 230, 227, 398, 421, 383, 408]\n",
      "\tfind-replace/2-!-p-phenylene ∈ IRMOF-1.cif (12,3) [312, 287, 302, 325, 227, 230, 408, 383, 421, 398]\n",
      "\tfind-replace/2-!-p-phenylene ∈ IRMOF-1.cif (12,4) [325, 302, 287, 312, 230, 227, 421, 398, 408, 383]\n",
      "\tfind-replace/2-!-p-phenylene ∈ IRMOF-1.cif (13,1) [286, 309, 327, 304, 226, 232, 382, 405, 400, 423]\n",
      "\tfind-replace/2-!-p-phenylene ∈ IRMOF-1.cif (13,2) [304, 327, 309, 286, 232, 226, 400, 423, 382, 405]\n",
      "\tfind-replace/2-!-p-phenylene ∈ IRMOF-1.cif (13,3) [309, 286, 304, 327, 226, 232, 405, 382, 423, 400]\n",
      "\tfind-replace/2-!-p-phenylene ∈ IRMOF-1.cif (13,4) [327, 304, 286, 309, 232, 226, 423, 400, 405, 382]\n",
      "\tfind-replace/2-!-p-phenylene ∈ IRMOF-1.cif (14,1) [242, 289, 300, 251, 194, 203, 338, 385, 347, 396]\n",
      "\tfind-replace/2-!-p-phenylene ∈ IRMOF-1.cif (14,2) [251, 300, 289, 242, 203, 194, 347, 396, 338, 385]\n",
      "\tfind-replace/2-!-p-phenylene ∈ IRMOF-1.cif (14,3) [289, 242, 251, 300, 194, 203, 385, 338, 396, 347]\n",
      "\tfind-replace/2-!-p-phenylene ∈ IRMOF-1.cif (14,4) [300, 251, 242, 289, 203, 194, 396, 347, 385, 338]\n",
      "\tfind-replace/2-!-p-phenylene ∈ IRMOF-1.cif (15,1) [267, 316, 322, 273, 215, 221, 363, 412, 369, 418]\n",
      "\tfind-replace/2-!-p-phenylene ∈ IRMOF-1.cif (15,2) [273, 322, 316, 267, 221, 215, 369, 418, 363, 412]\n",
      "\tfind-replace/2-!-p-phenylene ∈ IRMOF-1.cif (15,3) [316, 267, 273, 322, 215, 221, 412, 363, 418, 369]\n",
      "\tfind-replace/2-!-p-phenylene ∈ IRMOF-1.cif (15,4) [322, 273, 267, 316, 221, 215, 418, 369, 412, 363]\n",
      "\tfind-replace/2-!-p-phenylene ∈ IRMOF-1.cif (16,1) [234, 305, 317, 246, 186, 198, 330, 401, 342, 413]\n",
      "\tfind-replace/2-!-p-phenylene ∈ IRMOF-1.cif (16,2) [246, 317, 305, 234, 198, 186, 342, 413, 330, 401]\n",
      "\tfind-replace/2-!-p-phenylene ∈ IRMOF-1.cif (16,3) [305, 234, 246, 317, 186, 198, 401, 330, 413, 342]\n",
      "\tfind-replace/2-!-p-phenylene ∈ IRMOF-1.cif (16,4) [317, 246, 234, 305, 198, 186, 413, 342, 401, 330]\n",
      "\tfind-replace/2-!-p-phenylene ∈ IRMOF-1.cif (17,1) [237, 262, 280, 255, 189, 207, 333, 358, 351, 376]\n",
      "\tfind-replace/2-!-p-phenylene ∈ IRMOF-1.cif (17,2) [255, 280, 262, 237, 207, 189, 351, 376, 333, 358]\n",
      "\tfind-replace/2-!-p-phenylene ∈ IRMOF-1.cif (17,3) [262, 237, 255, 280, 189, 207, 358, 333, 376, 351]\n",
      "\tfind-replace/2-!-p-phenylene ∈ IRMOF-1.cif (17,4) [280, 255, 237, 262, 207, 189, 376, 351, 358, 333]\n",
      "\tfind-replace/2-!-p-phenylene ∈ IRMOF-1.cif (18,1) [265, 314, 323, 276, 213, 224, 361, 410, 372, 419]\n",
      "\tfind-replace/2-!-p-phenylene ∈ IRMOF-1.cif (18,2) [276, 323, 314, 265, 224, 213, 372, 419, 361, 410]\n",
      "\tfind-replace/2-!-p-phenylene ∈ IRMOF-1.cif (18,3) [314, 265, 276, 323, 213, 224, 410, 361, 419, 372]\n",
      "\tfind-replace/2-!-p-phenylene ∈ IRMOF-1.cif (18,4) [323, 276, 265, 314, 224, 213, 419, 372, 410, 361]\n",
      "\tfind-replace/2-!-p-phenylene ∈ IRMOF-1.cif (19,1) [233, 306, 318, 245, 185, 197, 329, 402, 341, 414]\n",
      "\tfind-replace/2-!-p-phenylene ∈ IRMOF-1.cif (19,2) [245, 318, 306, 233, 197, 185, 341, 414, 329, 402]\n",
      "\tfind-replace/2-!-p-phenylene ∈ IRMOF-1.cif (19,3) [306, 233, 245, 318, 185, 197, 402, 329, 414, 341]\n",
      "\tfind-replace/2-!-p-phenylene ∈ IRMOF-1.cif (19,4) [318, 245, 233, 306, 197, 185, 414, 341, 402, 329]\n",
      "\tfind-replace/2-!-p-phenylene ∈ IRMOF-1.cif (20,1) [235, 308, 319, 248, 187, 200, 331, 404, 344, 415]\n",
      "\tfind-replace/2-!-p-phenylene ∈ IRMOF-1.cif (20,2) [248, 319, 308, 235, 200, 187, 344, 415, 331, 404]\n",
      "\tfind-replace/2-!-p-phenylene ∈ IRMOF-1.cif (20,3) [308, 235, 248, 319, 187, 200, 404, 331, 415, 344]\n",
      "\tfind-replace/2-!-p-phenylene ∈ IRMOF-1.cif (20,4) [319, 248, 235, 308, 200, 187, 415, 344, 404, 331]\n",
      "\tfind-replace/2-!-p-phenylene ∈ IRMOF-1.cif (21,1) [258, 281, 293, 270, 210, 218, 354, 377, 366, 389]\n",
      "\tfind-replace/2-!-p-phenylene ∈ IRMOF-1.cif (21,2) [270"
     ]
    },
    {
     "data": {
      "text/plain": []
     },
     "execution_count": 30,
     "metadata": {},
     "output_type": "execute_result"
    },
    {
     "name": "stdout",
     "output_type": "stream",
     "text": [
      ", 293, 281, 258, 218, 210, 366, 389, 354, 377]\n",
      "\tfind-replace/2-!-p-phenylene ∈ IRMOF-1.cif (21,3) [281, 258, 270, 293, 210, 218, 377, 354, 389, 366]\n",
      "\tfind-replace/2-!-p-phenylene ∈ IRMOF-1.cif (21,4) [293, 270, 258, 281, 218, 210, 389, 366, 377, 354]\n",
      "\tfind-replace/2-!-p-phenylene ∈ IRMOF-1.cif (22,1) [268, 315, 321, 274, 216, 222, 364, 411, 370, 417]\n",
      "\tfind-replace/2-!-p-phenylene ∈ IRMOF-1.cif (22,2) [274, 321, 315, 268, 222, 216, 370, 417, 364, 411]\n",
      "\tfind-replace/2-!-p-phenylene ∈ IRMOF-1.cif (22,3) [315, 268, 274, 321, 216, 222, 411, 364, 417, 370]\n",
      "\tfind-replace/2-!-p-phenylene ∈ IRMOF-1.cif (22,4) [321, 274, 268, 315, 222, 216, 417, 370, 411, 364]\n",
      "\tfind-replace/2-!-p-phenylene ∈ IRMOF-1.cif (23,1) [285, 310, 328, 303, 225, 231, 381, 406, 399, 424]\n",
      "\tfind-replace/2-!-p-phenylene ∈ IRMOF-1.cif (23,2) [303, 328, 310, 285, 231, 225, 399, 424, 381, 406]\n",
      "\tfind-replace/2-!-p-phenylene ∈ IRMOF-1.cif (23,3) [310, 285, 303, 328, 225, 231, 406, 381, 424, 399]\n",
      "\tfind-replace/2-!-p-phenylene ∈ IRMOF-1.cif (23,4) [328, 303, 285, 310, 231, 225, 424, 399, 406, 381]\n",
      "\tfind-replace/2-!-p-phenylene ∈ IRMOF-1.cif (24,1) [288, 311, 326, 301, 228, 229, 384, 407, 397, 422]\n",
      "\tfind-replace/2-!-p-phenylene ∈ IRMOF-1.cif (24,2) [301, 326, 311, 288, 229, 228, 397, 422, 384, 407]\n",
      "\tfind-replace/2-!-p-phenylene ∈ IRMOF-1.cif (24,3) [311, 288, 301, 326, 228, 229, 407, 384, 422, 397]\n",
      "\tfind-replace/2-!-p-phenylene ∈ IRMOF-1.cif (24,4) [326, 301, 288, 311, 229, 228, 422, 397, 407, 384]\n"
     ]
    }
   ],
   "source": [
    "parent = Crystal(\"IRMOF-1.cif\")\n",
    "strip_numbers_from_atom_labels!(parent)\n",
    "infer_bonds!(parent, true)\n",
    "search = s_moty ∈ parent"
   ]
  },
  {
   "cell_type": "raw",
   "metadata": {},
   "source": [
    "# @eval MOFun DEBUG = true\n",
    "@showprogress 1 \"Processing replacements:\\t\" for i in 1:search.num_isomorphisms\n",
    "    xtal = find_replace(s_moty, r_moty, parent, c=i, s=search)\n",
    "    write_cif(xtal, \"output/$(parent.name)/\" * xtal.name * \"_$i.cif\")\n",
    "end\n",
    "@eval MOFun DEBUG = false;"
   ]
  },
  {
   "cell_type": "markdown",
   "metadata": {},
   "source": [
    "### result 5 crosses a periodic boundary"
   ]
  },
  {
   "cell_type": "code",
   "execution_count": 8,
   "metadata": {},
   "outputs": [],
   "source": [
    "write_xyz(parent[search.results[5].isomorphism], \"output/result5\")"
   ]
  },
  {
   "cell_type": "code",
   "execution_count": 9,
   "metadata": {},
   "outputs": [],
   "source": [
    "@eval MOFun DEBUG = true\n",
    "xtal = find_replace(s_moty, r_moty, parent, c=5, s=search)\n",
    "write_cif(xtal, \"output/$(parent.name)/\" * xtal.name * \"_5.cif\")\n",
    "@eval MOFun DEBUG = false;"
   ]
  }
 ],
 "metadata": {
  "kernelspec": {
   "display_name": "Julia 1.4.2",
   "language": "julia",
   "name": "julia-1.4"
  },
  "language_info": {
   "file_extension": ".jl",
   "mimetype": "application/julia",
   "name": "julia",
   "version": "1.4.2"
  }
 },
 "nbformat": 4,
 "nbformat_minor": 4
}
