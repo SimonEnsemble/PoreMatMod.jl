{
 "cells": [
  {
   "cell_type": "code",
   "execution_count": 1,
   "metadata": {},
   "outputs": [],
   "source": [
    "using Logging, LinearAlgebra, ProgressMeter, Revise"
   ]
  },
  {
   "cell_type": "code",
   "execution_count": 2,
   "metadata": {},
   "outputs": [
    {
     "name": "stdout",
     "output_type": "stream",
     "text": [
      "\u001b[36m\u001b[1m[ \u001b[22m\u001b[39m\u001b[36m\u001b[1mInfo: \u001b[22m\u001b[39mPrecompiling MOFun [top-level]\n"
     ]
    }
   ],
   "source": [
    "global_logger(ConsoleLogger(stdout, Logging.Info))\n",
    "using PorousMaterials, MOFun"
   ]
  },
  {
   "cell_type": "code",
   "execution_count": 3,
   "metadata": {},
   "outputs": [],
   "source": [
    "s_moty = moiety(\"find-replace/2-!-p-phenylene\");"
   ]
  },
  {
   "cell_type": "code",
   "execution_count": 4,
   "metadata": {},
   "outputs": [],
   "source": [
    "r_moty = moiety(\"2-acetylamido-p-phenylene\");"
   ]
  },
  {
   "cell_type": "code",
   "execution_count": 5,
   "metadata": {},
   "outputs": [
    {
     "name": "stdout",
     "output_type": "stream",
     "text": [
      "\u001b[36m\u001b[1m┌ \u001b[22m\u001b[39m\u001b[36m\u001b[1mInfo: \u001b[22m\u001b[39mCrystal IRMOF-1_one_ring.cif has  space group. I am converting it to P1 symmetry.\n",
      "\u001b[36m\u001b[1m└ \u001b[22m\u001b[39m        To afrain from this, pass `convert_to_p1=false` to the `Crystal` constructor.\n",
      "4 result(s) in 1 location(s)\n",
      "\tfind-replace/2-!-p-phenylene ∈ IRMOF-1_one_ring.cif (1,1)"
     ]
    },
    {
     "data": {
      "text/plain": []
     },
     "execution_count": 5,
     "metadata": {},
     "output_type": "execute_result"
    },
    {
     "name": "stdout",
     "output_type": "stream",
     "text": [
      " [34, 38, 39, 36, 26, 27, 46, 50, 48, 51]\n",
      "\tfind-replace/2-!-p-phenylene ∈ IRMOF-1_one_ring.cif (1,2) [36, 39, 38, 34, 27, 26, 48, 51, 46, 50]\n",
      "\tfind-replace/2-!-p-phenylene ∈ IRMOF-1_one_ring.cif (1,3) [38, 34, 36, 39, 26, 27, 50, 46, 51, 48]\n",
      "\tfind-replace/2-!-p-phenylene ∈ IRMOF-1_one_ring.cif (1,4) [39, 36, 34, 38, 27, 26, 51, 48, 50, 46]\n"
     ]
    }
   ],
   "source": [
    "parent = Crystal(\"IRMOF-1_one_ring.cif\")\n",
    "strip_numbers_from_atom_labels!(parent)\n",
    "infer_bonds!(parent, true)\n",
    "search = s_moty ∈ parent"
   ]
  },
  {
   "cell_type": "markdown",
   "metadata": {},
   "source": [
    "## single random replacement"
   ]
  },
  {
   "cell_type": "code",
   "execution_count": 6,
   "metadata": {},
   "outputs": [
    {
     "data": {
      "text/plain": [
       "Name: IRMOF-1_one_ring_find_2-!-p-phenylene_replace_2-acetylamido-p-phenylene\n",
       "Bravais unit cell of a crystal.\n",
       "\tUnit cell angles α = 90.000000 deg. β = 90.000000 deg. γ = 90.000000 deg.\n",
       "\tUnit cell dimensions a = 25.832000 Å. b = 25.832000 Å, c = 25.832000 Å\n",
       "\tVolume of unit cell: 17237.492730 Å³\n",
       "\n",
       "\t# atoms = 58\n",
       "\t# charges = 0\n",
       "\tchemical formula: Dict(:N => 1,:Zn => 4,:H => 15,:O => 13,:C => 25)\n",
       "\tspace Group: P1\n",
       "\tsymmetry Operations:\n",
       "\t\t'x, y, z'\n"
      ]
     },
     "execution_count": 6,
     "metadata": {},
     "output_type": "execute_result"
    }
   ],
   "source": [
    "find_replace(s_moty, r_moty, parent)"
   ]
  },
  {
   "cell_type": "code",
   "execution_count": 7,
   "metadata": {},
   "outputs": [],
   "source": [
    "@showprogress 1 \"Processing replacements:\\t\" for i in 1:search.num_locations\n",
    "    for j in 1:search.num_orientations[i]\n",
    "        xtal = find_replace(s_moty, r_moty, parent, (i,j), search)\n",
    "        write_cif(xtal, \"output/$(parent.name)/\" * xtal.name * \"_$i,$j.cif\")\n",
    "    end\n",
    "end"
   ]
  },
  {
   "cell_type": "code",
   "execution_count": 8,
   "metadata": {},
   "outputs": [],
   "source": [
    "parent = Crystal(\"IRMOF-1.cif\")\n",
    "strip_numbers_from_atom_labels!(parent)\n",
    "infer_bonds!(parent, true)\n",
    "search = s_moty ∈ parent;"
   ]
  },
  {
   "cell_type": "markdown",
   "metadata": {},
   "source": [
    "## Run all of the replacements.\n",
    "\n",
    "### This takes about 5 minutes if you don't provide the search object up front.  If you do, it only takes 4 seconds!"
   ]
  },
  {
   "cell_type": "code",
   "execution_count": 9,
   "metadata": {},
   "outputs": [
    {
     "name": "stderr",
     "output_type": "stream",
     "text": [
      "\u001b[32mProcessing replacements:\t100%|██████████████████████████| Time: 0:00:04\u001b[39m\n"
     ]
    }
   ],
   "source": [
    "@showprogress 1 \"Processing replacements:\\t\" for i in 1:search.num_locations\n",
    "    for j in 1:search.num_orientations[i]\n",
    "        xtal = find_replace(s_moty, r_moty, parent, (i,j), search)\n",
    "        write_cif(xtal, \"output/$(parent.name)/\" * xtal.name * \"_$i,$j.cif\")\n",
    "    end\n",
    "end"
   ]
  },
  {
   "cell_type": "markdown",
   "metadata": {},
   "source": [
    "### result 5 crosses a periodic boundary"
   ]
  },
  {
   "cell_type": "code",
   "execution_count": 10,
   "metadata": {},
   "outputs": [
    {
     "name": "stdout",
     "output_type": "stream",
     "text": [
      "(2,1)\u001b[36m\u001b[1m┌ \u001b[22m\u001b[39m\u001b[36m\u001b[1mInfo: \u001b[22m\u001b[39mResult #5\n",
      "\u001b[36m\u001b[1m└ \u001b[22m\u001b[39m  (search.results[5]).configuration = \n"
     ]
    }
   ],
   "source": [
    "write_xyz(parent[search.results[5].isomorphism], \"output/result5\")\n",
    "@info \"Result #5\" search.results[5].configuration"
   ]
  },
  {
   "cell_type": "code",
   "execution_count": 11,
   "metadata": {},
   "outputs": [],
   "source": [
    "new_xtal = find_replace(s_moty, r_moty, parent, (2,1), search)\n",
    "write_cif(new_xtal, \"output/$(parent.name)/\" * parent.name * \"_5.cif\")"
   ]
  },
  {
   "cell_type": "markdown",
   "metadata": {},
   "source": [
    "## Perform one randomly-selected replacement at each possible location."
   ]
  },
  {
   "cell_type": "code",
   "execution_count": 12,
   "metadata": {},
   "outputs": [],
   "source": [
    "import MOFun.find_replace\n",
    "function find_replace(s_moty::Crystal, r_moty::Crystal, xtal::Crystal, configs::Array{Configuration}, search::Search=Search())::Array{Crystal}\n",
    "    search = isequal(search, Search()) ? s_moty ∈ xtal : search\n",
    "    return [find_replace(s_moty, r_moty, xtal, config, search) for config in configs]\n",
    "end\n",
    ";"
   ]
  },
  {
   "cell_type": "code",
   "execution_count": 13,
   "metadata": {},
   "outputs": [],
   "source": [
    "search = s_moty ∈ parent\n",
    "configs = Array{Configuration}([(location, rand(1:search.num_orientations[location])) for location in 1:search.num_locations])\n",
    "new_xtals = find_replace(s_moty, r_moty, parent, configs, search)\n",
    "i = 0\n",
    "for xtal in new_xtals\n",
    "    i += 1\n",
    "    write_cif(xtal, \"output/random/$i.cif\")\n",
    "end"
   ]
  },
  {
   "cell_type": "markdown",
   "metadata": {},
   "source": [
    "## Same as above, but all in one Crystal\n",
    "\n",
    "### Wanted to do this recursively; too complicated.  Tried to just iterate over list of configs, but the correspondences go out of whack after editing the structure.  This implementation is slow, because it has to run the search 24 times."
   ]
  },
  {
   "cell_type": "code",
   "execution_count": 14,
   "metadata": {},
   "outputs": [
    {
     "name": "stderr",
     "output_type": "stream",
     "text": [
      "\u001b[32mProcessing replacements:\t100%|██████████████████████████| Time: 0:02:05\u001b[39m\n"
     ]
    }
   ],
   "source": [
    "xtals = [parent]\n",
    "search = s_moty ∈ parent\n",
    "@showprogress 1 \"Processing replacements:\\t\" for i in 1:search.num_locations\n",
    "    push!(xtals, find_replace(s_moty, r_moty, xtals[i], s_moty ∈ xtals[i]))\n",
    "end\n",
    "new_xtal = xtals[end]\n",
    "write_cif(new_xtal, \"output/cumulative.cif\")"
   ]
  },
  {
   "cell_type": "code",
   "execution_count": null,
   "metadata": {},
   "outputs": [],
   "source": []
  }
 ],
 "metadata": {
  "kernelspec": {
   "display_name": "Julia 1.4.2",
   "language": "julia",
   "name": "julia-1.4"
  },
  "language_info": {
   "file_extension": ".jl",
   "mimetype": "application/julia",
   "name": "julia",
   "version": "1.4.2"
  }
 },
 "nbformat": 4,
 "nbformat_minor": 4
}
