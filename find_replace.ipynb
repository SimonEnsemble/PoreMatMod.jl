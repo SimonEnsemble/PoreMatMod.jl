{
 "cells": [
  {
   "cell_type": "code",
   "execution_count": 1,
   "metadata": {},
   "outputs": [],
   "source": [
    "using Logging, LinearAlgebra, ProgressMeter, Revise"
   ]
  },
  {
   "cell_type": "code",
   "execution_count": 2,
   "metadata": {},
   "outputs": [
    {
     "name": "stdout",
     "output_type": "stream",
     "text": [
      "\u001b[36m\u001b[1m[ \u001b[22m\u001b[39m\u001b[36m\u001b[1mInfo: \u001b[22m\u001b[39mPrecompiling MOFun [top-level]\n"
     ]
    }
   ],
   "source": [
    "global_logger(ConsoleLogger(stdout, Logging.Info))\n",
    "using PorousMaterials, MOFun"
   ]
  },
  {
   "cell_type": "code",
   "execution_count": 3,
   "metadata": {},
   "outputs": [],
   "source": [
    "s_moty = moiety(\"find-replace/2-!-p-phenylene\");"
   ]
  },
  {
   "cell_type": "code",
   "execution_count": 4,
   "metadata": {},
   "outputs": [],
   "source": [
    "r_moty = moiety(\"2-acetylamido-p-phenylene\");"
   ]
  },
  {
   "cell_type": "code",
   "execution_count": 5,
   "metadata": {},
   "outputs": [
    {
     "name": "stdout",
     "output_type": "stream",
     "text": [
      "\u001b[36m\u001b[1m┌ \u001b[22m\u001b[39m\u001b[36m\u001b[1mInfo: \u001b[22m\u001b[39mCrystal IRMOF-1_one_ring.cif has  space group. I am converting it to P1 symmetry.\n",
      "\u001b[36m\u001b[1m└ \u001b[22m\u001b[39m        To afrain from this, pass `convert_to_p1=false` to the `Crystal` constructor.\n",
      "4 result(s) in 1 location(s)\n",
      "\tfind-replace/2-!-p-phenylene ∈ IRMOF-1_one_ring.cif (1,1) "
     ]
    },
    {
     "data": {
      "text/plain": []
     },
     "execution_count": 5,
     "metadata": {},
     "output_type": "execute_result"
    },
    {
     "name": "stdout",
     "output_type": "stream",
     "text": [
      "[34, 38, 39, 36, 26, 27, 46, 50, 48, 51]\n",
      "\tfind-replace/2-!-p-phenylene ∈ IRMOF-1_one_ring.cif (1,2) [36, 39, 38, 34, 27, 26, 48, 51, 46, 50]\n",
      "\tfind-replace/2-!-p-phenylene ∈ IRMOF-1_one_ring.cif (1,3) [38, 34, 36, 39, 26, 27, 50, 46, 51, 48]\n",
      "\tfind-replace/2-!-p-phenylene ∈ IRMOF-1_one_ring.cif (1,4) [39, 36, 34, 38, 27, 26, 51, 48, 50, 46]\n"
     ]
    }
   ],
   "source": [
    "parent = Crystal(\"IRMOF-1_one_ring.cif\")\n",
    "strip_numbers_from_atom_labels!(parent)\n",
    "infer_bonds!(parent, true)\n",
    "search = s_moty ∈ parent"
   ]
  },
  {
   "cell_type": "code",
   "execution_count": 6,
   "metadata": {},
   "outputs": [
    {
     "name": "stdout",
     "output_type": "stream",
     "text": [
      "\u001b[33m\u001b[1m┌ \u001b[22m\u001b[39m\u001b[33m\u001b[1mWarning: \u001b[22m\u001b[39mFind/replace configuration not specified. Choosing one randomly.\n",
      "\u001b[33m\u001b[1m└ \u001b[22m\u001b[39m\u001b[90m@ MOFun C:\\Users\\eahen\\.julia\\dev\\MOFfun.jl\\src\\findreplace.jl:283\u001b[39m\n"
     ]
    },
    {
     "data": {
      "text/plain": [
       "Name: IRMOF-1_one_ring_find_2-!-p-phenylene_replace_2-acetylamido-p-phenylene\n",
       "Bravais unit cell of a crystal.\n",
       "\tUnit cell angles α = 90.000000 deg. β = 90.000000 deg. γ = 90.000000 deg.\n",
       "\tUnit cell dimensions a = 25.832000 Å. b = 25.832000 Å, c = 25.832000 Å\n",
       "\tVolume of unit cell: 17237.492730 Å³\n",
       "\n",
       "\t# atoms = 58\n",
       "\t# charges = 0\n",
       "\tchemical formula: Dict(:N => 1,:Zn => 4,:H => 15,:O => 13,:C => 25)\n",
       "\tspace Group: P1\n",
       "\tsymmetry Operations:\n",
       "\t\t'x, y, z'\n"
      ]
     },
     "execution_count": 6,
     "metadata": {},
     "output_type": "execute_result"
    }
   ],
   "source": [
    "find_replace(s_moty, r_moty, parent)"
   ]
  },
  {
   "cell_type": "code",
   "execution_count": 7,
   "metadata": {},
   "outputs": [],
   "source": [
    "@showprogress 1 \"Processing replacements:\\t\" for i in 1:search.num_locations\n",
    "    for j in 1:search.num_orientations[i]\n",
    "        xtal = find_replace(s_moty, r_moty, parent, (i,j), search)\n",
    "        write_cif(xtal, \"output/$(parent.name)/\" * xtal.name * \"_$i,$j.cif\")\n",
    "    end\n",
    "end"
   ]
  },
  {
   "cell_type": "code",
   "execution_count": 8,
   "metadata": {},
   "outputs": [],
   "source": [
    "parent = Crystal(\"IRMOF-1.cif\")\n",
    "strip_numbers_from_atom_labels!(parent)\n",
    "infer_bonds!(parent, true)\n",
    "search = s_moty ∈ parent;"
   ]
  },
  {
   "cell_type": "markdown",
   "metadata": {},
   "source": [
    "## Run all of the replacements.\n",
    "\n",
    "### This takes about 5 minutes if you don't provide the search object up front.  If you do, it only takes 4 seconds!"
   ]
  },
  {
   "cell_type": "code",
   "execution_count": 14,
   "metadata": {},
   "outputs": [
    {
     "name": "stderr",
     "output_type": "stream",
     "text": [
      "\u001b[32mProcessing replacements:\t100%|██████████████████████████| Time: 0:00:04\u001b[39m\n"
     ]
    }
   ],
   "source": [
    "@showprogress 1 \"Processing replacements:\\t\" for i in 1:search.num_locations\n",
    "    for j in 1:search.num_orientations[i]\n",
    "        xtal = find_replace(s_moty, r_moty, parent, (i,j), search)\n",
    "        write_cif(xtal, \"output/$(parent.name)/\" * xtal.name * \"_$i,$j.cif\")\n",
    "    end\n",
    "end"
   ]
  },
  {
   "cell_type": "markdown",
   "metadata": {},
   "source": [
    "### result 5 crosses a periodic boundary"
   ]
  },
  {
   "cell_type": "code",
   "execution_count": 10,
   "metadata": {},
   "outputs": [
    {
     "name": "stdout",
     "output_type": "stream",
     "text": [
      "(2,1)\u001b[36m\u001b[1m┌ \u001b[22m\u001b[39m\u001b[36m\u001b[1mInfo: \u001b[22m\u001b[39mResult #5\n",
      "\u001b[36m\u001b[1m└ \u001b[22m\u001b[39m  (search.results[5]).configuration = \n"
     ]
    }
   ],
   "source": [
    "write_xyz(parent[search.results[5].isomorphism], \"output/result5\")\n",
    "@info \"Result #5\" search.results[5].configuration"
   ]
  },
  {
   "cell_type": "code",
   "execution_count": 15,
   "metadata": {},
   "outputs": [],
   "source": [
    "xtal = find_replace(s_moty, r_moty, parent, (2,1), search)\n",
    "write_cif(xtal, \"output/$(parent.name)/\" * xtal.name * \"_5.cif\")"
   ]
  },
  {
   "cell_type": "markdown",
   "metadata": {},
   "source": [
    "## Perform one randomly-selected replacement at each possible location."
   ]
  },
  {
   "cell_type": "code",
   "execution_count": 16,
   "metadata": {},
   "outputs": [
    {
     "ename": "MethodError",
     "evalue": "MethodError: no method matching find_replace(::Crystal, ::Crystal, ::Crystal, ::Array{Configuration,1}, ::MOFun.Search; cumulative=false)\nClosest candidates are:\n  find_replace(::Crystal, ::Crystal, ::Crystal, !Matched::Configuration, ::MOFun.Search) at C:\\Users\\eahen\\.julia\\dev\\MOFfun.jl\\src\\findreplace.jl:282 got unsupported keyword argument \"cumulative\"\n  find_replace(::Crystal, ::Crystal, ::Crystal, !Matched::Tuple{Int64,Int64}, ::MOFun.Search) at C:\\Users\\eahen\\.julia\\dev\\MOFfun.jl\\src\\findreplace.jl:298 got unsupported keyword argument \"cumulative\"\n  find_replace(::Crystal, ::Crystal, ::Crystal, !Matched::Configuration) at C:\\Users\\eahen\\.julia\\dev\\MOFfun.jl\\src\\findreplace.jl:282 got unsupported keyword argument \"cumulative\"\n  ...",
     "output_type": "error",
     "traceback": [
      "MethodError: no method matching find_replace(::Crystal, ::Crystal, ::Crystal, ::Array{Configuration,1}, ::MOFun.Search; cumulative=false)\nClosest candidates are:\n  find_replace(::Crystal, ::Crystal, ::Crystal, !Matched::Configuration, ::MOFun.Search) at C:\\Users\\eahen\\.julia\\dev\\MOFfun.jl\\src\\findreplace.jl:282 got unsupported keyword argument \"cumulative\"\n  find_replace(::Crystal, ::Crystal, ::Crystal, !Matched::Tuple{Int64,Int64}, ::MOFun.Search) at C:\\Users\\eahen\\.julia\\dev\\MOFfun.jl\\src\\findreplace.jl:298 got unsupported keyword argument \"cumulative\"\n  find_replace(::Crystal, ::Crystal, ::Crystal, !Matched::Configuration) at C:\\Users\\eahen\\.julia\\dev\\MOFfun.jl\\src\\findreplace.jl:282 got unsupported keyword argument \"cumulative\"\n  ...",
      "",
      "Stacktrace:",
      " [1] top-level scope at In[16]:3"
     ]
    }
   ],
   "source": [
    "search = s_moty ∈ parent\n",
    "configs = Array{Configuration}([(location, rand(1:search.num_orientations[location])) for location in 1:search.num_locations])\n",
    "new_xtal = find_replace(s_moty, r_moty, xtal, configs, search, cumulative=false)"
   ]
  },
  {
   "cell_type": "code",
   "execution_count": 13,
   "metadata": {},
   "outputs": [
    {
     "ename": "LoadError",
     "evalue": "syntax: incomplete: \"for\" at none:1 requires end",
     "output_type": "error",
     "traceback": [
      "syntax: incomplete: \"for\" at none:1 requires end",
      ""
     ]
    }
   ],
   "source": [
    "for xtal in new_xtals\n",
    "    write_cif(xtal, )"
   ]
  }
 ],
 "metadata": {
  "kernelspec": {
   "display_name": "Julia 1.4.2",
   "language": "julia",
   "name": "julia-1.4"
  },
  "language_info": {
   "file_extension": ".jl",
   "mimetype": "application/julia",
   "name": "julia",
   "version": "1.4.2"
  }
 },
 "nbformat": 4,
 "nbformat_minor": 4
}
