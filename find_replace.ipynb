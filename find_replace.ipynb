{
 "cells": [
  {
   "cell_type": "code",
   "execution_count": 1,
   "metadata": {},
   "outputs": [],
   "source": [
    "using Logging, LinearAlgebra, Revise"
   ]
  },
  {
   "cell_type": "code",
   "execution_count": 2,
   "metadata": {},
   "outputs": [
    {
     "name": "stderr",
     "output_type": "stream",
     "text": [
      "┌ Info: Precompiling MOFun [top-level]\n",
      "└ @ Base loading.jl:1260\n"
     ]
    }
   ],
   "source": [
    "using PorousMaterials, MOFun\n",
    "global_logger(ConsoleLogger(stdout, Logging.Info));"
   ]
  },
  {
   "cell_type": "markdown",
   "metadata": {},
   "source": [
    "# Example case: make IRMOF-1_one_ring with 2-acetylamido-terephthalate linker\n",
    "\n",
    "## parent structure"
   ]
  },
  {
   "cell_type": "code",
   "execution_count": 3,
   "metadata": {},
   "outputs": [
    {
     "name": "stdout",
     "output_type": "stream",
     "text": [
      "\u001b[36m\u001b[1m┌ \u001b[22m\u001b[39m\u001b[36m\u001b[1mInfo: \u001b[22m\u001b[39mCrystal IRMOF-1_one_ring.cif has  space group. I am converting it to P1 symmetry.\n",
      "\u001b[36m\u001b[1m└ \u001b[22m\u001b[39m        To afrain from this, pass `convert_to_p1=false` to the `Crystal` constructor.\n"
     ]
    }
   ],
   "source": [
    "parent_structure = Crystal(\"IRMOF-1_one_ring.cif\")\n",
    "strip_numbers_from_atom_labels!(parent_structure)\n",
    "infer_bonds!(parent_structure, true)"
   ]
  },
  {
   "cell_type": "markdown",
   "metadata": {},
   "source": [
    "## search moiety"
   ]
  },
  {
   "cell_type": "code",
   "execution_count": 4,
   "metadata": {},
   "outputs": [],
   "source": [
    "s_moty = moiety(\"find-replace/2-!-p-phenylene\");"
   ]
  },
  {
   "cell_type": "markdown",
   "metadata": {},
   "source": [
    "#### nodes are sorted by order, except that R-group nodes are sent to the end of the list\n",
    "\n",
    "Sorting the tagged nodes to the end may degrade performance for multi-nuclear replacement motifs.  This is a compromise made for the simplicity of aligning the moiety; it forces the isomorphism between the search moiety alignment mask and the replace moiety to keep a consistent node ordering with the isomorphism between the search moiety and the parent structure."
   ]
  },
  {
   "cell_type": "markdown",
   "metadata": {},
   "source": [
    "#### should write a test for tagged atoms being at the end\n",
    "\n",
    "## replace moiety"
   ]
  },
  {
   "cell_type": "code",
   "execution_count": 5,
   "metadata": {},
   "outputs": [],
   "source": [
    "r_moty = moiety(\"2-acetylamido-p-phenylene\");"
   ]
  },
  {
   "cell_type": "markdown",
   "metadata": {},
   "source": [
    "## substructure search results"
   ]
  },
  {
   "cell_type": "code",
   "execution_count": 6,
   "metadata": {},
   "outputs": [],
   "source": [
    "search = s_moty ∈ parent_structure;"
   ]
  },
  {
   "cell_type": "markdown",
   "metadata": {},
   "source": [
    "#### all 4 are in 1 location"
   ]
  },
  {
   "cell_type": "markdown",
   "metadata": {},
   "source": [
    "## choose 1 at random for a replacement"
   ]
  },
  {
   "cell_type": "code",
   "execution_count": 7,
   "metadata": {},
   "outputs": [],
   "source": [
    "s2p_isomorphism = search.results[rand(1:4)].isomorphism;"
   ]
  },
  {
   "cell_type": "markdown",
   "metadata": {},
   "source": [
    "## subtract R group to get mask"
   ]
  },
  {
   "cell_type": "code",
   "execution_count": 8,
   "metadata": {},
   "outputs": [],
   "source": [
    "mask = MOFun.subtract_r_group(s_moty)\n",
    "infer_bonds!(mask, false)"
   ]
  },
  {
   "cell_type": "markdown",
   "metadata": {},
   "source": [
    "## align mask to replace moiety"
   ]
  },
  {
   "cell_type": "code",
   "execution_count": 9,
   "metadata": {},
   "outputs": [],
   "source": [
    "m2r_isomorphism = (mask ∈ r_moty).results[1].isomorphism;"
   ]
  },
  {
   "cell_type": "markdown",
   "metadata": {},
   "source": [
    "#### only 1 configuration, but will not always be so (heteroleptic multi-functionalization)\n",
    "\n",
    "## now we have the correspondence between the search moiety and our target location, and between the search moiety mask and the replace moiety.  we can perform orthogonal Procrustes"
   ]
  },
  {
   "cell_type": "code",
   "execution_count": 10,
   "metadata": {},
   "outputs": [],
   "source": [
    "function adjust_for_pb!(atoms_array::Array{Atoms{Frac}})\n",
    "   for atoms in atoms_array\n",
    "        atoms2 = deepcopy(atoms)\n",
    "        for i in 1:length(atoms.species)\n",
    "            dxf = atoms.coords.xf[:, i] .- atoms.coords.xf[:, 1] # rebuild the image (fixing first node @ origin)\n",
    "            nearest_image!(dxf)\n",
    "            atoms2.coords.xf[:, i] = dxf\n",
    "        end\n",
    "        atoms= atoms2\n",
    "    end\n",
    "end\n",
    ";"
   ]
  },
  {
   "cell_type": "code",
   "execution_count": 11,
   "metadata": {},
   "outputs": [],
   "source": [
    "geometric_center(coords) = sum(coords, dims=2)[:] / 3;"
   ]
  },
  {
   "cell_type": "code",
   "execution_count": 12,
   "metadata": {},
   "outputs": [],
   "source": [
    "function orthogonal_procrustes(A, B)\n",
    "    F = svd(A * B')\n",
    "    return F.V * F.U'\n",
    "end\n",
    ";"
   ]
  },
  {
   "cell_type": "code",
   "execution_count": 13,
   "metadata": {},
   "outputs": [],
   "source": [
    "function perform_ops(s_moty, r_moty, xtal, s2p_isomorphism, r_moty_subset_coords, s_mask_coords)\n",
    "    rot_s2p = orthogonal_procrustes(s_moty.box.f_to_c*s_moty.atoms.coords.xf,\n",
    "        xtal.box.f_to_c*xtal.atoms.coords.xf[:,s2p_isomorphism])\n",
    "    rot_r2m = orthogonal_procrustes(r_moty.box.f_to_c*r_moty_subset_coords,\n",
    "        s_moty.box.f_to_c*s_mask_coords)\n",
    "    return rot_s2p, rot_r2m\n",
    "end\n",
    ";"
   ]
  },
  {
   "cell_type": "code",
   "execution_count": 14,
   "metadata": {},
   "outputs": [],
   "source": [
    "function shift_to_origin!(coord_arrays::Array{Array{Float64,2}})\n",
    "    for array in coord_arrays\n",
    "        array .-= geometric_center(array)\n",
    "    end\n",
    "end\n",
    ";"
   ]
  },
  {
   "cell_type": "code",
   "execution_count": 15,
   "metadata": {},
   "outputs": [],
   "source": [
    "function xform_r_moty(r_moty, rot_r2m, rot_s2p, xtal_subset_center, xtal)\n",
    "    xformd_r_moty_coords = rot_r2m * r_moty.box.f_to_c * r_moty.atoms.coords.xf\n",
    "    xformd_r_moty_atoms = Atoms{Cart}(length(r_moty.atoms.species),\n",
    "        r_moty.atoms.species,\n",
    "        Cart(rot_s2p * xformd_r_moty_coords .+ xtal.box.f_to_c * xtal_subset_center))\n",
    "    return Frac(xformd_r_moty_atoms, xtal.box)\n",
    "end\n",
    ";"
   ]
  },
  {
   "cell_type": "code",
   "execution_count": 16,
   "metadata": {},
   "outputs": [],
   "source": [
    "const DEBUG = true\n",
    "function effect_replacement(xtal::Crystal, s_moty::Crystal, r_moty::Crystal, s2p_isomorphism::Array{Int}, m2r_isomorphism)::Crystal\n",
    "    if DEBUG\n",
    "        write_xyz(Cart(xtal.atoms, xtal.box), \"01_xtal\")\n",
    "        write_xyz(Cart(r_moty.atoms, r_moty.box), \"02_r_moty\")\n",
    "        write_xyz(Cart(s_moty.atoms, s_moty.box), \"03_s_moty\")\n",
    "    end\n",
    "    # adjust atomic coordinates to account for periodic boundaries\n",
    "    xtal_subset = xtal.atoms[s2p_isomorphism] # adjust coords on this, to preserve rest of original crystal in unit cell\n",
    "    xtal_subset_center = geometric_center(xtal_subset.coords.xf) # center of location for replacement\n",
    "    adjust_for_pb!([xtal_subset, s_moty.atoms, r_moty.atoms])\n",
    "    if DEBUG\n",
    "        write_xyz(Cart(xtal_subset, xtal.box), \"04_adjusted_xtal_subset\")\n",
    "        write_xyz(Cart(s_moty.atoms, s_moty.box), \"05_adjusted_s_moty\")\n",
    "        write_xyz(Cart(r_moty.atoms, r_moty.box), \"06_adjusted_r_moty\")\n",
    "    end\n",
    "    \n",
    "    # determine s_mask\n",
    "    r_indices = MOFun.r_group_indices(s_moty) # which atoms from s_moty are NOT in r_moty?\n",
    "    s_mask_indices = [index for index in 1:length(s_moty.atoms.species) if !(index ∈ r_indices)]\n",
    "    s_mask_atoms = s_moty.atoms[s_mask_indices]\n",
    "    s_mask_coords = s_mask_atoms.coords.xf\n",
    "    if DEBUG\n",
    "        write_xyz(Cart(s_moty.atoms[r_indices], s_moty.box), \"07_r_group\")\n",
    "        write_xyz(Cart(s_mask_atoms, s_moty.box), \"08_search_moiety_mask\")\n",
    "    end\n",
    "    \n",
    "    # shift coords to align centers at origin\n",
    "    shift_to_origin!([s_moty.atoms.coords.xf, xtal_subset.coords.xf, s_mask_coords])\n",
    "    # r_moty is different: shift all nodes according to center of a subset\n",
    "    r_moty.atoms.coords.xf .-= geometric_center(r_moty.atoms.coords.xf[:, m2r_isomorphism])\n",
    "    if DEBUG\n",
    "        write_xyz(Cart(s_moty.atoms, s_moty.box), \"09_shifted_s_moty\")\n",
    "        write_xyz(Cart(xtal_subset, xtal.box), \"10_shifted_xtal_subset\")\n",
    "        write_xyz(Cart(r_moty.atoms, r_moty.box), \"11_shifted_r_moty\")\n",
    "    end\n",
    "    \n",
    "    # do orthogonal Procrustes for s_moty-to-parent and mask-to-replacement alignments\n",
    "    rot_s2p, rot_r2m = perform_ops(s_moty, r_moty, xtal, s2p_isomorphism,\n",
    "        r_moty.atoms[m2r_isomorphism].coords.xf, s_mask_coords)\n",
    "    \n",
    "    # transform r_moty according to rot_r2m, rot_s2p, and xtal_subset_center, align to box\n",
    "    r_coords = xform_r_moty(r_moty, rot_r2m, rot_s2p, xtal_subset_center, xtal)\n",
    "    \n",
    "    # subtract s_moty isomorphic subset from xtal\n",
    "    keep = [i for i in 1:length(xtal.atoms.species) if !(i ∈ s2p_isomorphism)]\n",
    "    crystal_species = xtal.atoms.species[keep]\n",
    "    crystal_coords = xtal.atoms.coords[keep]\n",
    "    \n",
    "    # concatenate transformed r_moty's coords/species w/ xtal's\n",
    "    species = vcat(crystal_species, r_moty.atoms.species)\n",
    "    coords = hcat(crystal_coords.xf, r_coords.coords.xf)\n",
    "\n",
    "    # return new crystal\n",
    "    name = remove_extension(xtal) * \"_find_\" * MOFun.remove_path_prefix(s_moty.name) * \"_replace_\" * r_moty.name\n",
    "    atoms = Atoms(species, Frac(coords))\n",
    "    crystal = Crystal(name, xtal.box, atoms, Charges{Frac}(0))\n",
    "    wrap!(crystal)\n",
    "    infer_bonds!(crystal, true)\n",
    "    return crystal\n",
    "end\n",
    ";"
   ]
  },
  {
   "cell_type": "code",
   "execution_count": 17,
   "metadata": {},
   "outputs": [],
   "source": [
    "altered_crystal = effect_replacement(parent_structure, s_moty, r_moty, s2p_isomorphism, m2r_isomorphism)\n",
    "write_cif(altered_crystal, altered_crystal.name * \".cif\")"
   ]
  },
  {
   "cell_type": "code",
   "execution_count": null,
   "metadata": {},
   "outputs": [],
   "source": []
  }
 ],
 "metadata": {
  "kernelspec": {
   "display_name": "Julia 1.4.2",
   "language": "julia",
   "name": "julia-1.4"
  },
  "language_info": {
   "file_extension": ".jl",
   "mimetype": "application/julia",
   "name": "julia",
   "version": "1.4.2"
  }
 },
 "nbformat": 4,
 "nbformat_minor": 4
}
