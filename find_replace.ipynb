{
 "cells": [
  {
   "cell_type": "code",
   "execution_count": 1,
   "metadata": {},
   "outputs": [],
   "source": [
    "using BenchmarkTools, Logging, Revise\n",
    "global_logger(ConsoleLogger(stdout, Logging.Info));"
   ]
  },
  {
   "cell_type": "code",
   "execution_count": 2,
   "metadata": {},
   "outputs": [
    {
     "name": "stdout",
     "output_type": "stream",
     "text": [
      "\u001b[36m\u001b[1m[ \u001b[22m\u001b[39m\u001b[36m\u001b[1mInfo: \u001b[22m\u001b[39mPrecompiling MOFun [top-level]\n"
     ]
    }
   ],
   "source": [
    "using PorousMaterials, MOFun"
   ]
  },
  {
   "cell_type": "code",
   "execution_count": 3,
   "metadata": {},
   "outputs": [],
   "source": [
    "s_moty = moiety(\"find-replace/2-!-p-phenylene\")\n",
    "r_moty = moiety(\"2-acetylamido-p-phenylene\")\n",
    "parent = Crystal(\"IRMOF-1.cif\")\n",
    "strip_numbers_from_atom_labels!(parent)\n",
    "infer_bonds!(parent, true)\n",
    "search = s_moty ∈ parent;"
   ]
  },
  {
   "cell_type": "markdown",
   "metadata": {},
   "source": [
    "# single random replacement w/o search kwarg"
   ]
  },
  {
   "cell_type": "code",
   "execution_count": 4,
   "metadata": {},
   "outputs": [
    {
     "name": "stdout",
     "output_type": "stream",
     "text": [
      "  2.444 s (13347700 allocations: 3.58 GiB)\n"
     ]
    }
   ],
   "source": [
    "@btime find_replace(s_moty, r_moty, parent);"
   ]
  },
  {
   "cell_type": "markdown",
   "metadata": {},
   "source": [
    "# single random replacement w/ search kwarg"
   ]
  },
  {
   "cell_type": "code",
   "execution_count": 5,
   "metadata": {},
   "outputs": [
    {
     "name": "stdout",
     "output_type": "stream",
     "text": [
      "  931.200 μs (23604 allocations: 1.60 MiB)\n"
     ]
    }
   ],
   "source": [
    "@btime find_replace(s_moty, r_moty, parent, search=search);"
   ]
  },
  {
   "cell_type": "markdown",
   "metadata": {},
   "source": [
    "# single specific replacement"
   ]
  },
  {
   "cell_type": "code",
   "execution_count": 6,
   "metadata": {},
   "outputs": [
    {
     "name": "stdout",
     "output_type": "stream",
     "text": [
      "  933.100 μs (23605 allocations: 1.60 MiB)\n"
     ]
    }
   ],
   "source": [
    "@btime find_replace(s_moty, r_moty, parent, search=search, config=Configuration(1,1));"
   ]
  },
  {
   "cell_type": "markdown",
   "metadata": {},
   "source": [
    "# list of (all) replacements\n",
    "## this runs 40,000-fold faster after refactoring!\n",
    "### I could functionalize 70,000 MOFs with 20 R-groups in a day on one HPC node!!\n",
    "#### note to self: write a distributed version..."
   ]
  },
  {
   "cell_type": "code",
   "execution_count": 7,
   "metadata": {},
   "outputs": [
    {
     "name": "stdout",
     "output_type": "stream",
     "text": [
      "  2.930 ms (58125 allocations: 3.63 MiB)\n"
     ]
    }
   ],
   "source": [
    "configs = [Configuration(loc, rand(1:search.num_orientations[loc])) for loc in 1:search.num_locations]\n",
    "@btime find_replace(s_moty, r_moty, parent, search=search, configs=configs);"
   ]
  },
  {
   "cell_type": "markdown",
   "metadata": {},
   "source": [
    "# save output"
   ]
  },
  {
   "cell_type": "code",
   "execution_count": 8,
   "metadata": {},
   "outputs": [],
   "source": [
    "xtal = find_replace(s_moty, r_moty, parent, search=search, configs=configs)\n",
    "write_cif(xtal, \"OUTPUT\")"
   ]
  },
  {
   "cell_type": "code",
   "execution_count": null,
   "metadata": {},
   "outputs": [],
   "source": []
  }
 ],
 "metadata": {
  "kernelspec": {
   "display_name": "Julia 1.4.2",
   "language": "julia",
   "name": "julia-1.4"
  },
  "language_info": {
   "file_extension": ".jl",
   "mimetype": "application/julia",
   "name": "julia",
   "version": "1.4.2"
  }
 },
 "nbformat": 4,
 "nbformat_minor": 4
}
