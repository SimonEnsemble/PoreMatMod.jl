{
 "cells": [
  {
   "cell_type": "code",
   "execution_count": 1,
   "metadata": {},
   "outputs": [],
   "source": [
    "using Logging, LightGraphs, Revise\n",
    "global_logger(ConsoleLogger(stdout, Logging.Info));"
   ]
  },
  {
   "cell_type": "code",
   "execution_count": 2,
   "metadata": {},
   "outputs": [],
   "source": [
    "using PorousMaterials, MOFun"
   ]
  },
  {
   "cell_type": "code",
   "execution_count": 3,
   "metadata": {},
   "outputs": [],
   "source": [
    "s_moty = moiety(\"find-replace/2-!-p-phenylene\")\n",
    "r_moty = moiety(\"2-acetylamido-p-phenylene\")\n",
    "parent = Crystal(\"IRMOF-1.cif\")\n",
    "strip_numbers_from_atom_labels!(parent)\n",
    "infer_bonds!(parent, true)\n",
    "search = s_moty ∈ parent;"
   ]
  },
  {
   "cell_type": "code",
   "execution_count": 4,
   "metadata": {},
   "outputs": [
    {
     "data": {
      "text/plain": [
       "config_idx_arr (generic function with 1 method)"
      ]
     },
     "execution_count": 4,
     "metadata": {},
     "output_type": "execute_result"
    }
   ],
   "source": [
    "function config_idx_arr(configs::Array{Configuration}, search::Search)::Array{Int}\n",
    "    c = Int[]\n",
    "    if configs == Configuration[] # if configs not specified, choose one randomly\n",
    "        push!(c, rand(1:search.num_isomorphisms))\n",
    "    else # find indices of specified configs\n",
    "        for config in configs\n",
    "            for i in 1:search.num_isomorphisms\n",
    "                if search.results[i].configuration == config\n",
    "                    push!(c, i)\n",
    "                    break\n",
    "                end\n",
    "            end\n",
    "        end\n",
    "    end\n",
    "    return c\n",
    "end"
   ]
  },
  {
   "cell_type": "code",
   "execution_count": 13,
   "metadata": {},
   "outputs": [
    {
     "data": {
      "text/plain": [
       "accumulate_bonds! (generic function with 2 methods)"
      ]
     },
     "execution_count": 13,
     "metadata": {},
     "output_type": "execute_result"
    }
   ],
   "source": [
    "function accumulate_bonds!(bonds::Array{Tuple{Int,Int}}, s2p_isom::Array{Int}, parent::Crystal, m2r_isom::Array{Int}, r_moty::Crystal, xrms::Array{Crystal})\n",
    "    # loop over s2p_isom\n",
    "    for (s, p) in enumerate(s2p_isom)\n",
    "        # find neighbors of parent_subset atoms\n",
    "        n = LightGraphs.neighbors(parent.bonds, p)\n",
    "        # loop over neighbors\n",
    "        for nᵢ in n\n",
    "            # if neighbor not in s2p_isom, must bond it to r_moty replacement of parent_subset atom\n",
    "            if !(nᵢ ∈ s2p_isom)\n",
    "                # ID the atom in r_moty\n",
    "                r = m2r_isom[s]\n",
    "\n",
    "                # add the index offset\n",
    "                r += parent.atoms.n + length(xrms) * r_moty.atoms.n\n",
    "\n",
    "                # push bond to array\n",
    "                push!(bonds, (nᵢ, r))\n",
    "            end\n",
    "        end\n",
    "    end\n",
    "end"
   ]
  },
  {
   "cell_type": "code",
   "execution_count": 14,
   "metadata": {},
   "outputs": [
    {
     "data": {
      "text/plain": [
       "build_replacement_data (generic function with 1 method)"
      ]
     },
     "execution_count": 14,
     "metadata": {},
     "output_type": "execute_result"
    }
   ],
   "source": [
    "function build_replacement_data(c::Array{Int}, search::Search, parent::Crystal, s_moty::Crystal, r_moty::Crystal, m2r_isom::Array{Int}, mask::Crystal\n",
    "        )::Tuple{Array{Crystal},Array{Int},Array{Tuple{Int,Int}}}\n",
    "    xrms = Crystal[]\n",
    "    del_atoms = Int[]\n",
    "    bonds = Tuple{Int,Int}[] # each tuple (i,j) encodes a parent[i] -> xrms[k][j] bond\n",
    "    for cᵢ in c\n",
    "        # find isomorphism\n",
    "        s2p_isom = search.results[cᵢ].isomorphism\n",
    "        # find parent subset\n",
    "        parent_subset = deepcopy(parent[s2p_isom])\n",
    "        # adjust coordinates for periodic boundaries\n",
    "        MOFun.adjust_for_pb!(parent_subset)\n",
    "        # record the center of xtal_subset so we can translate back later\n",
    "        parent_subset_center = MOFun.geometric_center(parent_subset)\n",
    "        # shift to align centers at origin\n",
    "        MOFun.center_on_self!.([parent_subset, s_moty])\n",
    "        # do orthog. Procrustes for s_moty-to-parent and mask-to-replacement alignments\n",
    "        rot_s2p = MOFun.s2p_op(s_moty, parent_subset)\n",
    "        rot_r2m = MOFun.r2m_op(r_moty, s_moty, m2r_isom, mask.atoms)\n",
    "        # transform r_moty by rot_r2m, rot_s2p, and xtal_subset_center, align to parent\n",
    "        # (this is now a crystal to add)\n",
    "        xrm = MOFun.xform_r_moty(r_moty, rot_r2m, rot_s2p, parent_subset_center, parent)\n",
    "        push!(xrms, xrm)\n",
    "        # push obsolete atoms to array\n",
    "        for x in s2p_isom\n",
    "            push!(del_atoms, x) # this can create duplicates; remove them later\n",
    "        end\n",
    "        # clean up del_atoms\n",
    "        del_atoms = unique(del_atoms)\n",
    "        # accumulate bonds\n",
    "        accumulate_bonds!(bonds, s2p_isom, parent, m2r_isom, r_moty, xrms)\n",
    "    end\n",
    "    return xrms, del_atoms, bonds\n",
    "end"
   ]
  },
  {
   "cell_type": "code",
   "execution_count": 15,
   "metadata": {},
   "outputs": [
    {
     "data": {
      "text/plain": [
       "fndrplc (generic function with 2 methods)"
      ]
     },
     "execution_count": 15,
     "metadata": {},
     "output_type": "execute_result"
    }
   ],
   "source": [
    "function fndrplc(s_moty::Crystal, r_moty::Crystal, parent::Crystal;\n",
    "        configs::Array{Configuration}=Configuration[], \n",
    "        search::Search=Search(),\n",
    "        kwargs...)::Crystal\n",
    "    # mutation guard\n",
    "    s_moty, r_moty = deepcopy.([s_moty, r_moty])\n",
    "    # if search not specified, do it now\n",
    "\tsearch = MOFun.isequal(search, Search()) ? s_moty ∈ parent : search\n",
    "    # if there are no replacements to be made, just return the parent\n",
    "    if search.num_isomorphisms == 0\n",
    "        return parent\n",
    "    end\n",
    "    # determine configuration index array\n",
    "    c = config_idx_arr(configs, search)\n",
    "    # determine s_mask (which atoms from s_moty are NOT in r_moty?)\n",
    "    mask = s_moty[MOFun.idx_filter(s_moty, MOFun.r_group_indices(s_moty))]\n",
    "    # get isomrphism between s_moty/mask and r_moty\n",
    "    m2r_isom = (mask ∈ r_moty).results[1].isomorphism\n",
    "    # shift all r_moty nodes according to center of isomorphic subset\n",
    "    r_moty.atoms.coords.xf .-= MOFun.geometric_center(r_moty[m2r_isom])\n",
    "    # loop over configs to build replacement data\n",
    "    xrms, del_atoms, bonds = build_replacement_data(c, search, parent, s_moty, r_moty, m2r_isom, mask)\n",
    "    # append temporary crystals to parent\n",
    "    xtal = Crystal(\"TODO\", parent.box, parent.atoms + sum([xrm.atoms for xrm in xrms]), Charges{Frac}(0))\n",
    "    # create bonds from dictionary\n",
    "    for (p, r) in bonds\n",
    "        add_edge!(xtal.bonds, p, r)\n",
    "    end\n",
    "    # delete atoms from array and return result\n",
    "    return xtal[[x for x in 1:xtal.atoms.n if !(x ∈ del_atoms)]]\n",
    "end\n",
    "\n",
    "# dispatch to handle single config w/o array-wrapping\n",
    "function fndrplc(s, r, p; config, kwargs...)\n",
    "    return fndrplc(s, r, p, configs=[config], kwargs...)\n",
    "end"
   ]
  },
  {
   "cell_type": "code",
   "execution_count": 16,
   "metadata": {},
   "outputs": [
    {
     "data": {
      "text/plain": [
       "Name: TODO\n",
       "Bravais unit cell of a crystal.\n",
       "\tUnit cell angles α = 90.000000 deg. β = 90.000000 deg. γ = 90.000000 deg.\n",
       "\tUnit cell dimensions a = 25.832000 Å. b = 25.832000 Å, c = 25.832000 Å\n",
       "\tVolume of unit cell: 17237.492730 Å³\n",
       "\n",
       "\t# atoms = 438\n",
       "\t# charges = 0\n",
       "\tchemical formula: Dict(:N => 1,:Zn => 16,:H => 51,:O => 53,:C => 98)\n",
       "\tspace Group: P1\n",
       "\tsymmetry Operations:\n",
       "\t\t'x, y, z'\n"
      ]
     },
     "execution_count": 16,
     "metadata": {},
     "output_type": "execute_result"
    }
   ],
   "source": [
    "xtal = find_replace(s_moty, r_moty, parent, search=search, configs=[Configuration(1,1), Configuration(2,1)])"
   ]
  },
  {
   "cell_type": "code",
   "execution_count": 17,
   "metadata": {},
   "outputs": [],
   "source": [
    "write_cif(xtal, \"OUTPUT\")"
   ]
  },
  {
   "cell_type": "code",
   "execution_count": null,
   "metadata": {},
   "outputs": [],
   "source": []
  }
 ],
 "metadata": {
  "kernelspec": {
   "display_name": "Julia 1.4.2",
   "language": "julia",
   "name": "julia-1.4"
  },
  "language_info": {
   "file_extension": ".jl",
   "mimetype": "application/julia",
   "name": "julia",
   "version": "1.4.2"
  }
 },
 "nbformat": 4,
 "nbformat_minor": 4
}
