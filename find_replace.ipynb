{
 "cells": [
  {
   "cell_type": "markdown",
   "metadata": {},
   "source": [
    "# Find-Replace in MOFun"
   ]
  },
  {
   "cell_type": "code",
   "execution_count": 1,
   "metadata": {},
   "outputs": [
    {
     "name": "stdout",
     "output_type": "stream",
     "text": [
      "\u001b[36m\u001b[1m[ \u001b[22m\u001b[39m\u001b[36m\u001b[1mInfo: \u001b[22m\u001b[39mPrecompiling MOFun [top-level]\n"
     ]
    }
   ],
   "source": [
    "using Logging, LinearAlgebra, ProgressMeter, PorousMaterials, Revise\n",
    "global_logger(ConsoleLogger(stdout, Logging.Info))\n",
    "using MOFun"
   ]
  },
  {
   "cell_type": "code",
   "execution_count": 2,
   "metadata": {},
   "outputs": [
    {
     "name": "stdout",
     "output_type": "stream",
     "text": [
      "search: \u001b[0m\u001b[1mf\u001b[22m\u001b[0m\u001b[1mi\u001b[22m\u001b[0m\u001b[1mn\u001b[22m\u001b[0m\u001b[1md\u001b[22m\u001b[0m\u001b[1m_\u001b[22m\u001b[0m\u001b[1mr\u001b[22m\u001b[0m\u001b[1me\u001b[22m\u001b[0m\u001b[1mp\u001b[22m\u001b[0m\u001b[1ml\u001b[22m\u001b[0m\u001b[1ma\u001b[22m\u001b[0m\u001b[1mc\u001b[22m\u001b[0m\u001b[1me\u001b[22m\n",
      "\n"
     ]
    },
    {
     "data": {
      "text/latex": [
       "Finds the search moiety in the parent structure and replaces it at a location.\n",
       "\n",
       "\\begin{verbatim}\n",
       "\t\tTODO: docs\n",
       "\\end{verbatim}\n"
      ],
      "text/markdown": [
       "Finds the search moiety in the parent structure and replaces it at a location.\n",
       "\n",
       "```\n",
       "\t\tTODO: docs\n",
       "```\n"
      ],
      "text/plain": [
       "  Finds the search moiety in the parent structure and replaces it at a\n",
       "  location.\n",
       "\n",
       "\u001b[36m  \t\tTODO: docs\u001b[39m"
      ]
     },
     "execution_count": 2,
     "metadata": {},
     "output_type": "execute_result"
    }
   ],
   "source": [
    "?find_replace"
   ]
  },
  {
   "cell_type": "markdown",
   "metadata": {},
   "source": [
    "## Search for the para-phenylene moiety and replace with 2-acetylamido-p-phenylene"
   ]
  },
  {
   "cell_type": "code",
   "execution_count": 3,
   "metadata": {},
   "outputs": [],
   "source": [
    "r_moty = moiety(\"2-acetylamido-p-phenylene\")\n",
    "s_moty = moiety(\"find-replace/2-!-p-phenylene\");"
   ]
  },
  {
   "cell_type": "markdown",
   "metadata": {},
   "source": [
    "## Start with IRMOF-1_one_ring.cif\n",
    "\n",
    "### Crystal needs to be cleaned up and have bonds defined"
   ]
  },
  {
   "cell_type": "code",
   "execution_count": 4,
   "metadata": {},
   "outputs": [
    {
     "name": "stdout",
     "output_type": "stream",
     "text": [
      "\u001b[36m\u001b[1m┌ \u001b[22m\u001b[39m\u001b[36m\u001b[1mInfo: \u001b[22m\u001b[39mCrystal IRMOF-1_one_ring.cif has  space group. I am converting it to P1 symmetry.\n",
      "\u001b[36m\u001b[1m└ \u001b[22m\u001b[39m        To afrain from this, pass `convert_to_p1=false` to the `Crystal` constructor.\n"
     ]
    }
   ],
   "source": [
    "parent = Crystal(\"IRMOF-1_one_ring.cif\")\n",
    "strip_numbers_from_atom_labels!(parent)\n",
    "infer_bonds!(parent, true)\n",
    "search = s_moty ∈ parent;"
   ]
  },
  {
   "cell_type": "markdown",
   "metadata": {},
   "source": [
    "## Do a single random replacement:"
   ]
  },
  {
   "cell_type": "code",
   "execution_count": 5,
   "metadata": {},
   "outputs": [],
   "source": [
    "xtal = find_replace(s_moty, r_moty, parent, outdir=\"output/\", save=true);"
   ]
  },
  {
   "cell_type": "markdown",
   "metadata": {},
   "source": [
    "## Do all single replacements:"
   ]
  },
  {
   "cell_type": "code",
   "execution_count": 6,
   "metadata": {},
   "outputs": [
    {
     "name": "stdout",
     "output_type": "stream",
     "text": [
      "\u001b[36m\u001b[1m[ \u001b[22m\u001b[39m\u001b[36m\u001b[1mInfo: \u001b[22m\u001b[39mMade 4 replacements\n"
     ]
    }
   ],
   "source": [
    "xtals = find_replace(s_moty, r_moty, parent, all_configs=true, outdir=\"output/\", save=true)\n",
    "@info \"Made $(length(xtals)) replacements\""
   ]
  },
  {
   "cell_type": "markdown",
   "metadata": {},
   "source": [
    "## Moving on to the real IRMOF-1."
   ]
  },
  {
   "cell_type": "code",
   "execution_count": 7,
   "metadata": {},
   "outputs": [],
   "source": [
    "parent = Crystal(\"IRMOF-1.cif\")\n",
    "strip_numbers_from_atom_labels!(parent)\n",
    "infer_bonds!(parent, true)\n",
    "search = s_moty ∈ parent;"
   ]
  },
  {
   "cell_type": "markdown",
   "metadata": {},
   "source": [
    "## Run all of the replacements."
   ]
  },
  {
   "cell_type": "code",
   "execution_count": 8,
   "metadata": {},
   "outputs": [
    {
     "name": "stderr",
     "output_type": "stream",
     "text": [
      "\u001b[32mProcessing 24 replacements:\t100%|███████████████████████| Time: 0:00:03\u001b[39m\n"
     ]
    }
   ],
   "source": [
    "xtals = find_replace(s_moty, r_moty, parent, all_configs=true, outdir=\"output/\", save=true);"
   ]
  },
  {
   "cell_type": "markdown",
   "metadata": {},
   "source": [
    "## Perform one randomly-selected replacement at each possible location."
   ]
  },
  {
   "cell_type": "code",
   "execution_count": 9,
   "metadata": {},
   "outputs": [
    {
     "name": "stderr",
     "output_type": "stream",
     "text": [
      "\u001b[32mProcessing 24 replacements:\t100%|███████████████████████| Time: 0:00:03\u001b[39m\n"
     ]
    }
   ],
   "source": [
    "xtals = find_replace(s_moty, r_moty, parent, random_all=true, outdir=\"output/random/\", save=true);"
   ]
  },
  {
   "cell_type": "markdown",
   "metadata": {},
   "source": [
    "## Same as above, but all in one Crystal"
   ]
  },
  {
   "cell_type": "code",
   "execution_count": 10,
   "metadata": {},
   "outputs": [
    {
     "name": "stderr",
     "output_type": "stream",
     "text": [
      "\u001b[32mProcessing 24 replacements:\t100%|███████████████████████| Time: 0:01:57\u001b[39m\n"
     ]
    }
   ],
   "source": [
    "xtals = find_replace(s_moty, r_moty, parent, cumulative=true, incremental=true, outdir=\"output/cumulative/\", save=true);"
   ]
  }
 ],
 "metadata": {
  "kernelspec": {
   "display_name": "Julia 1.4.2",
   "language": "julia",
   "name": "julia-1.4"
  },
  "language_info": {
   "file_extension": ".jl",
   "mimetype": "application/julia",
   "name": "julia",
   "version": "1.4.2"
  }
 },
 "nbformat": 4,
 "nbformat_minor": 4
}
