{
 "cells": [
  {
   "cell_type": "code",
   "execution_count": 2,
   "metadata": {},
   "outputs": [],
   "source": [
    "using Logging, LinearAlgebra, Revise"
   ]
  },
  {
   "cell_type": "code",
   "execution_count": 3,
   "metadata": {},
   "outputs": [],
   "source": [
    "using PorousMaterials, MOFun\n",
    "global_logger(ConsoleLogger(stdout, Logging.Info));"
   ]
  },
  {
   "cell_type": "markdown",
   "metadata": {},
   "source": [
    "# Example case: make IRMOF-1_one_ring with 2-acetylamido-terephthalate linker\n",
    "\n",
    "## parent structure"
   ]
  },
  {
   "cell_type": "code",
   "execution_count": 4,
   "metadata": {},
   "outputs": [
    {
     "name": "stdout",
     "output_type": "stream",
     "text": [
      "\u001b[36m\u001b[1m┌ \u001b[22m\u001b[39m\u001b[36m\u001b[1mInfo: \u001b[22m\u001b[39mCrystal IRMOF-1_one_ring.cif has  space group. I am converting it to P1 symmetry.\n",
      "\u001b[36m\u001b[1m└ \u001b[22m\u001b[39m        To afrain from this, pass `convert_to_p1=false` to the `Crystal` constructor.\n"
     ]
    }
   ],
   "source": [
    "parent_structure = Crystal(\"IRMOF-1_one_ring.cif\")\n",
    "strip_numbers_from_atom_labels!(parent_structure)\n",
    "infer_bonds!(parent_structure, true)"
   ]
  },
  {
   "cell_type": "markdown",
   "metadata": {},
   "source": [
    "## search moiety"
   ]
  },
  {
   "cell_type": "code",
   "execution_count": 5,
   "metadata": {},
   "outputs": [],
   "source": [
    "s_moty = moiety(\"find-replace/2-!-p-phenylene\");"
   ]
  },
  {
   "cell_type": "markdown",
   "metadata": {},
   "source": [
    "#### nodes are sorted by order, except that R-group nodes are sent to the end of the list\n",
    "\n",
    "Sorting the tagged nodes to the end may degrade performance for multi-nuclear replacement motifs.  This is a compromise made for the simplicity of aligning the moiety; it forces the isomorphism between the search moiety alignment mask and the replace moiety to keep a consistent node ordering with the isomorphism between the search moiety and the parent structure."
   ]
  },
  {
   "cell_type": "markdown",
   "metadata": {},
   "source": [
    "#### should write a test for tagged atoms being at the end\n",
    "\n",
    "## replace moiety"
   ]
  },
  {
   "cell_type": "code",
   "execution_count": 18,
   "metadata": {},
   "outputs": [],
   "source": [
    "r_moty = moiety(\"2-acetylamido-p-phenylene\");"
   ]
  },
  {
   "cell_type": "markdown",
   "metadata": {},
   "source": [
    "## substructure search results"
   ]
  },
  {
   "cell_type": "code",
   "execution_count": 7,
   "metadata": {},
   "outputs": [],
   "source": [
    "search = s_moty ∈ parent_structure;"
   ]
  },
  {
   "cell_type": "markdown",
   "metadata": {},
   "source": [
    "#### all 4 are in 1 location"
   ]
  },
  {
   "cell_type": "markdown",
   "metadata": {},
   "source": [
    "## choose 1 at random for a replacement"
   ]
  },
  {
   "cell_type": "code",
   "execution_count": 8,
   "metadata": {},
   "outputs": [],
   "source": [
    "s2p_isomorphism = search.results[rand(1:4)].isomorphism;"
   ]
  },
  {
   "cell_type": "markdown",
   "metadata": {},
   "source": [
    "## subtract R group to get mask"
   ]
  },
  {
   "cell_type": "code",
   "execution_count": 9,
   "metadata": {},
   "outputs": [],
   "source": [
    "\"\"\"\n",
    "Returns a copy of moiety w/o R-group tagged atoms\n",
    "\"\"\"\n",
    "function remove_R_group(moiety::Crystal)::Crystal\n",
    "    moty = deepcopy(moiety)\n",
    "    r_indices = MOFun.filter_R_group(moty)\n",
    "    not_r = [i for i in 1:length(moty.atoms.species) if ! (i in r_indices)]\n",
    "    atoms = Atoms(moty.atoms.species[not_r], moty.atoms.coords[not_r])\n",
    "    moty = Crystal(moiety.name, moiety.box, atoms, moiety.charges)\n",
    "    infer_bonds!(moty, false)\n",
    "    return moty\n",
    "end\n",
    ";"
   ]
  },
  {
   "cell_type": "code",
   "execution_count": 10,
   "metadata": {},
   "outputs": [],
   "source": [
    "mask = remove_R_group(s_moty);"
   ]
  },
  {
   "cell_type": "markdown",
   "metadata": {},
   "source": [
    "## align mask to replace moiety"
   ]
  },
  {
   "cell_type": "code",
   "execution_count": 20,
   "metadata": {},
   "outputs": [],
   "source": [
    "m2r_isomorphism = (mask ∈ r_moty).results[1].isomorphism;"
   ]
  },
  {
   "cell_type": "markdown",
   "metadata": {},
   "source": [
    "#### only 1 configuration, but will not always be so (heteroleptic multi-functionalization)\n",
    "\n",
    "## now we have the correspondence between the search moiety and our target location, and between the search moiety mask and the replace moiety.  we can perform orthogonal Procrustes"
   ]
  },
  {
   "cell_type": "code",
   "execution_count": 12,
   "metadata": {},
   "outputs": [],
   "source": [
    "function adjust_coordinates!(xtal::Crystal)\n",
    "   for (i, node) in enumerate(1:length(xtal.atoms.species))\n",
    "        dxf = xtal.atoms.coords.xf[:, node] - xtal.atoms.coords.xf[:, 1] # rebuild the image (fixing first node @ origin)\n",
    "        nearest_image!(dxf)\n",
    "        xtal.atoms.coords.xf[:, node] = dxf\n",
    "    end\n",
    "end\n",
    ";"
   ]
  },
  {
   "cell_type": "code",
   "execution_count": 13,
   "metadata": {},
   "outputs": [],
   "source": [
    "geometric_center(coords) = sum(coords, dims=2)[:] / 3;"
   ]
  },
  {
   "cell_type": "code",
   "execution_count": 14,
   "metadata": {},
   "outputs": [],
   "source": [
    "function remove_path_prefix(name::String)::String\n",
    "    s = split(name, '/')\n",
    "    @debug \"split\" s[2]\n",
    "    n = length(s)\n",
    "    @debug n\n",
    "    if n > 1\n",
    "        return s[2]\n",
    "    else\n",
    "        return name\n",
    "    end\n",
    "end\n",
    ";"
   ]
  },
  {
   "cell_type": "code",
   "execution_count": 15,
   "metadata": {},
   "outputs": [],
   "source": [
    "function effect_replacement(xtal::Crystal, s_moty::Crystal, r_moty::Crystal, s2p_isomorphism::Array{Int}, m2r_isomorphism)::Crystal\n",
    "    # adjust atomic coordinates to account for periodic boundaries\n",
    "    xtal_subset = xtal.atoms[s2p_isomorphism] # adjust coords on this, to preserve rest of original crystal in unit cell\n",
    "    adjust_coordinates!(xtal)\n",
    "    adjust_coordinates!(s_moty)\n",
    "    adjust_coordinates!(r_moty)\n",
    "    \n",
    "    # get frac coords of subsets of atoms in xtal, r_moty, s_mask\n",
    "    xtal_subset_coords = xtal.atoms.coords.xf[:,s2p_isomorphism]\n",
    "    r_moty_subset_coords = r_moty.atoms.coords.xf[:,m2r_isomorphism]\n",
    "    r_indices = MOFun.filter_R_group(s_moty) # which atoms from s_moty are NOT in r_moty?\n",
    "    s_mask_indices = [index for index in 1:length(s_moty.atoms.species) if !(index ∈ r_indices)]\n",
    "    s_mask_coords = s_moty.atoms.coords.xf[:,s_mask_indices]\n",
    "    \n",
    "    # get frac coords of geometric center of xtal subset, moieties, mask\n",
    "    xtal_subset_center = geometric_center(xtal_subset_coords)\n",
    "    s_moty_center = geometric_center(s_moty.atoms.coords.xf)\n",
    "    @debug \"r_moty_subset\" r_moty_subset_coords\n",
    "    r_moty_subset_center = geometric_center(r_moty_subset_coords)\n",
    "    s_mask_center = geometric_center(s_mask_coords)\n",
    "    \n",
    "    # translate centers to origin\n",
    "    @debug \"s_moty\" s_moty.atoms.coords.xf s_moty_center\n",
    "    s_moty.atoms.coords.xf .-= s_moty_center\n",
    "    @debug \"r_moty\" r_moty.atoms.coords.xf r_moty_subset_center\n",
    "    r_moty.atoms.coords.xf .-= r_moty_subset_center\n",
    "    xtal.atoms.coords.xf .-= xtal_subset_center\n",
    "    s_mask_coords .-= s_mask_center\n",
    "    \n",
    "    # get Cartesian clouds to align s_moty to xtal_subset\n",
    "    @debug \"Find A\" s_moty.box.f_to_c s_moty.atoms.coords.xf\n",
    "    A = s_moty.box.f_to_c * s_moty.atoms.coords.xf\n",
    "    B = xtal.box.f_to_c * xtal.atoms.coords.xf[:,s2p_isomorphism]\n",
    "    \n",
    "    # find rotation matrix via orthogonal Procrustes in Cartesian space\n",
    "    F = svd(A * B')\n",
    "    rot_s2p = F.V * F.U' # rotation matrix that transforms s_moty onto xtal_subset\n",
    "    \n",
    "    # repeat to align r_moty_subset to s_moty mask\n",
    "    # get Cartesian clouds\n",
    "    A = r_moty.box.f_to_c * r_moty_subset_coords\n",
    "    B = s_moty.box.f_to_c * s_mask_coords\n",
    "    \n",
    "    # find rotation matrix\n",
    "    F = svd(A * B')\n",
    "    rot_r2m = F.V * F.U' # rotation matrix that transforms r_moty_subset onto s_mask\n",
    "    \n",
    "    # transform r_moty according to rot_r2m\n",
    "    xformd_r_moty_coords = rot_r2m * r_moty.box.f_to_c * r_moty.atoms.coords.xf\n",
    "    \n",
    "    # transform again by rot_s2p and translate to crystal location\n",
    "    xformd_r_moty_atoms = Atoms{Cart}(length(r_moty.atoms.species), r_moty.atoms.species, Cart(rot_s2p * xformd_r_moty_coords .+ xtal.box.f_to_c * xtal_subset_center))\n",
    "    \n",
    "    # convert aligned positions to frac coords w.r.t crystal box\n",
    "    r_coords = Frac(xformd_r_moty_atoms, xtal.box)\n",
    "    \n",
    "    # subtract s_moty isomorphic subset from xtal\n",
    "    keep = [i for i in 1:length(xtal.atoms.species) if !(i ∈ s2p_isomorphism)]\n",
    "    crystal_species = xtal.atoms.species[keep]\n",
    "    crystal_coords = xtal.atoms.coords[keep]\n",
    "    \n",
    "    # concatenate transformed r_moty's coords/species w/ xtal's\n",
    "    species = vcat(crystal_species, r_moty.atoms.species)\n",
    "    @debug \"concatenating coordinates\" crystal_coords.xf r_coords.coords.xf\n",
    "    coords = hcat(crystal_coords.xf, r_coords.coords.xf)\n",
    "    @debug \"atom data\" species coords\n",
    "\n",
    "    # return new crystal\n",
    "    name = remove_extension(xtal) * \"_find_\" * remove_path_prefix(s_moty.name) * \"_replace_\" * r_moty.name\n",
    "    atoms = Atoms(species, Frac(coords))\n",
    "    crystal = Crystal(name, xtal.box, atoms, Charges{Frac}(0))\n",
    "    wrap!(crystal)\n",
    "    infer_bonds!(crystal, true)\n",
    "    return crystal\n",
    "end\n",
    ";"
   ]
  },
  {
   "cell_type": "code",
   "execution_count": 21,
   "metadata": {},
   "outputs": [
    {
     "data": {
      "text/plain": [
       "Name: IRMOF-1_one_ring_find_2-!-p-phenylene_replace_2-acetylamido-p-phenylene\n",
       "Bravais unit cell of a crystal.\n",
       "\tUnit cell angles α = 90.000000 deg. β = 90.000000 deg. γ = 90.000000 deg.\n",
       "\tUnit cell dimensions a = 25.832000 Å. b = 25.832000 Å, c = 25.832000 Å\n",
       "\tVolume of unit cell: 17237.492730 Å³\n",
       "\n",
       "\t# atoms = 58\n",
       "\t# charges = 0\n",
       "\tchemical formula: Dict(:N => 1,:Zn => 4,:H => 15,:O => 13,:C => 25)\n",
       "\tspace Group: P1\n",
       "\tsymmetry Operations:\n",
       "\t\t'x, y, z'\n"
      ]
     },
     "execution_count": 21,
     "metadata": {},
     "output_type": "execute_result"
    }
   ],
   "source": [
    "altered_crystal = effect_replacement(parent_structure, s_moty, r_moty, s2p_isomorphism, m2r_isomorphism)"
   ]
  },
  {
   "cell_type": "code",
   "execution_count": 22,
   "metadata": {},
   "outputs": [],
   "source": [
    "write_cif(altered_crystal, \"2-acetamido-IRMOF-1-one-ring.cif\")"
   ]
  },
  {
   "cell_type": "code",
   "execution_count": null,
   "metadata": {},
   "outputs": [],
   "source": []
  }
 ],
 "metadata": {
  "kernelspec": {
   "display_name": "Julia 1.4.2",
   "language": "julia",
   "name": "julia-1.4"
  },
  "language_info": {
   "file_extension": ".jl",
   "mimetype": "application/julia",
   "name": "julia",
   "version": "1.4.2"
  }
 },
 "nbformat": 4,
 "nbformat_minor": 4
}
