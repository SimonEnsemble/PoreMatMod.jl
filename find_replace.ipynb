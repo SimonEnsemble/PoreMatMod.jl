{
 "cells": [
  {
   "cell_type": "markdown",
   "metadata": {},
   "source": [
    "# Find-Replace in MOFun\n",
    "\n",
    "## Let's generate some hypothetical MOFs!\n",
    "\n",
    "#### Eric Bloch's students are synthetic chemists who want to make novel porous materials.  We're going to produce some hypothetical structures and help them direct their efforts in the lab."
   ]
  },
  {
   "cell_type": "code",
   "execution_count": 1,
   "metadata": {},
   "outputs": [],
   "source": [
    "using Logging, Revise\n",
    "global_logger(ConsoleLogger(stdout, Logging.Info));"
   ]
  },
  {
   "cell_type": "code",
   "execution_count": 2,
   "metadata": {},
   "outputs": [
    {
     "name": "stdout",
     "output_type": "stream",
     "text": [
      "\u001b[36m\u001b[1m[ \u001b[22m\u001b[39m\u001b[36m\u001b[1mInfo: \u001b[22m\u001b[39mPrecompiling PorousMaterials [68953c7c-a3c7-538e-83d3-73516288599e]\n",
      "\u001b[36m\u001b[1m[ \u001b[22m\u001b[39m\u001b[36m\u001b[1mInfo: \u001b[22m\u001b[39mPrecompiling MOFun [top-level]\n"
     ]
    }
   ],
   "source": [
    "using PorousMaterials, MOFun"
   ]
  },
  {
   "cell_type": "code",
   "execution_count": 3,
   "metadata": {},
   "outputs": [
    {
     "name": "stdout",
     "output_type": "stream",
     "text": [
      "search: \u001b[0m\u001b[1mf\u001b[22m\u001b[0m\u001b[1mi\u001b[22m\u001b[0m\u001b[1mn\u001b[22m\u001b[0m\u001b[1md\u001b[22m\u001b[0m\u001b[1m_\u001b[22m\u001b[0m\u001b[1mr\u001b[22m\u001b[0m\u001b[1me\u001b[22m\u001b[0m\u001b[1mp\u001b[22m\u001b[0m\u001b[1ml\u001b[22m\u001b[0m\u001b[1ma\u001b[22m\u001b[0m\u001b[1mc\u001b[22m\u001b[0m\u001b[1me\u001b[22m\n",
      "\n"
     ]
    },
    {
     "data": {
      "text/latex": [
       "Finds the search moiety in the parent structure and replaces it at a location.\n",
       "\n",
       "\\begin{verbatim}\n",
       "\t\tTODO: docs\n",
       "\\end{verbatim}\n"
      ],
      "text/markdown": [
       "Finds the search moiety in the parent structure and replaces it at a location.\n",
       "\n",
       "```\n",
       "\t\tTODO: docs\n",
       "```\n"
      ],
      "text/plain": [
       "  Finds the search moiety in the parent structure and replaces it at a\n",
       "  location.\n",
       "\n",
       "\u001b[36m  \t\tTODO: docs\u001b[39m"
      ]
     },
     "execution_count": 3,
     "metadata": {},
     "output_type": "execute_result"
    }
   ],
   "source": [
    "?find_replace"
   ]
  },
  {
   "cell_type": "markdown",
   "metadata": {},
   "source": [
    "## Search for the para-phenylene moiety and replace with 2-acetylamido-p-phenylene"
   ]
  },
  {
   "cell_type": "code",
   "execution_count": 4,
   "metadata": {},
   "outputs": [],
   "source": [
    "r_moty = moiety(\"2-acetylamido-p-phenylene\")\n",
    "s_moty = moiety(\"find-replace/2-!-p-phenylene\");"
   ]
  },
  {
   "cell_type": "markdown",
   "metadata": {},
   "source": [
    "## Start with IRMOF-1_one_ring.cif\n",
    "\n",
    "### Crystal needs to be cleaned up and have bonds defined"
   ]
  },
  {
   "cell_type": "code",
   "execution_count": 5,
   "metadata": {},
   "outputs": [
    {
     "name": "stdout",
     "output_type": "stream",
     "text": [
      "\u001b[36m\u001b[1m┌ \u001b[22m\u001b[39m\u001b[36m\u001b[1mInfo: \u001b[22m\u001b[39mCrystal IRMOF-1_one_ring.cif has  space group. I am converting it to P1 symmetry.\n",
      "\u001b[36m\u001b[1m└ \u001b[22m\u001b[39m        To afrain from this, pass `convert_to_p1=false` to the `Crystal` constructor.\n"
     ]
    }
   ],
   "source": [
    "parent = Crystal(\"IRMOF-1_one_ring.cif\")\n",
    "strip_numbers_from_atom_labels!(parent)\n",
    "infer_bonds!(parent, true)\n",
    "search = s_moty ∈ parent;"
   ]
  },
  {
   "cell_type": "markdown",
   "metadata": {},
   "source": [
    "## Do a single random replacement:"
   ]
  },
  {
   "cell_type": "code",
   "execution_count": 12,
   "metadata": {},
   "outputs": [
    {
     "ename": "TypeError",
     "evalue": "TypeError: non-boolean (Int64) used in boolean context",
     "output_type": "error",
     "traceback": [
      "TypeError: non-boolean (Int64) used in boolean context",
      "",
      "Stacktrace:",
      " [1] iterate at .\\iterators.jl:430 [inlined]",
      " [2] iterate at .\\generator.jl:44 [inlined]",
      " [3] grow_to!(::Array{Int64,1}, ::Base.Generator{Base.Iterators.Filter{MOFun.var\"#48#52\"{Crystal,Array{Int64,1}},Array{Int64,1}},typeof(identity)}) at .\\array.jl:726",
      " [4] collect at .\\array.jl:663 [inlined]",
      " [5] effect_replacement(::Crystal, ::Crystal, ::Crystal, ::Array{Int64,1}, ::Array{Int64,1}) at C:\\Users\\eahen\\.julia\\dev\\MOFfun.jl\\src\\findreplace.jl:283",
      " [6] fr_one_rep(::Crystal, ::Crystal, ::Crystal; search::Search, config::Configuration, outdir::String, save::Bool) at C:\\Users\\eahen\\.julia\\dev\\MOFfun.jl\\src\\findreplace.jl:335",
      " [7] find_replace(::Crystal, ::Crystal, ::Crystal; config::Configuration, search::Search, all_configs::Bool, random_all::Bool, cumulative::Bool, outdir::String, incremental::Bool, save::Bool) at C:\\Users\\eahen\\.julia\\dev\\MOFfun.jl\\src\\findreplace.jl:479",
      " [8] top-level scope at In[12]:1"
     ]
    }
   ],
   "source": [
    "xtal = find_replace(s_moty, r_moty, parent, outdir=\"output/\", save=true);"
   ]
  },
  {
   "cell_type": "markdown",
   "metadata": {},
   "source": [
    "## Do all single replacements:"
   ]
  },
  {
   "cell_type": "code",
   "execution_count": 7,
   "metadata": {},
   "outputs": [
    {
     "ename": "LightGraphs.NotImplementedError{String}",
     "evalue": "method has_edge not implemented.",
     "output_type": "error",
     "traceback": [
      "method has_edge not implemented.",
      "",
      "Stacktrace:",
      " [1] _NI(::String) at C:\\Users\\eahen\\.julia\\packages\\LightGraphs\\siFgP\\src\\interface.jl:16",
      " [2] has_edge(::Crystal, ::Int64, ::Int64) at C:\\Users\\eahen\\.julia\\packages\\LightGraphs\\siFgP\\src\\interface.jl:276",
      " [3] (::MOFun.var\"#12#16\"{Int64,Crystal})(::Int64) at .\\none:0",
      " [4] iterate at .\\generator.jl:47 [inlined]",
      " [5] collect at .\\array.jl:665 [inlined]",
      " [6] (::MOFun.var\"#11#15\"{Crystal,Array{Int64,1}})(::Int64) at .\\none:0",
      " [7] iterate at .\\iterators.jl:430 [inlined]",
      " [8] iterate at .\\generator.jl:44 [inlined]",
      " [9] grow_to! at .\\array.jl:726 [inlined]",
      " [10] collect at .\\array.jl:663 [inlined]",
      " [11] effect_replacement(::Crystal, ::Crystal, ::Crystal, ::Array{Int64,1}, ::Array{Int64,1}) at C:\\Users\\eahen\\.julia\\dev\\MOFfun.jl\\src\\findreplace.jl:283",
      " [12] fr_one_rep(::Crystal, ::Crystal, ::Crystal; search::Search, config::Configuration, outdir::String, save::Bool) at C:\\Users\\eahen\\.julia\\dev\\MOFfun.jl\\src\\findreplace.jl:335",
      " [13] macro expansion at C:\\Users\\eahen\\.julia\\dev\\MOFfun.jl\\src\\findreplace.jl:379 [inlined]",
      " [14] macro expansion at C:\\Users\\eahen\\.julia\\packages\\ProgressMeter\\OUQkp\\src\\ProgressMeter.jl:732 [inlined]",
      " [15] fr_all_configs(::Crystal, ::Crystal, ::Crystal; search::Search, outdir::String, save::Bool) at C:\\Users\\eahen\\.julia\\dev\\MOFfun.jl\\src\\findreplace.jl:377",
      " [16] find_replace(::Crystal, ::Crystal, ::Crystal; config::Configuration, search::Search, all_configs::Bool, random_all::Bool, cumulative::Bool, outdir::String, incremental::Bool, save::Bool) at C:\\Users\\eahen\\.julia\\dev\\MOFfun.jl\\src\\findreplace.jl:472",
      " [17] top-level scope at In[7]:1"
     ]
    }
   ],
   "source": [
    "xtals = find_replace(s_moty, r_moty, parent, all_configs=true, outdir=\"output/\", save=true)\n",
    "@info \"Made $(length(xtals)) replacements\""
   ]
  },
  {
   "cell_type": "markdown",
   "metadata": {},
   "source": [
    "## Moving on to the real IRMOF-1."
   ]
  },
  {
   "cell_type": "code",
   "execution_count": 8,
   "metadata": {},
   "outputs": [],
   "source": [
    "parent = Crystal(\"IRMOF-1.cif\")\n",
    "strip_numbers_from_atom_labels!(parent)\n",
    "infer_bonds!(parent, true)\n",
    "search = s_moty ∈ parent;"
   ]
  },
  {
   "cell_type": "markdown",
   "metadata": {},
   "source": [
    "## Run all of the replacements."
   ]
  },
  {
   "cell_type": "code",
   "execution_count": 9,
   "metadata": {},
   "outputs": [
    {
     "ename": "LightGraphs.NotImplementedError{String}",
     "evalue": "method has_edge not implemented.",
     "output_type": "error",
     "traceback": [
      "method has_edge not implemented.",
      "",
      "Stacktrace:",
      " [1] _NI(::String) at C:\\Users\\eahen\\.julia\\packages\\LightGraphs\\siFgP\\src\\interface.jl:16",
      " [2] has_edge(::Crystal, ::Int64, ::Int64) at C:\\Users\\eahen\\.julia\\packages\\LightGraphs\\siFgP\\src\\interface.jl:276",
      " [3] (::MOFun.var\"#12#16\"{Int64,Crystal})(::Int64) at .\\none:0",
      " [4] iterate at .\\generator.jl:47 [inlined]",
      " [5] collect at .\\array.jl:665 [inlined]",
      " [6] (::MOFun.var\"#11#15\"{Crystal,Array{Int64,1}})(::Int64) at .\\none:0",
      " [7] iterate at .\\iterators.jl:430 [inlined]",
      " [8] iterate at .\\generator.jl:44 [inlined]",
      " [9] grow_to! at .\\array.jl:726 [inlined]",
      " [10] collect at .\\array.jl:663 [inlined]",
      " [11] effect_replacement(::Crystal, ::Crystal, ::Crystal, ::Array{Int64,1}, ::Array{Int64,1}) at C:\\Users\\eahen\\.julia\\dev\\MOFfun.jl\\src\\findreplace.jl:283",
      " [12] fr_one_rep(::Crystal, ::Crystal, ::Crystal; search::Search, config::Configuration, outdir::String, save::Bool) at C:\\Users\\eahen\\.julia\\dev\\MOFfun.jl\\src\\findreplace.jl:335",
      " [13] macro expansion at C:\\Users\\eahen\\.julia\\dev\\MOFfun.jl\\src\\findreplace.jl:379 [inlined]",
      " [14] macro expansion at C:\\Users\\eahen\\.julia\\packages\\ProgressMeter\\OUQkp\\src\\ProgressMeter.jl:732 [inlined]",
      " [15] fr_all_configs(::Crystal, ::Crystal, ::Crystal; search::Search, outdir::String, save::Bool) at C:\\Users\\eahen\\.julia\\dev\\MOFfun.jl\\src\\findreplace.jl:377",
      " [16] find_replace(::Crystal, ::Crystal, ::Crystal; config::Configuration, search::Search, all_configs::Bool, random_all::Bool, cumulative::Bool, outdir::String, incremental::Bool, save::Bool) at C:\\Users\\eahen\\.julia\\dev\\MOFfun.jl\\src\\findreplace.jl:472",
      " [17] top-level scope at In[9]:1"
     ]
    }
   ],
   "source": [
    "xtals = find_replace(s_moty, r_moty, parent, all_configs=true, outdir=\"output/\", save=true);"
   ]
  },
  {
   "cell_type": "markdown",
   "metadata": {},
   "source": [
    "## Perform one randomly-selected replacement at each possible location."
   ]
  },
  {
   "cell_type": "code",
   "execution_count": 10,
   "metadata": {},
   "outputs": [
    {
     "ename": "LightGraphs.NotImplementedError{String}",
     "evalue": "method has_edge not implemented.",
     "output_type": "error",
     "traceback": [
      "method has_edge not implemented.",
      "",
      "Stacktrace:",
      " [1] _NI(::String) at C:\\Users\\eahen\\.julia\\packages\\LightGraphs\\siFgP\\src\\interface.jl:16",
      " [2] has_edge(::Crystal, ::Int64, ::Int64) at C:\\Users\\eahen\\.julia\\packages\\LightGraphs\\siFgP\\src\\interface.jl:276",
      " [3] (::MOFun.var\"#12#16\"{Int64,Crystal})(::Int64) at .\\none:0",
      " [4] iterate at .\\generator.jl:47 [inlined]",
      " [5] collect at .\\array.jl:665 [inlined]",
      " [6] (::MOFun.var\"#11#15\"{Crystal,Array{Int64,1}})(::Int64) at .\\none:0",
      " [7] iterate at .\\iterators.jl:430 [inlined]",
      " [8] iterate at .\\generator.jl:44 [inlined]",
      " [9] grow_to! at .\\array.jl:726 [inlined]",
      " [10] collect at .\\array.jl:663 [inlined]",
      " [11] effect_replacement(::Crystal, ::Crystal, ::Crystal, ::Array{Int64,1}, ::Array{Int64,1}) at C:\\Users\\eahen\\.julia\\dev\\MOFfun.jl\\src\\findreplace.jl:283",
      " [12] fr_one_rep(::Crystal, ::Crystal, ::Crystal; search::Search, config::Configuration, outdir::String, save::Bool) at C:\\Users\\eahen\\.julia\\dev\\MOFfun.jl\\src\\findreplace.jl:335",
      " [13] macro expansion at C:\\Users\\eahen\\.julia\\dev\\MOFfun.jl\\src\\findreplace.jl:397 [inlined]",
      " [14] macro expansion at C:\\Users\\eahen\\.julia\\packages\\ProgressMeter\\OUQkp\\src\\ProgressMeter.jl:732 [inlined]",
      " [15] fr_random_all(::Crystal, ::Crystal, ::Crystal; search::Search, outdir::String, save::Bool) at C:\\Users\\eahen\\.julia\\dev\\MOFfun.jl\\src\\findreplace.jl:394",
      " [16] find_replace(::Crystal, ::Crystal, ::Crystal; config::Configuration, search::Search, all_configs::Bool, random_all::Bool, cumulative::Bool, outdir::String, incremental::Bool, save::Bool) at C:\\Users\\eahen\\.julia\\dev\\MOFfun.jl\\src\\findreplace.jl:474",
      " [17] top-level scope at In[10]:1"
     ]
    }
   ],
   "source": [
    "xtals = find_replace(s_moty, r_moty, parent, random_all=true, outdir=\"output/random/\", save=true);"
   ]
  },
  {
   "cell_type": "markdown",
   "metadata": {},
   "source": [
    "## Same as above, but all in one Crystal"
   ]
  },
  {
   "cell_type": "code",
   "execution_count": 11,
   "metadata": {},
   "outputs": [
    {
     "ename": "LightGraphs.NotImplementedError{String}",
     "evalue": "method has_edge not implemented.",
     "output_type": "error",
     "traceback": [
      "method has_edge not implemented.",
      "",
      "Stacktrace:",
      " [1] _NI(::String) at C:\\Users\\eahen\\.julia\\packages\\LightGraphs\\siFgP\\src\\interface.jl:16",
      " [2] has_edge(::Crystal, ::Int64, ::Int64) at C:\\Users\\eahen\\.julia\\packages\\LightGraphs\\siFgP\\src\\interface.jl:276",
      " [3] (::MOFun.var\"#12#16\"{Int64,Crystal})(::Int64) at .\\none:0",
      " [4] iterate at .\\generator.jl:47 [inlined]",
      " [5] collect at .\\array.jl:665 [inlined]",
      " [6] (::MOFun.var\"#11#15\"{Crystal,Array{Int64,1}})(::Int64) at .\\none:0",
      " [7] iterate at .\\iterators.jl:430 [inlined]",
      " [8] iterate at .\\generator.jl:44 [inlined]",
      " [9] grow_to! at .\\array.jl:726 [inlined]",
      " [10] collect at .\\array.jl:663 [inlined]",
      " [11] effect_replacement(::Crystal, ::Crystal, ::Crystal, ::Array{Int64,1}, ::Array{Int64,1}) at C:\\Users\\eahen\\.julia\\dev\\MOFfun.jl\\src\\findreplace.jl:283",
      " [12] fr_one_rep(::Crystal, ::Crystal, ::Crystal; search::Search, config::Configuration, outdir::String, save::Bool) at C:\\Users\\eahen\\.julia\\dev\\MOFfun.jl\\src\\findreplace.jl:335",
      " [13] macro expansion at C:\\Users\\eahen\\.julia\\dev\\MOFfun.jl\\src\\findreplace.jl:352 [inlined]",
      " [14] macro expansion at C:\\Users\\eahen\\.julia\\packages\\ProgressMeter\\OUQkp\\src\\ProgressMeter.jl:732 [inlined]",
      " [15] fr_cumulative(::Crystal, ::Crystal, ::Crystal; search::Search, outdir::String, incremental::Bool, save::Bool) at C:\\Users\\eahen\\.julia\\dev\\MOFfun.jl\\src\\findreplace.jl:350",
      " [16] find_replace(::Crystal, ::Crystal, ::Crystal; config::Configuration, search::Search, all_configs::Bool, random_all::Bool, cumulative::Bool, outdir::String, incremental::Bool, save::Bool) at C:\\Users\\eahen\\.julia\\dev\\MOFfun.jl\\src\\findreplace.jl:476",
      " [17] top-level scope at In[11]:1"
     ]
    }
   ],
   "source": [
    "xtals = find_replace(s_moty, r_moty, parent, cumulative=true, incremental=true, outdir=\"output/cumulative/\", save=true);"
   ]
  }
 ],
 "metadata": {
  "kernelspec": {
   "display_name": "Julia 1.4.2",
   "language": "julia",
   "name": "julia-1.4"
  },
  "language_info": {
   "file_extension": ".jl",
   "mimetype": "application/julia",
   "name": "julia",
   "version": "1.4.2"
  }
 },
 "nbformat": 4,
 "nbformat_minor": 4
}
