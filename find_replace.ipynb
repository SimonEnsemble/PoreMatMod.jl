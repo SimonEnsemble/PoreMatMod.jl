{
 "cells": [
  {
   "cell_type": "code",
   "execution_count": 7,
   "metadata": {},
   "outputs": [],
   "source": [
    "using Logging, Revise\n",
    "global_logger(ConsoleLogger(stdout, Logging.Info));"
   ]
  },
  {
   "cell_type": "code",
   "execution_count": 8,
   "metadata": {},
   "outputs": [],
   "source": [
    "using PorousMaterials, MOFun"
   ]
  },
  {
   "cell_type": "code",
   "execution_count": 9,
   "metadata": {},
   "outputs": [],
   "source": [
    "s_moty = moiety(\"find-replace/2-!-p-phenylene\")\n",
    "r_moty = moiety(\"2-acetylamido-p-phenylene\")\n",
    "parent = Crystal(\"IRMOF-1.cif\")\n",
    "strip_numbers_from_atom_labels!(parent)\n",
    "infer_bonds!(parent, true)\n",
    "search = s_moty ∈ parent;"
   ]
  },
  {
   "cell_type": "code",
   "execution_count": 158,
   "metadata": {},
   "outputs": [
    {
     "data": {
      "text/plain": [
       "fndrplc (generic function with 2 methods)"
      ]
     },
     "execution_count": 158,
     "metadata": {},
     "output_type": "execute_result"
    }
   ],
   "source": [
    "function fndrplc(s_moty::Crystal, r_moty::Crystal, parent::Crystal;\n",
    "        configs::Array{Configuration}=Configuration[], \n",
    "        search::Search=Search(),\n",
    "        kwargs...)::Crystal\n",
    "    \n",
    "    # mutation guard\n",
    "    s_moty, r_moty = deepcopy.([s_moty, r_moty])\n",
    "    \n",
    "    # if search not specified, do it now\n",
    "\tsearch = MOFun.isequal(search, Search()) ? s_moty ∈ parent : search\n",
    "    # if there are no replacements to be made, just return the parent\n",
    "    if search.num_isomorphisms == 0\n",
    "        return parent\n",
    "    end\n",
    "    \n",
    "    # determine configuration index array\n",
    "    c = Int[]\n",
    "    if configs == Configuration[] # if configs not specified, choose one randomly\n",
    "        push!(c, rand(1:search.num_isomorphisms))\n",
    "    else # find indices of specified configs\n",
    "        for config in configs\n",
    "            for i in 1:search.num_isomorphisms\n",
    "                if search.results[i].configuration == config\n",
    "                    push!(c, i)\n",
    "                    break\n",
    "                end\n",
    "            end\n",
    "        end\n",
    "    end\n",
    "    \n",
    "    # determine s_mask (which atoms from s_moty are NOT in r_moty?)\n",
    "    mask = s_moty[MOFun.idx_filter(s_moty, MOFun.r_group_indices(s_moty))]\n",
    "    s_mask_atoms = mask.atoms\n",
    "    \n",
    "    # shift all r_moty nodes according to center of isomorphic subset\n",
    "    m2r_isom = (mask ∈ r_moty).results[1].isomorphism\n",
    "    r_moty.atoms.coords.xf .-= MOFun.geometric_center(r_moty[m2r_isom])\n",
    "    \n",
    "    # loop over configs to build replacement data\n",
    "    species = Symbol[]\n",
    "    fx = Array{Float64, 2}\n",
    "    xrms = Crystal[]\n",
    "    del_atoms = Int[]\n",
    "    for cᵢ in c\n",
    "        ## get new atom data\n",
    "        \n",
    "        # find isomorphism\n",
    "        s2p_isom = search.results[cᵢ].isomorphism\n",
    "        \n",
    "        # find parent subset\n",
    "        parent_subset = deepcopy(parent[s2p_isom])\n",
    "        \n",
    "        # adjust coordinates for periodic boundaries\n",
    "        MOFun.adjust_for_pb!(parent_subset)\n",
    "        \n",
    "        # record the center of xtal_subset so we can translate back later\n",
    "        parent_subset_center = MOFun.geometric_center(parent_subset)\n",
    "        \n",
    "        # shift to align centers at origin\n",
    "        MOFun.center_on_self!.([parent_subset, s_moty])\n",
    "        \n",
    "        # do orthog. Procrustes for s_moty-to-parent and mask-to-replacement alignments\n",
    "        rot_s2p = MOFun.s2p_op(s_moty, parent_subset)\n",
    "        rot_r2m = MOFun.r2m_op(r_moty, s_moty, m2r_isom, s_mask_atoms)\n",
    "        \n",
    "        # transform r_moty by rot_r2m, rot_s2p, and xtal_subset_center, align to parent\n",
    "        # (this is now a crystal to add)\n",
    "        xrm = MOFun.xform_r_moty(r_moty, rot_r2m, rot_s2p, parent_subset_center, parent)\n",
    "        push!(xrms, xrm)\n",
    "        \n",
    "        # push obsolete atoms to array\n",
    "        for x in s2p_isom\n",
    "            push!(del_atoms, x) # this can create duplicates; remove them later\n",
    "        end\n",
    "        \n",
    "        # TODO push new bonds to dictionary\n",
    "    end\n",
    "    \n",
    "    # clean up del_atoms\n",
    "    del_atoms = unique(del_atoms)\n",
    "    \n",
    "    # build new crystal\n",
    "    name = \"TODO\" # TODO\n",
    "    atoms = parent.atoms + sum([xrm.atoms for xrm in xrms])\n",
    "    xtal = Crystal(name, parent.box, atoms, Charges{Frac}(0))\n",
    "    \n",
    "    # TODO append temporary crystals to parent\n",
    "    \n",
    "    # TODO create bonds from dictionary\n",
    "    \n",
    "    # delete atoms from array\n",
    "    xtal = xtal[[x for x in 1:xtal.atoms.n if !(x ∈ del_atoms)]]\n",
    "    \n",
    "    # return result\n",
    "    return xtal\n",
    "end\n",
    "\n",
    "function fndrplc(s, r, p; config, kwargs...)\n",
    "    return fndrplc(s, r, p, configs=[config], kwargs...)\n",
    "end"
   ]
  },
  {
   "cell_type": "code",
   "execution_count": 159,
   "metadata": {},
   "outputs": [
    {
     "data": {
      "text/plain": [
       "Name: TODO\n",
       "Bravais unit cell of a crystal.\n",
       "\tUnit cell angles α = 90.000000 deg. β = 90.000000 deg. γ = 90.000000 deg.\n",
       "\tUnit cell dimensions a = 25.832000 Å. b = 25.832000 Å, c = 25.832000 Å\n",
       "\tVolume of unit cell: 17237.492730 Å³\n",
       "\n",
       "\t# atoms = 438\n",
       "\t# charges = 0\n",
       "\tchemical formula: Dict(:N => 1,:Zn => 16,:H => 51,:O => 53,:C => 98)\n",
       "\tspace Group: P1\n",
       "\tsymmetry Operations:\n",
       "\t\t'x, y, z'\n"
      ]
     },
     "execution_count": 159,
     "metadata": {},
     "output_type": "execute_result"
    }
   ],
   "source": [
    "xtal = fndrplc(s_moty, r_moty, parent, search=search, configs=[Configuration(1,1), Configuration(2,1)])"
   ]
  },
  {
   "cell_type": "code",
   "execution_count": 153,
   "metadata": {},
   "outputs": [],
   "source": [
    "write_cif(xtal, \"OUTPUT\")"
   ]
  },
  {
   "cell_type": "code",
   "execution_count": null,
   "metadata": {},
   "outputs": [],
   "source": []
  }
 ],
 "metadata": {
  "kernelspec": {
   "display_name": "Julia 1.4.2",
   "language": "julia",
   "name": "julia-1.4"
  },
  "language_info": {
   "file_extension": ".jl",
   "mimetype": "application/julia",
   "name": "julia",
   "version": "1.4.2"
  }
 },
 "nbformat": 4,
 "nbformat_minor": 4
}
